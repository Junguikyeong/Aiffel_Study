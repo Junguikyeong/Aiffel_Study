{
 "cells": [
  {
   "cell_type": "markdown",
   "id": "abandoned-yorkshire",
   "metadata": {},
   "source": [
    "# 1. 데이터 수집하기"
   ]
  },
  {
   "cell_type": "code",
   "execution_count": 4,
   "id": "danish-europe",
   "metadata": {},
   "outputs": [],
   "source": [
    "import nltk\n",
    "import numpy as np\n",
    "import pandas as pd\n",
    "import os\n",
    "import re\n",
    "import matplotlib.pyplot as plt\n",
    "from nltk.corpus import stopwords\n",
    "from bs4 import BeautifulSoup \n",
    "from tensorflow.keras.preprocessing.text import Tokenizer \n",
    "from tensorflow.keras.preprocessing.sequence import pad_sequences\n",
    "import urllib.request\n",
    "urllib.request.urlretrieve(\"https://raw.githubusercontent.com/sunnysai12345/News_Summary/master/news_summary_more.csv\", filename=\"news_summary_more.csv\")\n",
    "data = pd.read_csv('news_summary_more.csv', encoding='iso-8859-1')"
   ]
  },
  {
   "cell_type": "code",
   "execution_count": 5,
   "id": "accomplished-jefferson",
   "metadata": {},
   "outputs": [
    {
     "name": "stdout",
     "output_type": "stream",
     "text": [
      "98401\n"
     ]
    }
   ],
   "source": [
    "print(len(data))"
   ]
  },
  {
   "cell_type": "code",
   "execution_count": 6,
   "id": "celtic-postage",
   "metadata": {},
   "outputs": [
    {
     "data": {
      "text/html": [
       "<div>\n",
       "<style scoped>\n",
       "    .dataframe tbody tr th:only-of-type {\n",
       "        vertical-align: middle;\n",
       "    }\n",
       "\n",
       "    .dataframe tbody tr th {\n",
       "        vertical-align: top;\n",
       "    }\n",
       "\n",
       "    .dataframe thead th {\n",
       "        text-align: right;\n",
       "    }\n",
       "</style>\n",
       "<table border=\"1\" class=\"dataframe\">\n",
       "  <thead>\n",
       "    <tr style=\"text-align: right;\">\n",
       "      <th></th>\n",
       "      <th>headlines</th>\n",
       "      <th>text</th>\n",
       "    </tr>\n",
       "  </thead>\n",
       "  <tbody>\n",
       "    <tr>\n",
       "      <th>26642</th>\n",
       "      <td>Nikola Tesla once worked for his arch rival Th...</td>\n",
       "      <td>Born on July 10, 1856, Serbian inventor Nikola...</td>\n",
       "    </tr>\n",
       "    <tr>\n",
       "      <th>94390</th>\n",
       "      <td>AI pilot grounded for 3 months after failing a...</td>\n",
       "      <td>An Air India pilot has been grounded for three...</td>\n",
       "    </tr>\n",
       "    <tr>\n",
       "      <th>43493</th>\n",
       "      <td>What is Neuroendocrine Tumour that has affecte...</td>\n",
       "      <td>Bollywood actor Irrfan Khan on Friday revealed...</td>\n",
       "    </tr>\n",
       "    <tr>\n",
       "      <th>67584</th>\n",
       "      <td>1 officer, 4 civilians injured in terror attac...</td>\n",
       "      <td>At least one police officer and four civilians...</td>\n",
       "    </tr>\n",
       "    <tr>\n",
       "      <th>94034</th>\n",
       "      <td>'World's littlest skyscraper' is only 40 feet ...</td>\n",
       "      <td>The 40-feet-tall Newby-McMahon building in Tex...</td>\n",
       "    </tr>\n",
       "    <tr>\n",
       "      <th>50828</th>\n",
       "      <td>First canned beer was sold 83 years ago</td>\n",
       "      <td>The first ever canned beer was sold on January...</td>\n",
       "    </tr>\n",
       "    <tr>\n",
       "      <th>71607</th>\n",
       "      <td>Egypt to repair synagogue in city of eight Jews</td>\n",
       "      <td>The Egyptian government is set to repair the E...</td>\n",
       "    </tr>\n",
       "    <tr>\n",
       "      <th>70458</th>\n",
       "      <td>How much will iPhone 8, 8 Plus and iPhone X co...</td>\n",
       "      <td>The iPhone 8 and 8 Plus, which come with glass...</td>\n",
       "    </tr>\n",
       "    <tr>\n",
       "      <th>4228</th>\n",
       "      <td>UP constable returning from PM's rally killed ...</td>\n",
       "      <td>An Uttar Pradesh Police constable, identified ...</td>\n",
       "    </tr>\n",
       "    <tr>\n",
       "      <th>81839</th>\n",
       "      <td>Tesla no more US' biggest carmaker as stock ta...</td>\n",
       "      <td>Tesla has lost the title of being the most val...</td>\n",
       "    </tr>\n",
       "  </tbody>\n",
       "</table>\n",
       "</div>"
      ],
      "text/plain": [
       "                                               headlines  \\\n",
       "26642  Nikola Tesla once worked for his arch rival Th...   \n",
       "94390  AI pilot grounded for 3 months after failing a...   \n",
       "43493  What is Neuroendocrine Tumour that has affecte...   \n",
       "67584  1 officer, 4 civilians injured in terror attac...   \n",
       "94034  'World's littlest skyscraper' is only 40 feet ...   \n",
       "50828            First canned beer was sold 83 years ago   \n",
       "71607    Egypt to repair synagogue in city of eight Jews   \n",
       "70458  How much will iPhone 8, 8 Plus and iPhone X co...   \n",
       "4228   UP constable returning from PM's rally killed ...   \n",
       "81839  Tesla no more US' biggest carmaker as stock ta...   \n",
       "\n",
       "                                                    text  \n",
       "26642  Born on July 10, 1856, Serbian inventor Nikola...  \n",
       "94390  An Air India pilot has been grounded for three...  \n",
       "43493  Bollywood actor Irrfan Khan on Friday revealed...  \n",
       "67584  At least one police officer and four civilians...  \n",
       "94034  The 40-feet-tall Newby-McMahon building in Tex...  \n",
       "50828  The first ever canned beer was sold on January...  \n",
       "71607  The Egyptian government is set to repair the E...  \n",
       "70458  The iPhone 8 and 8 Plus, which come with glass...  \n",
       "4228   An Uttar Pradesh Police constable, identified ...  \n",
       "81839  Tesla has lost the title of being the most val...  "
      ]
     },
     "execution_count": 6,
     "metadata": {},
     "output_type": "execute_result"
    }
   ],
   "source": [
    "data.sample(10)"
   ]
  },
  {
   "cell_type": "code",
   "execution_count": 12,
   "id": "boring-producer",
   "metadata": {},
   "outputs": [
    {
     "name": "stdout",
     "output_type": "stream",
     "text": [
      "headlines 열에서 중복을 배제한 유일한 샘플의 수 : 98280\n",
      "text 열에서 중복을 배제한 유일한 샘플의 수 : 98360\n"
     ]
    }
   ],
   "source": [
    "print('headlines 열에서 중복을 배제한 유일한 샘플의 수 :', data['headlines'].nunique())\n",
    "print('text 열에서 중복을 배제한 유일한 샘플의 수 :', data['text'].nunique())"
   ]
  },
  {
   "cell_type": "markdown",
   "id": "large-lease",
   "metadata": {},
   "source": [
    "headline은 같을 수가 있지만 text는 달라야하기에 text자체가 중복이 된 경우는 중복 샘플이므로 제거."
   ]
  },
  {
   "cell_type": "code",
   "execution_count": 13,
   "id": "parental-suffering",
   "metadata": {},
   "outputs": [
    {
     "name": "stdout",
     "output_type": "stream",
     "text": [
      "전체 샘플수 : 98360\n"
     ]
    }
   ],
   "source": [
    "data.drop_duplicates(subset = ['text'], inplace=True)\n",
    "print('전체 샘플수 :', (len(data)))"
   ]
  },
  {
   "cell_type": "code",
   "execution_count": 14,
   "id": "acknowledged-sessions",
   "metadata": {},
   "outputs": [
    {
     "name": "stdout",
     "output_type": "stream",
     "text": [
      "headlines    0\n",
      "text         0\n",
      "dtype: int64\n"
     ]
    }
   ],
   "source": [
    "print(data.isnull().sum())"
   ]
  },
  {
   "cell_type": "markdown",
   "id": "controlling-recording",
   "metadata": {},
   "source": [
    "# 2. 데이터 전처리하기 (추상적 요약)"
   ]
  },
  {
   "cell_type": "markdown",
   "id": "premium-crisis",
   "metadata": {},
   "source": [
    "텍스트 정규화(text normalization)"
   ]
  },
  {
   "cell_type": "code",
   "execution_count": 15,
   "id": "better-hampton",
   "metadata": {},
   "outputs": [
    {
     "name": "stdout",
     "output_type": "stream",
     "text": [
      "정규화 사전의 수:  120\n"
     ]
    }
   ],
   "source": [
    "contractions = {\"ain't\": \"is not\", \"aren't\": \"are not\",\"can't\": \"cannot\", \"'cause\": \"because\", \"could've\": \"could have\", \"couldn't\": \"could not\",\n",
    "                           \"didn't\": \"did not\",  \"doesn't\": \"does not\", \"don't\": \"do not\", \"hadn't\": \"had not\", \"hasn't\": \"has not\", \"haven't\": \"have not\",\n",
    "                           \"he'd\": \"he would\",\"he'll\": \"he will\", \"he's\": \"he is\", \"how'd\": \"how did\", \"how'd'y\": \"how do you\", \"how'll\": \"how will\", \"how's\": \"how is\",\n",
    "                           \"I'd\": \"I would\", \"I'd've\": \"I would have\", \"I'll\": \"I will\", \"I'll've\": \"I will have\",\"I'm\": \"I am\", \"I've\": \"I have\", \"i'd\": \"i would\",\n",
    "                           \"i'd've\": \"i would have\", \"i'll\": \"i will\",  \"i'll've\": \"i will have\",\"i'm\": \"i am\", \"i've\": \"i have\", \"isn't\": \"is not\", \"it'd\": \"it would\",\n",
    "                           \"it'd've\": \"it would have\", \"it'll\": \"it will\", \"it'll've\": \"it will have\",\"it's\": \"it is\", \"let's\": \"let us\", \"ma'am\": \"madam\",\n",
    "                           \"mayn't\": \"may not\", \"might've\": \"might have\",\"mightn't\": \"might not\",\"mightn't've\": \"might not have\", \"must've\": \"must have\",\n",
    "                           \"mustn't\": \"must not\", \"mustn't've\": \"must not have\", \"needn't\": \"need not\", \"needn't've\": \"need not have\",\"o'clock\": \"of the clock\",\n",
    "                           \"oughtn't\": \"ought not\", \"oughtn't've\": \"ought not have\", \"shan't\": \"shall not\", \"sha'n't\": \"shall not\", \"shan't've\": \"shall not have\",\n",
    "                           \"she'd\": \"she would\", \"she'd've\": \"she would have\", \"she'll\": \"she will\", \"she'll've\": \"she will have\", \"she's\": \"she is\",\n",
    "                           \"should've\": \"should have\", \"shouldn't\": \"should not\", \"shouldn't've\": \"should not have\", \"so've\": \"so have\",\"so's\": \"so as\",\n",
    "                           \"this's\": \"this is\",\"that'd\": \"that would\", \"that'd've\": \"that would have\", \"that's\": \"that is\", \"there'd\": \"there would\",\n",
    "                           \"there'd've\": \"there would have\", \"there's\": \"there is\", \"here's\": \"here is\",\"they'd\": \"they would\", \"they'd've\": \"they would have\",\n",
    "                           \"they'll\": \"they will\", \"they'll've\": \"they will have\", \"they're\": \"they are\", \"they've\": \"they have\", \"to've\": \"to have\",\n",
    "                           \"wasn't\": \"was not\", \"we'd\": \"we would\", \"we'd've\": \"we would have\", \"we'll\": \"we will\", \"we'll've\": \"we will have\", \"we're\": \"we are\",\n",
    "                           \"we've\": \"we have\", \"weren't\": \"were not\", \"what'll\": \"what will\", \"what'll've\": \"what will have\", \"what're\": \"what are\",\n",
    "                           \"what's\": \"what is\", \"what've\": \"what have\", \"when's\": \"when is\", \"when've\": \"when have\", \"where'd\": \"where did\", \"where's\": \"where is\",\n",
    "                           \"where've\": \"where have\", \"who'll\": \"who will\", \"who'll've\": \"who will have\", \"who's\": \"who is\", \"who've\": \"who have\",\n",
    "                           \"why's\": \"why is\", \"why've\": \"why have\", \"will've\": \"will have\", \"won't\": \"will not\", \"won't've\": \"will not have\",\n",
    "                           \"would've\": \"would have\", \"wouldn't\": \"would not\", \"wouldn't've\": \"would not have\", \"y'all\": \"you all\",\n",
    "                           \"y'all'd\": \"you all would\",\"y'all'd've\": \"you all would have\",\"y'all're\": \"you all are\",\"y'all've\": \"you all have\",\n",
    "                           \"you'd\": \"you would\", \"you'd've\": \"you would have\", \"you'll\": \"you will\", \"you'll've\": \"you will have\",\n",
    "                           \"you're\": \"you are\", \"you've\": \"you have\"}\n",
    "\n",
    "print(\"정규화 사전의 수: \", len(contractions))"
   ]
  },
  {
   "cell_type": "code",
   "execution_count": 16,
   "id": "infinite-berkeley",
   "metadata": {},
   "outputs": [
    {
     "name": "stdout",
     "output_type": "stream",
     "text": [
      "불용어 개수 : 179\n",
      "['i', 'me', 'my', 'myself', 'we', 'our', 'ours', 'ourselves', 'you', \"you're\", \"you've\", \"you'll\", \"you'd\", 'your', 'yours', 'yourself', 'yourselves', 'he', 'him', 'his', 'himself', 'she', \"she's\", 'her', 'hers', 'herself', 'it', \"it's\", 'its', 'itself', 'they', 'them', 'their', 'theirs', 'themselves', 'what', 'which', 'who', 'whom', 'this', 'that', \"that'll\", 'these', 'those', 'am', 'is', 'are', 'was', 'were', 'be', 'been', 'being', 'have', 'has', 'had', 'having', 'do', 'does', 'did', 'doing', 'a', 'an', 'the', 'and', 'but', 'if', 'or', 'because', 'as', 'until', 'while', 'of', 'at', 'by', 'for', 'with', 'about', 'against', 'between', 'into', 'through', 'during', 'before', 'after', 'above', 'below', 'to', 'from', 'up', 'down', 'in', 'out', 'on', 'off', 'over', 'under', 'again', 'further', 'then', 'once', 'here', 'there', 'when', 'where', 'why', 'how', 'all', 'any', 'both', 'each', 'few', 'more', 'most', 'other', 'some', 'such', 'no', 'nor', 'not', 'only', 'own', 'same', 'so', 'than', 'too', 'very', 's', 't', 'can', 'will', 'just', 'don', \"don't\", 'should', \"should've\", 'now', 'd', 'll', 'm', 'o', 're', 've', 'y', 'ain', 'aren', \"aren't\", 'couldn', \"couldn't\", 'didn', \"didn't\", 'doesn', \"doesn't\", 'hadn', \"hadn't\", 'hasn', \"hasn't\", 'haven', \"haven't\", 'isn', \"isn't\", 'ma', 'mightn', \"mightn't\", 'mustn', \"mustn't\", 'needn', \"needn't\", 'shan', \"shan't\", 'shouldn', \"shouldn't\", 'wasn', \"wasn't\", 'weren', \"weren't\", 'won', \"won't\", 'wouldn', \"wouldn't\"]\n"
     ]
    }
   ],
   "source": [
    "print('불용어 개수 :', len(stopwords.words('english') ))\n",
    "print(stopwords.words('english'))"
   ]
  },
  {
   "cell_type": "code",
   "execution_count": 17,
   "id": "horizontal-question",
   "metadata": {},
   "outputs": [],
   "source": [
    "# 데이터 전처리 함수\n",
    "def preprocess_sentence(sentence, remove_stopwords=True):\n",
    "    sentence = sentence.lower() # 텍스트 소문자화\n",
    "    sentence = BeautifulSoup(sentence, \"lxml\").text # <br />, <a href = ...> 등의 html 태그 제거\n",
    "    sentence = re.sub(r'\\([^)]*\\)', '', sentence) # 괄호로 닫힌 문자열 (...) 제거 Ex) my husband (and myself!) for => my husband for\n",
    "    sentence = re.sub('\"','', sentence) # 쌍따옴표 \" 제거\n",
    "    sentence = ' '.join([contractions[t] if t in contractions else t for t in sentence.split(\" \")]) # 약어 정규화\n",
    "    sentence = re.sub(r\"'s\\b\",\"\", sentence) # 소유격 제거. Ex) roland's -> roland\n",
    "    sentence = re.sub(\"[^a-zA-Z]\", \" \", sentence) # 영어 외 문자(숫자, 특수문자 등) 공백으로 변환\n",
    "    sentence = re.sub('[m]{2,}', 'mm', sentence) # m이 3개 이상이면 2개로 변경. Ex) ummmmmmm yeah -> umm yeah\n",
    "    \n",
    "    # 불용어 제거 (Text)\n",
    "    if remove_stopwords:\n",
    "        tokens = ' '.join(word for word in sentence.split() if not word in stopwords.words('english') if len(word) > 1)\n",
    "    # 불용어 미제거 (headlines)\n",
    "    else:\n",
    "        tokens = ' '.join(word for word in sentence.split() if len(word) > 1)\n",
    "    return tokens"
   ]
  },
  {
   "cell_type": "code",
   "execution_count": 18,
   "id": "exclusive-chicken",
   "metadata": {},
   "outputs": [
    {
     "name": "stdout",
     "output_type": "stream",
     "text": [
      "424.4634108543396  seconds\n",
      "['saurav kant alumnus upgrad iiit pg program machine learning artificial intelligence sr systems engineer infosys almost years work experience program upgrad degree career support helped transition data scientist tech mahindra salary hike upgrad online power learning powered lakh careers'\n",
      " 'kunal shah credit card bill payment platform cred gave users chance win free food swiggy one year pranav kaushik delhi techie bagged reward spending cred coins users get one cred coin per rupee bill paid used avail rewards brands like ixigo bookmyshow ubereats cult fit'\n",
      " 'new zealand defeated india wickets fourth odi hamilton thursday win first match five match odi series india lost international match rohit sharma captaincy consecutive victories dating back march match witnessed india getting seventh lowest total odi cricket history'\n",
      " ...\n",
      " 'according reports new version science fiction film matrix development michael jordan reportedly play lead role film screenwriter zak penn talks write script film reports added actor keanu reeves starred original film followed two sequels'\n",
      " 'new music video shows rapper snoop dogg aiming toy gun clown character parodying us president donald trump video also shows tv airing news conference headline ronald klump wants deport doggs airing live clown house video remixed version song lavender'\n",
      " 'madhesi morcha alliance seven political parties withdrawn support pm pushpa kamal dahal led nepal government failed meet seven day ultimatum fulfil demands including endorsement revised constitution amendment bill morcha seats parliament despite withdrawal support immediate threat government']\n",
      "12.904635190963745  seconds\n",
      "['upgrad learner switches to career in ml al with salary hike'\n",
      " 'delhi techie wins free food from swiggy for one year on cred'\n",
      " 'new zealand end rohit sharma led india match winning streak' ...\n",
      " 'the matrix film to get reboot reports'\n",
      " 'snoop dogg aims gun at clown dressed as trump in new video'\n",
      " 'madhesi morcha withdraws support to nepalese government']\n"
     ]
    }
   ],
   "source": [
    "import multiprocessing as mp   # 멀티 프로세싱으로 전처리 속도를 획기적으로 줄여봅시다\n",
    "from multiprocessing import Pool\n",
    "import numpy as np\n",
    "import time\n",
    "from functools import partial  # map을 할 때 함수에 여러 인자를 넣어줄 수 있도록 합니다\n",
    "\n",
    "start = time.time()\n",
    "\n",
    "# num_cores 만큼 쪼개진 데이터를 전처리하여 반환합니다\n",
    "def appendTexts(sentences, remove_stopwords):\n",
    "    texts = []\n",
    "    for s in sentences:\n",
    "        texts += preprocess_sentence(s, remove_stopwords),\n",
    "    return texts\n",
    "\n",
    "def preprocess_data(data, remove_stopwords=True):\n",
    "    start_time = time.time()\n",
    "    num_cores = mp.cpu_count()  # 컴퓨터의 코어 수를 구합니다\n",
    "\n",
    "    text_data_split = np.array_split(data, num_cores)  # 코어 수만큼 데이터를 배분하여 병렬적으로 처리할 수 있게 합니다\n",
    "    pool = Pool(num_cores)\n",
    "\n",
    "    processed_data = np.concatenate(pool.map(partial(appendTexts, remove_stopwords=remove_stopwords), text_data_split))  # 각자 작업한 데이터를 하나로 합쳐줍니다\n",
    "    pool.close()\n",
    "    pool.join()\n",
    "    print(time.time() - start_time, \" seconds\")\n",
    "    return processed_data\n",
    "\n",
    "clean_text = preprocess_data(data['text'])  # 클라우드 기준으로 3~4분 정도 소요 됩니다\n",
    "print(clean_text)\n",
    "\n",
    "clean_headlines = preprocess_data(data['headlines'], remove_stopwords=False) # 클라우드 기준 1분정도 소요됩니다.\n",
    "print(clean_headlines)"
   ]
  },
  {
   "cell_type": "code",
   "execution_count": 26,
   "id": "narrative-needle",
   "metadata": {},
   "outputs": [],
   "source": [
    "data['text'] = clean_text\n",
    "data['headlines'] = clean_headlines\n",
    "\n",
    "# 빈 값을 Null 값으로 변환\n",
    "data.replace('', np.nan, inplace=True)"
   ]
  },
  {
   "cell_type": "code",
   "execution_count": 27,
   "id": "emotional-dover",
   "metadata": {},
   "outputs": [
    {
     "data": {
      "text/plain": [
       "headlines    0\n",
       "text         0\n",
       "dtype: int64"
      ]
     },
     "execution_count": 27,
     "metadata": {},
     "output_type": "execute_result"
    }
   ],
   "source": [
    "data.isnull().sum()"
   ]
  },
  {
   "cell_type": "markdown",
   "id": "innovative-arrest",
   "metadata": {},
   "source": [
    "Text와 Summary의 최소, 최대, 평균 길이를 구하고 또한 길이 분포를 시각화"
   ]
  },
  {
   "cell_type": "code",
   "execution_count": 30,
   "id": "helpful-verse",
   "metadata": {},
   "outputs": [
    {
     "name": "stdout",
     "output_type": "stream",
     "text": [
      "텍스트의 최소 길이 : 1\n",
      "텍스트의 최대 길이 : 60\n",
      "텍스트의 평균 길이 : 35.09968483123221\n",
      "요약의 최소 길이 : 1\n",
      "요약의 최대 길이 : 16\n",
      "요약의 평균 길이 : 9.299532330215534\n"
     ]
    },
    {
     "data": {
      "image/png": "[encoded data removed]",
      "text/plain": [
       "<Figure size 432x288 with 2 Axes>"
      ]
     },
     "metadata": {
      "needs_background": "light"
     },
     "output_type": "display_data"
    },
    {
     "data": {
      "image/png": "[encoded data removed]",
      "text/plain": [
       "<Figure size 432x288 with 1 Axes>"
      ]
     },
     "metadata": {
      "needs_background": "light"
     },
     "output_type": "display_data"
    },
    {
     "data": {
      "image/png": "[encoded data removed]",
      "text/plain": [
       "<Figure size 432x288 with 1 Axes>"
      ]
     },
     "metadata": {
      "needs_background": "light"
     },
     "output_type": "display_data"
    }
   ],
   "source": [
    "# 길이 분포 출력\n",
    "import matplotlib.pyplot as plt\n",
    "\n",
    "text_len = [len(s.split()) for s in data['text']]\n",
    "headlines_len = [len(s.split()) for s in data['headlines']]\n",
    "\n",
    "print('텍스트의 최소 길이 : {}'.format(np.min(text_len)))\n",
    "print('텍스트의 최대 길이 : {}'.format(np.max(text_len)))\n",
    "print('텍스트의 평균 길이 : {}'.format(np.mean(text_len)))\n",
    "print('요약의 최소 길이 : {}'.format(np.min(headlines_len)))\n",
    "print('요약의 최대 길이 : {}'.format(np.max(headlines_len)))\n",
    "print('요약의 평균 길이 : {}'.format(np.mean(headlines_len)))\n",
    "\n",
    "plt.subplot(1,2,1)\n",
    "plt.boxplot(headlines_len)\n",
    "plt.title('headlines')\n",
    "plt.subplot(1,2,2)\n",
    "plt.boxplot(text_len)\n",
    "plt.title('text')\n",
    "plt.tight_layout()\n",
    "plt.show()\n",
    "\n",
    "plt.title('headlines')\n",
    "plt.hist(headlines_len, bins = 40)\n",
    "plt.xlabel('length of samples')\n",
    "plt.ylabel('number of samples')\n",
    "plt.show()\n",
    "\n",
    "plt.title('text')\n",
    "plt.hist(text_len, bins = 40)\n",
    "plt.xlabel('length of samples')\n",
    "plt.ylabel('number of samples')\n",
    "plt.show()"
   ]
  },
  {
   "cell_type": "markdown",
   "id": "meaning-balloon",
   "metadata": {},
   "source": [
    "text,headlines 최대길이 임의로 설정"
   ]
  },
  {
   "cell_type": "code",
   "execution_count": 32,
   "id": "unlikely-reggae",
   "metadata": {},
   "outputs": [],
   "source": [
    "text_max_len = 45\n",
    "headlines_max_len = 13"
   ]
  },
  {
   "cell_type": "code",
   "execution_count": 33,
   "id": "premier-indicator",
   "metadata": {},
   "outputs": [],
   "source": [
    "def below_threshold_len(max_len, nested_list):\n",
    "    cnt = 0\n",
    "    for s in nested_list:\n",
    "        if(len(s.split()) <= max_len):\n",
    "            cnt = cnt + 1\n",
    "    print('전체 샘플 중 길이가 %s 이하인 샘플의 비율: %s'%(max_len, (cnt / len(nested_list))))"
   ]
  },
  {
   "cell_type": "code",
   "execution_count": 35,
   "id": "obvious-august",
   "metadata": {},
   "outputs": [
    {
     "name": "stdout",
     "output_type": "stream",
     "text": [
      "전체 샘플 중 길이가 45 이하인 샘플의 비율: 0.9967771451809678\n",
      "전체 샘플 중 길이가 13 이하인 샘플의 비율: 0.9981699877999186\n"
     ]
    }
   ],
   "source": [
    "below_threshold_len(text_max_len, data['text'])\n",
    "below_threshold_len(headlines_max_len,  data['headlines'])"
   ]
  },
  {
   "cell_type": "code",
   "execution_count": 36,
   "id": "regulation-argentina",
   "metadata": {},
   "outputs": [
    {
     "name": "stdout",
     "output_type": "stream",
     "text": [
      "전체 샘플수 : 97863\n"
     ]
    }
   ],
   "source": [
    "data = data[data['text'].apply(lambda x: len(x.split()) <= text_max_len)]\n",
    "data = data[data['headlines'].apply(lambda x: len(x.split()) <= headlines_max_len)]\n",
    "print('전체 샘플수 :', (len(data)))"
   ]
  },
  {
   "cell_type": "markdown",
   "id": "prescribed-concern",
   "metadata": {},
   "source": [
    "**시작 토큰과 종료 토큰 추가하기**"
   ]
  },
  {
   "cell_type": "code",
   "execution_count": 39,
   "id": "czech-password",
   "metadata": {},
   "outputs": [
    {
     "data": {
      "text/html": [
       "<div>\n",
       "<style scoped>\n",
       "    .dataframe tbody tr th:only-of-type {\n",
       "        vertical-align: middle;\n",
       "    }\n",
       "\n",
       "    .dataframe tbody tr th {\n",
       "        vertical-align: top;\n",
       "    }\n",
       "\n",
       "    .dataframe thead th {\n",
       "        text-align: right;\n",
       "    }\n",
       "</style>\n",
       "<table border=\"1\" class=\"dataframe\">\n",
       "  <thead>\n",
       "    <tr style=\"text-align: right;\">\n",
       "      <th></th>\n",
       "      <th>headlines</th>\n",
       "      <th>text</th>\n",
       "      <th>decoder_input</th>\n",
       "      <th>decoder_target</th>\n",
       "    </tr>\n",
       "  </thead>\n",
       "  <tbody>\n",
       "    <tr>\n",
       "      <th>0</th>\n",
       "      <td>upgrad learner switches to career in ml al wit...</td>\n",
       "      <td>saurav kant alumnus upgrad iiit pg program mac...</td>\n",
       "      <td>sostoken upgrad learner switches to career in ...</td>\n",
       "      <td>upgrad learner switches to career in ml al wit...</td>\n",
       "    </tr>\n",
       "    <tr>\n",
       "      <th>1</th>\n",
       "      <td>delhi techie wins free food from swiggy for on...</td>\n",
       "      <td>kunal shah credit card bill payment platform c...</td>\n",
       "      <td>sostoken delhi techie wins free food from swig...</td>\n",
       "      <td>delhi techie wins free food from swiggy for on...</td>\n",
       "    </tr>\n",
       "    <tr>\n",
       "      <th>2</th>\n",
       "      <td>new zealand end rohit sharma led india match w...</td>\n",
       "      <td>new zealand defeated india wickets fourth odi ...</td>\n",
       "      <td>sostoken new zealand end rohit sharma led indi...</td>\n",
       "      <td>new zealand end rohit sharma led india match w...</td>\n",
       "    </tr>\n",
       "    <tr>\n",
       "      <th>3</th>\n",
       "      <td>aegon life iterm insurance plan helps customer...</td>\n",
       "      <td>aegon life iterm insurance plan customers enjo...</td>\n",
       "      <td>sostoken aegon life iterm insurance plan helps...</td>\n",
       "      <td>aegon life iterm insurance plan helps customer...</td>\n",
       "    </tr>\n",
       "    <tr>\n",
       "      <th>4</th>\n",
       "      <td>have known hirani for yrs what if metoo claims...</td>\n",
       "      <td>speaking sexual harassment allegations rajkuma...</td>\n",
       "      <td>sostoken have known hirani for yrs what if met...</td>\n",
       "      <td>have known hirani for yrs what if metoo claims...</td>\n",
       "    </tr>\n",
       "  </tbody>\n",
       "</table>\n",
       "</div>"
      ],
      "text/plain": [
       "                                           headlines  \\\n",
       "0  upgrad learner switches to career in ml al wit...   \n",
       "1  delhi techie wins free food from swiggy for on...   \n",
       "2  new zealand end rohit sharma led india match w...   \n",
       "3  aegon life iterm insurance plan helps customer...   \n",
       "4  have known hirani for yrs what if metoo claims...   \n",
       "\n",
       "                                                text  \\\n",
       "0  saurav kant alumnus upgrad iiit pg program mac...   \n",
       "1  kunal shah credit card bill payment platform c...   \n",
       "2  new zealand defeated india wickets fourth odi ...   \n",
       "3  aegon life iterm insurance plan customers enjo...   \n",
       "4  speaking sexual harassment allegations rajkuma...   \n",
       "\n",
       "                                       decoder_input  \\\n",
       "0  sostoken upgrad learner switches to career in ...   \n",
       "1  sostoken delhi techie wins free food from swig...   \n",
       "2  sostoken new zealand end rohit sharma led indi...   \n",
       "3  sostoken aegon life iterm insurance plan helps...   \n",
       "4  sostoken have known hirani for yrs what if met...   \n",
       "\n",
       "                                      decoder_target  \n",
       "0  upgrad learner switches to career in ml al wit...  \n",
       "1  delhi techie wins free food from swiggy for on...  \n",
       "2  new zealand end rohit sharma led india match w...  \n",
       "3  aegon life iterm insurance plan helps customer...  \n",
       "4  have known hirani for yrs what if metoo claims...  "
      ]
     },
     "execution_count": 39,
     "metadata": {},
     "output_type": "execute_result"
    }
   ],
   "source": [
    "# 헤드라인 데이터에는 시작 토큰과 종료 토큰을 추가한다.\n",
    "data['decoder_input'] = data['headlines'].apply(lambda x : 'sostoken '+ x)\n",
    "data['decoder_target'] = data['headlines'].apply(lambda x : x + ' eostoken')\n",
    "data.head()"
   ]
  },
  {
   "cell_type": "code",
   "execution_count": 41,
   "id": "greater-brief",
   "metadata": {},
   "outputs": [],
   "source": [
    "encoder_input = np.array(data['text']) # 인코더의 입력\n",
    "decoder_input = np.array(data['decoder_input']) # 디코더의 입력\n",
    "decoder_target = np.array(data['decoder_target']) # 디코더의 레이블"
   ]
  },
  {
   "cell_type": "markdown",
   "id": "sweet-plumbing",
   "metadata": {},
   "source": [
    "**훈련데이터와 테스트데이터 분리**"
   ]
  },
  {
   "cell_type": "code",
   "execution_count": 42,
   "id": "approximate-formation",
   "metadata": {},
   "outputs": [
    {
     "name": "stdout",
     "output_type": "stream",
     "text": [
      "[94625 34209 17488 ... 42352 15045 72905]\n"
     ]
    }
   ],
   "source": [
    "indices = np.arange(encoder_input.shape[0])\n",
    "np.random.shuffle(indices)\n",
    "print(indices)"
   ]
  },
  {
   "cell_type": "code",
   "execution_count": 43,
   "id": "flush-seminar",
   "metadata": {},
   "outputs": [],
   "source": [
    "encoder_input = encoder_input[indices]\n",
    "decoder_input = decoder_input[indices]\n",
    "decoder_target = decoder_target[indices]"
   ]
  },
  {
   "cell_type": "code",
   "execution_count": 44,
   "id": "packed-alabama",
   "metadata": {},
   "outputs": [
    {
     "name": "stdout",
     "output_type": "stream",
     "text": [
      "테스트 데이터의 수 : 19572\n"
     ]
    }
   ],
   "source": [
    "n_of_val = int(len(encoder_input)*0.2)\n",
    "print('테스트 데이터의 수 :', n_of_val)"
   ]
  },
  {
   "cell_type": "code",
   "execution_count": 45,
   "id": "alive-cigarette",
   "metadata": {},
   "outputs": [
    {
     "name": "stdout",
     "output_type": "stream",
     "text": [
      "훈련 데이터의 개수 : 78291\n",
      "훈련 레이블의 개수 : 78291\n",
      "테스트 데이터의 개수 : 19572\n",
      "테스트 레이블의 개수 : 19572\n"
     ]
    }
   ],
   "source": [
    "encoder_input_train = encoder_input[:-n_of_val]\n",
    "decoder_input_train = decoder_input[:-n_of_val]\n",
    "decoder_target_train = decoder_target[:-n_of_val]\n",
    "\n",
    "encoder_input_test = encoder_input[-n_of_val:]\n",
    "decoder_input_test = decoder_input[-n_of_val:]\n",
    "decoder_target_test = decoder_target[-n_of_val:]\n",
    "\n",
    "print('훈련 데이터의 개수 :', len(encoder_input_train))\n",
    "print('훈련 레이블의 개수 :', len(decoder_input_train))\n",
    "print('테스트 데이터의 개수 :', len(encoder_input_test))\n",
    "print('테스트 레이블의 개수 :', len(decoder_input_test))"
   ]
  },
  {
   "cell_type": "markdown",
   "id": "radical-stand",
   "metadata": {},
   "source": [
    "**단어 집합(vocabulary) 만들기 및 정수 인코딩**"
   ]
  },
  {
   "cell_type": "code",
   "execution_count": 46,
   "id": "yellow-warrant",
   "metadata": {},
   "outputs": [],
   "source": [
    "src_tokenizer = Tokenizer() # 토크나이저 정의\n",
    "src_tokenizer.fit_on_texts(encoder_input_train) # 입력된 데이터로부터 단어 집합 생성"
   ]
  },
  {
   "cell_type": "markdown",
   "id": "sacred-fountain",
   "metadata": {},
   "source": [
    "등장 빈도수가 7회 미만인 단어들이 이 데이터에서 얼만큼의 비중을 차지하는지 확인"
   ]
  },
  {
   "cell_type": "code",
   "execution_count": 47,
   "id": "exclusive-filing",
   "metadata": {},
   "outputs": [
    {
     "name": "stdout",
     "output_type": "stream",
     "text": [
      "단어 집합(vocabulary)의 크기 : 69265\n",
      "등장 빈도가 6번 이하인 희귀 단어의 수: 47199\n",
      "단어 집합에서 희귀 단어를 제외시킬 경우의 단어 집합의 크기 22066\n",
      "단어 집합에서 희귀 단어의 비율: 68.14264058326717\n",
      "전체 등장 빈도에서 희귀 단어 등장 빈도 비율: 3.499921126998647\n"
     ]
    }
   ],
   "source": [
    "threshold = 7\n",
    "total_cnt = len(src_tokenizer.word_index) # 단어의 수\n",
    "rare_cnt = 0 # 등장 빈도수가 threshold보다 작은 단어의 개수를 카운트\n",
    "total_freq = 0 # 훈련 데이터의 전체 단어 빈도수 총 합\n",
    "rare_freq = 0 # 등장 빈도수가 threshold보다 작은 단어의 등장 빈도수의 총 합\n",
    "\n",
    "# 단어와 빈도수의 쌍(pair)을 key와 value로 받는다.\n",
    "for key, value in src_tokenizer.word_counts.items():\n",
    "    total_freq = total_freq + value\n",
    "\n",
    "    # 단어의 등장 빈도수가 threshold보다 작으면\n",
    "    if(value < threshold):\n",
    "        rare_cnt = rare_cnt + 1\n",
    "        rare_freq = rare_freq + value\n",
    "\n",
    "print('단어 집합(vocabulary)의 크기 :', total_cnt)\n",
    "print('등장 빈도가 %s번 이하인 희귀 단어의 수: %s'%(threshold - 1, rare_cnt))\n",
    "print('단어 집합에서 희귀 단어를 제외시킬 경우의 단어 집합의 크기 %s'%(total_cnt - rare_cnt))\n",
    "print(\"단어 집합에서 희귀 단어의 비율:\", (rare_cnt / total_cnt)*100)\n",
    "print(\"전체 등장 빈도에서 희귀 단어 등장 빈도 비율:\", (rare_freq / total_freq)*100)"
   ]
  },
  {
   "cell_type": "markdown",
   "id": "dying-plate",
   "metadata": {},
   "source": [
    "등장 빈도수가 6회이하인 단어들이 70%를 차지하는데, 실제 훈련데이터에서는 3.49%밖에 안나온다.\n",
    "\n",
    "그래서 이단어들은 정수 인코딩 과정에서 빼고 훈련데이터에서 제거한다.\n",
    "이를 제외한 단어집희크기는 22000여개로 확인이 되어 22000개로 제한한다."
   ]
  },
  {
   "cell_type": "code",
   "execution_count": 48,
   "id": "reliable-witness",
   "metadata": {},
   "outputs": [],
   "source": [
    "src_vocab = 22000\n",
    "src_tokenizer = Tokenizer(num_words=src_vocab) # 단어 집합의 크기를 22,000으로 제한\n",
    "src_tokenizer.fit_on_texts(encoder_input_train) # 단어 집합 재생성."
   ]
  },
  {
   "cell_type": "code",
   "execution_count": 49,
   "id": "underlying-doctrine",
   "metadata": {},
   "outputs": [
    {
     "name": "stdout",
     "output_type": "stream",
     "text": [
      "[[3, 12, 2370, 37, 1001, 3184, 639, 10447, 364, 132, 1534, 46, 1632, 554, 2099, 5316, 408, 5689, 40, 10447, 1534, 59, 1170, 4442, 3290, 2246, 131, 23, 402, 5, 1064, 2274, 6084, 10447, 132, 1548, 15914, 4480, 449, 1105], [173, 10, 75, 8, 305, 114, 215, 24, 309, 31, 124, 408, 9, 868, 18307, 551, 16, 16573, 1, 868, 230, 753, 9, 2898, 154, 129, 256, 22, 674, 2046, 5130, 6154, 1625, 14210], [799, 424, 9630, 13732, 272, 541, 10024, 9121, 13732, 9121, 10024, 1883, 1330, 4064, 2546, 8376, 4120, 16574, 20595, 9630, 2652, 111, 4314, 791, 6300, 1883, 414, 25, 8376, 4120]]\n"
     ]
    }
   ],
   "source": [
    "# 텍스트 시퀀스를 정수 시퀀스로 변환\n",
    "encoder_input_train = src_tokenizer.texts_to_sequences(encoder_input_train) \n",
    "encoder_input_test = src_tokenizer.texts_to_sequences(encoder_input_test)\n",
    "\n",
    "# 잘 진행되었는지 샘플 출력\n",
    "print(encoder_input_train[:3])"
   ]
  },
  {
   "cell_type": "code",
   "execution_count": 50,
   "id": "statutory-terrain",
   "metadata": {},
   "outputs": [],
   "source": [
    "tar_tokenizer = Tokenizer()\n",
    "tar_tokenizer.fit_on_texts(decoder_input_train)"
   ]
  },
  {
   "cell_type": "code",
   "execution_count": 51,
   "id": "visible-israeli",
   "metadata": {},
   "outputs": [
    {
     "name": "stdout",
     "output_type": "stream",
     "text": [
      "단어 집합(vocabulary)의 크기 : 30047\n",
      "등장 빈도가 5번 이하인 희귀 단어의 수: 19635\n",
      "단어 집합에서 희귀 단어를 제외시킬 경우의 단어 집합의 크기 10412\n",
      "단어 집합에서 희귀 단어의 비율: 65.34762205877459\n",
      "전체 등장 빈도에서 희귀 단어 등장 빈도 비율: 4.650980976136406\n"
     ]
    }
   ],
   "source": [
    "threshold = 6\n",
    "total_cnt = len(tar_tokenizer.word_index) # 단어의 수\n",
    "rare_cnt = 0 # 등장 빈도수가 threshold보다 작은 단어의 개수를 카운트\n",
    "total_freq = 0 # 훈련 데이터의 전체 단어 빈도수 총 합\n",
    "rare_freq = 0 # 등장 빈도수가 threshold보다 작은 단어의 등장 빈도수의 총 합\n",
    "\n",
    "# 단어와 빈도수의 쌍(pair)을 key와 value로 받는다.\n",
    "for key, value in tar_tokenizer.word_counts.items():\n",
    "    total_freq = total_freq + value\n",
    "\n",
    "    # 단어의 등장 빈도수가 threshold보다 작으면\n",
    "    if(value < threshold):\n",
    "        rare_cnt = rare_cnt + 1\n",
    "        rare_freq = rare_freq + value\n",
    "\n",
    "print('단어 집합(vocabulary)의 크기 :', total_cnt)\n",
    "print('등장 빈도가 %s번 이하인 희귀 단어의 수: %s'%(threshold - 1, rare_cnt))\n",
    "print('단어 집합에서 희귀 단어를 제외시킬 경우의 단어 집합의 크기 %s'%(total_cnt - rare_cnt))\n",
    "print(\"단어 집합에서 희귀 단어의 비율:\", (rare_cnt / total_cnt)*100)\n",
    "print(\"전체 등장 빈도에서 희귀 단어 등장 빈도 비율:\", (rare_freq / total_freq)*100)"
   ]
  },
  {
   "cell_type": "markdown",
   "id": "derived-profit",
   "metadata": {},
   "source": [
    "이번에는 5회이하를 봤는데도 4.65%로 단어장의 크기를 약 10000개로 줄여야겠다"
   ]
  },
  {
   "cell_type": "code",
   "execution_count": 52,
   "id": "artificial-comment",
   "metadata": {},
   "outputs": [
    {
     "name": "stdout",
     "output_type": "stream",
     "text": [
      "input\n",
      "input  [[1, 20, 777, 1681, 1349, 5, 167, 388], [1, 74, 304, 4, 299, 24, 618, 4], [1, 8784, 215, 1590, 751, 974, 5, 228, 7], [1, 1156, 167, 160, 100, 419, 13], [1, 1051, 886, 2392, 6488, 503, 5, 2896]]\n",
      "target\n",
      "decoder  [[20, 777, 1681, 1349, 5, 167, 388, 2], [74, 304, 4, 299, 24, 618, 4, 2], [8784, 215, 1590, 751, 974, 5, 228, 7, 2], [1156, 167, 160, 100, 419, 13, 2], [1051, 886, 2392, 6488, 503, 5, 2896, 2]]\n"
     ]
    }
   ],
   "source": [
    "tar_vocab = 10000\n",
    "tar_tokenizer = Tokenizer(num_words=tar_vocab) \n",
    "tar_tokenizer.fit_on_texts(decoder_input_train)\n",
    "tar_tokenizer.fit_on_texts(decoder_target_train)\n",
    "\n",
    "# 텍스트 시퀀스를 정수 시퀀스로 변환\n",
    "decoder_input_train = tar_tokenizer.texts_to_sequences(decoder_input_train) \n",
    "decoder_target_train = tar_tokenizer.texts_to_sequences(decoder_target_train)\n",
    "decoder_input_test = tar_tokenizer.texts_to_sequences(decoder_input_test)\n",
    "decoder_target_test = tar_tokenizer.texts_to_sequences(decoder_target_test)\n",
    "\n",
    "# 잘 변환되었는지 확인\n",
    "print('input')\n",
    "print('input ',decoder_input_train[:5])\n",
    "print('target')\n",
    "print('decoder ',decoder_target_train[:5])"
   ]
  },
  {
   "cell_type": "code",
   "execution_count": 53,
   "id": "geographic-blank",
   "metadata": {},
   "outputs": [
    {
     "name": "stdout",
     "output_type": "stream",
     "text": [
      "삭제할 훈련 데이터의 개수 : 0\n",
      "삭제할 테스트 데이터의 개수 : 0\n"
     ]
    },
    {
     "name": "stderr",
     "output_type": "stream",
     "text": [
      "/opt/conda/lib/python3.7/site-packages/numpy/core/_asarray.py:83: VisibleDeprecationWarning: Creating an ndarray from ragged nested sequences (which is a list-or-tuple of lists-or-tuples-or ndarrays with different lengths or shapes) is deprecated. If you meant to do this, you must specify 'dtype=object' when creating the ndarray\n",
      "  return array(a, dtype, copy=False, order=order)\n"
     ]
    },
    {
     "name": "stdout",
     "output_type": "stream",
     "text": [
      "훈련 데이터의 개수 : 78291\n",
      "훈련 레이블의 개수 : 78291\n",
      "테스트 데이터의 개수 : 19572\n",
      "테스트 레이블의 개수 : 19572\n"
     ]
    }
   ],
   "source": [
    "drop_train = [index for index, sentence in enumerate(decoder_input_train) if len(sentence) == 1]\n",
    "drop_test = [index for index, sentence in enumerate(decoder_input_test) if len(sentence) == 1]\n",
    "\n",
    "print('삭제할 훈련 데이터의 개수 :', len(drop_train))\n",
    "print('삭제할 테스트 데이터의 개수 :', len(drop_test))\n",
    "\n",
    "encoder_input_train = np.delete(encoder_input_train, drop_train, axis=0)\n",
    "decoder_input_train = np.delete(decoder_input_train, drop_train, axis=0)\n",
    "decoder_target_train = np.delete(decoder_target_train, drop_train, axis=0)\n",
    "\n",
    "encoder_input_test = np.delete(encoder_input_test, drop_test, axis=0)\n",
    "decoder_input_test = np.delete(decoder_input_test, drop_test, axis=0)\n",
    "decoder_target_test = np.delete(decoder_target_test, drop_test, axis=0)\n",
    "\n",
    "print('훈련 데이터의 개수 :', len(encoder_input_train))\n",
    "print('훈련 레이블의 개수 :', len(decoder_input_train))\n",
    "print('테스트 데이터의 개수 :', len(encoder_input_test))\n",
    "print('테스트 레이블의 개수 :', len(decoder_input_test))"
   ]
  },
  {
   "cell_type": "markdown",
   "id": "acoustic-cambodia",
   "metadata": {},
   "source": [
    "**패딩**"
   ]
  },
  {
   "cell_type": "code",
   "execution_count": 55,
   "id": "italian-sculpture",
   "metadata": {},
   "outputs": [],
   "source": [
    "encoder_input_train = pad_sequences(encoder_input_train, maxlen=text_max_len, padding='post')\n",
    "encoder_input_test = pad_sequences(encoder_input_test, maxlen=text_max_len, padding='post')\n",
    "decoder_input_train = pad_sequences(decoder_input_train, maxlen=headlines_max_len, padding='post')\n",
    "decoder_target_train = pad_sequences(decoder_target_train, maxlen=headlines_max_len, padding='post')\n",
    "decoder_input_test = pad_sequences(decoder_input_test, maxlen=headlines_max_len, padding='post')\n",
    "decoder_target_test = pad_sequences(decoder_target_test, maxlen=headlines_max_len, padding='post')"
   ]
  },
  {
   "cell_type": "markdown",
   "id": "drawn-blood",
   "metadata": {},
   "source": [
    "# 3. 어텐션 메커니즘 사용하기 (추상적 요약)"
   ]
  },
  {
   "cell_type": "markdown",
   "id": "different-narrow",
   "metadata": {},
   "source": [
    "**seq2seq설계**"
   ]
  },
  {
   "cell_type": "code",
   "execution_count": 68,
   "id": "surprised-cabinet",
   "metadata": {},
   "outputs": [],
   "source": [
    "from tensorflow.keras.layers import Input, LSTM, Embedding, Dense, Concatenate\n",
    "from tensorflow.keras.models import Model\n",
    "from tensorflow.keras.callbacks import EarlyStopping, ModelCheckpoint\n",
    "\n",
    "\n",
    "# 인코더 설계 시작\n",
    "embedding_dim = 128\n",
    "hidden_size = 256\n",
    "\n",
    "# 인코더\n",
    "encoder_inputs = Input(shape=(text_max_len,))\n",
    "\n",
    "# 인코더의 임베딩 층\n",
    "enc_emb = Embedding(src_vocab, embedding_dim)(encoder_inputs)\n",
    "\n",
    "# 인코더의 LSTM 1\n",
    "encoder_lstm1 = LSTM(hidden_size, return_sequences=True, return_state=True ,dropout = 0.4)\n",
    "encoder_output1, state_h1, state_c1 = encoder_lstm1(enc_emb)\n",
    "\n",
    "# 인코더의 LSTM 2\n",
    "encoder_lstm2 = LSTM(hidden_size, return_sequences=True, return_state=True, dropout=0.4)\n",
    "encoder_output2, state_h2, state_c2 = encoder_lstm2(encoder_output1)\n",
    "\n",
    "# 인코더의 LSTM 3\n",
    "encoder_lstm3 = LSTM(hidden_size, return_state=True, return_sequences=True, dropout=0.4)\n",
    "encoder_outputs, state_h, state_c= encoder_lstm3(encoder_output2)"
   ]
  },
  {
   "cell_type": "code",
   "execution_count": 69,
   "id": "handled-demonstration",
   "metadata": {},
   "outputs": [],
   "source": [
    "# 디코더 설계\n",
    "decoder_inputs = Input(shape=(None,))\n",
    "\n",
    "# 디코더의 임베딩 층\n",
    "dec_emb_layer = Embedding(tar_vocab, embedding_dim)\n",
    "dec_emb = dec_emb_layer(decoder_inputs)\n",
    "\n",
    "# 디코더의 LSTM\n",
    "decoder_lstm = LSTM(hidden_size, return_sequences=True, return_state=True, dropout=0.4)\n",
    "decoder_outputs, _, _ = decoder_lstm(dec_emb, initial_state=[state_h, state_c])"
   ]
  },
  {
   "cell_type": "markdown",
   "id": "modular-ecuador",
   "metadata": {},
   "source": [
    "**어텐션메커니즘 사용**"
   ]
  },
  {
   "cell_type": "code",
   "execution_count": 70,
   "id": "latter-miniature",
   "metadata": {},
   "outputs": [],
   "source": [
    "urllib.request.urlretrieve(\"https://raw.githubusercontent.com/thushv89/attention_keras/master/src/layers/attention.py\", filename=\"attention.py\")\n",
    "from attention import AttentionLayer"
   ]
  },
  {
   "cell_type": "code",
   "execution_count": 71,
   "id": "female-karaoke",
   "metadata": {},
   "outputs": [
    {
     "name": "stdout",
     "output_type": "stream",
     "text": [
      "Model: \"model_2\"\n",
      "__________________________________________________________________________________________________\n",
      "Layer (type)                    Output Shape         Param #     Connected to                     \n",
      "==================================================================================================\n",
      "input_5 (InputLayer)            [(None, 45)]         0                                            \n",
      "__________________________________________________________________________________________________\n",
      "embedding_4 (Embedding)         (None, 45, 128)      2816000     input_5[0][0]                    \n",
      "__________________________________________________________________________________________________\n",
      "lstm_8 (LSTM)                   [(None, 45, 256), (N 394240      embedding_4[0][0]                \n",
      "__________________________________________________________________________________________________\n",
      "input_6 (InputLayer)            [(None, None)]       0                                            \n",
      "__________________________________________________________________________________________________\n",
      "lstm_9 (LSTM)                   [(None, 45, 256), (N 525312      lstm_8[0][0]                     \n",
      "__________________________________________________________________________________________________\n",
      "embedding_5 (Embedding)         (None, None, 128)    1280000     input_6[0][0]                    \n",
      "__________________________________________________________________________________________________\n",
      "lstm_10 (LSTM)                  [(None, 45, 256), (N 525312      lstm_9[0][0]                     \n",
      "__________________________________________________________________________________________________\n",
      "lstm_11 (LSTM)                  [(None, None, 256),  394240      embedding_5[0][0]                \n",
      "                                                                 lstm_10[0][1]                    \n",
      "                                                                 lstm_10[0][2]                    \n",
      "__________________________________________________________________________________________________\n",
      "attention_layer (AttentionLayer ((None, None, 256),  131328      lstm_10[0][0]                    \n",
      "                                                                 lstm_11[0][0]                    \n",
      "__________________________________________________________________________________________________\n",
      "concat_layer (Concatenate)      (None, None, 512)    0           lstm_11[0][0]                    \n",
      "                                                                 attention_layer[0][0]            \n",
      "__________________________________________________________________________________________________\n",
      "dense_2 (Dense)                 (None, None, 10000)  5130000     concat_layer[0][0]               \n",
      "==================================================================================================\n",
      "Total params: 11,196,432\n",
      "Trainable params: 11,196,432\n",
      "Non-trainable params: 0\n",
      "__________________________________________________________________________________________________\n"
     ]
    }
   ],
   "source": [
    "# 어텐션 층(어텐션 함수)\n",
    "attn_layer = AttentionLayer(name='attention_layer')\n",
    "# 인코더와 디코더의 모든 time step의 hidden state를 어텐션 층에 전달하고 결과를 리턴\n",
    "attn_out, attn_states = attn_layer([encoder_outputs, decoder_outputs])\n",
    "\n",
    "# 어텐션의 결과와 디코더의 hidden state들을 연결\n",
    "decoder_concat_input = Concatenate(axis=-1, name='concat_layer')([decoder_outputs, attn_out])\n",
    "\n",
    "# 디코더의 출력층\n",
    "decoder_softmax_layer = Dense(tar_vocab, activation='softmax')\n",
    "decoder_softmax_outputs = decoder_softmax_layer(decoder_concat_input)\n",
    "\n",
    "# 모델 정의\n",
    "model = Model([encoder_inputs, decoder_inputs], decoder_softmax_outputs)\n",
    "model.summary()"
   ]
  },
  {
   "cell_type": "markdown",
   "id": "after-merchandise",
   "metadata": {},
   "source": [
    "# 모델 훈련하기"
   ]
  },
  {
   "cell_type": "code",
   "execution_count": 72,
   "id": "designed-manner",
   "metadata": {},
   "outputs": [
    {
     "name": "stdout",
     "output_type": "stream",
     "text": [
      "Epoch 1/50\n",
      "306/306 [==============================] - 97s 287ms/step - loss: 5.6368 - val_loss: 4.8339\n",
      "Epoch 2/50\n",
      "306/306 [==============================] - 85s 279ms/step - loss: 4.7606 - val_loss: 4.4256\n",
      "Epoch 3/50\n",
      "306/306 [==============================] - 86s 282ms/step - loss: 4.3821 - val_loss: 4.1844\n",
      "Epoch 4/50\n",
      "306/306 [==============================] - 86s 282ms/step - loss: 4.1116 - val_loss: 4.0090\n",
      "Epoch 5/50\n",
      "306/306 [==============================] - 86s 283ms/step - loss: 3.9040 - val_loss: 3.8751\n",
      "Epoch 6/50\n",
      "306/306 [==============================] - 86s 280ms/step - loss: 3.7407 - val_loss: 3.7744\n",
      "Epoch 7/50\n",
      "306/306 [==============================] - 86s 282ms/step - loss: 3.5892 - val_loss: 3.6928\n",
      "Epoch 8/50\n",
      "306/306 [==============================] - 87s 283ms/step - loss: 3.4708 - val_loss: 3.6274\n",
      "Epoch 9/50\n",
      "306/306 [==============================] - 86s 282ms/step - loss: 3.3566 - val_loss: 3.5701\n",
      "Epoch 10/50\n",
      "306/306 [==============================] - 86s 280ms/step - loss: 3.2662 - val_loss: 3.5302\n",
      "Epoch 11/50\n",
      "306/306 [==============================] - 86s 281ms/step - loss: 3.1732 - val_loss: 3.4907\n",
      "Epoch 12/50\n",
      "306/306 [==============================] - 86s 283ms/step - loss: 3.0974 - val_loss: 3.4630\n",
      "Epoch 13/50\n",
      "306/306 [==============================] - 87s 283ms/step - loss: 3.0193 - val_loss: 3.4315\n",
      "Epoch 14/50\n",
      "306/306 [==============================] - 86s 280ms/step - loss: 2.9609 - val_loss: 3.4121\n",
      "Epoch 15/50\n",
      "306/306 [==============================] - 86s 282ms/step - loss: 2.9034 - val_loss: 3.3962\n",
      "Epoch 16/50\n",
      "306/306 [==============================] - 87s 283ms/step - loss: 2.8390 - val_loss: 3.3766\n",
      "Epoch 17/50\n",
      "306/306 [==============================] - 86s 283ms/step - loss: 2.7842 - val_loss: 3.3641\n",
      "Epoch 18/50\n",
      "306/306 [==============================] - 86s 280ms/step - loss: 2.7420 - val_loss: 3.3537\n",
      "Epoch 19/50\n",
      "306/306 [==============================] - 86s 281ms/step - loss: 2.7003 - val_loss: 3.3413\n",
      "Epoch 20/50\n",
      "306/306 [==============================] - 86s 281ms/step - loss: 2.6595 - val_loss: 3.3322\n",
      "Epoch 21/50\n",
      "306/306 [==============================] - 86s 281ms/step - loss: 2.6172 - val_loss: 3.3299\n",
      "Epoch 22/50\n",
      "306/306 [==============================] - 85s 278ms/step - loss: 2.5773 - val_loss: 3.3246\n",
      "Epoch 23/50\n",
      "306/306 [==============================] - 86s 280ms/step - loss: 2.5388 - val_loss: 3.3193\n",
      "Epoch 24/50\n",
      "306/306 [==============================] - 86s 281ms/step - loss: 2.5013 - val_loss: 3.3141\n",
      "Epoch 25/50\n",
      "306/306 [==============================] - 86s 281ms/step - loss: 2.4719 - val_loss: 3.3111\n",
      "Epoch 26/50\n",
      "306/306 [==============================] - 85s 278ms/step - loss: 2.4440 - val_loss: 3.3133\n",
      "Epoch 27/50\n",
      "306/306 [==============================] - 86s 280ms/step - loss: 2.4088 - val_loss: 3.3080\n",
      "Epoch 28/50\n",
      "306/306 [==============================] - 86s 281ms/step - loss: 2.3792 - val_loss: 3.3064\n",
      "Epoch 29/50\n",
      "306/306 [==============================] - 86s 281ms/step - loss: 2.3522 - val_loss: 3.3094\n",
      "Epoch 30/50\n",
      "306/306 [==============================] - 85s 278ms/step - loss: 2.3203 - val_loss: 3.3098\n",
      "Epoch 00030: early stopping\n"
     ]
    }
   ],
   "source": [
    "model.compile(optimizer='rmsprop', loss='sparse_categorical_crossentropy')\n",
    "es = EarlyStopping(monitor='val_loss', patience=2, verbose=1)\n",
    "history = model.fit(x=[encoder_input_train, decoder_input_train], y=decoder_target_train, \\\n",
    "          validation_data=([encoder_input_test, decoder_input_test], decoder_target_test), \\\n",
    "          batch_size=256, callbacks=[es], epochs=50)"
   ]
  },
  {
   "cell_type": "code",
   "execution_count": 73,
   "id": "phantom-gross",
   "metadata": {},
   "outputs": [
    {
     "data": {
      "image/png": "[encoded data removed]",
      "text/plain": [
       "<Figure size 432x288 with 1 Axes>"
      ]
     },
     "metadata": {
      "needs_background": "light"
     },
     "output_type": "display_data"
    }
   ],
   "source": [
    "plt.plot(history.history['loss'], label='train')\n",
    "plt.plot(history.history['val_loss'], label='test')\n",
    "plt.legend()\n",
    "plt.show()"
   ]
  },
  {
   "cell_type": "markdown",
   "id": "expensive-shelf",
   "metadata": {},
   "source": [
    "**인퍼런스 모델 구현하기**"
   ]
  },
  {
   "cell_type": "code",
   "execution_count": 74,
   "id": "present-export",
   "metadata": {},
   "outputs": [],
   "source": [
    "src_index_to_word = src_tokenizer.index_word # 원문 단어 집합에서 정수 -> 단어를 얻음\n",
    "tar_word_to_index = tar_tokenizer.word_index # 요약 단어 집합에서 단어 -> 정수를 얻음\n",
    "tar_index_to_word = tar_tokenizer.index_word # 요약 단어 집합에서 정수 -> 단어를 얻음"
   ]
  },
  {
   "cell_type": "code",
   "execution_count": 75,
   "id": "appreciated-dakota",
   "metadata": {},
   "outputs": [],
   "source": [
    "# 인코더 설계\n",
    "encoder_model = Model(inputs=encoder_inputs, outputs=[encoder_outputs, state_h, state_c])\n",
    "\n",
    "# 이전 시점의 상태들을 저장하는 텐서\n",
    "decoder_state_input_h = Input(shape=(hidden_size,))\n",
    "decoder_state_input_c = Input(shape=(hidden_size,))\n",
    "\n",
    "dec_emb2 = dec_emb_layer(decoder_inputs)\n",
    "\n",
    "# 문장의 다음 단어를 예측하기 위해서 초기 상태(initial_state)를 이전 시점의 상태로 사용. 이는 뒤의 함수 decode_sequence()에 구현\n",
    "# 훈련 과정에서와 달리 LSTM의 리턴하는 은닉 상태와 셀 상태인 state_h와 state_c를 버리지 않음.\n",
    "decoder_outputs2, state_h2, state_c2 = decoder_lstm(dec_emb2, initial_state=[decoder_state_input_h, decoder_state_input_c])"
   ]
  },
  {
   "cell_type": "code",
   "execution_count": 76,
   "id": "powerful-renaissance",
   "metadata": {},
   "outputs": [],
   "source": [
    "# 어텐션 함수\n",
    "decoder_hidden_state_input = Input(shape=(text_max_len, hidden_size))\n",
    "attn_out_inf, attn_states_inf = attn_layer([decoder_hidden_state_input, decoder_outputs2])\n",
    "decoder_inf_concat = Concatenate(axis=-1, name='concat')([decoder_outputs2, attn_out_inf])\n",
    "\n",
    "# 디코더의 출력층\n",
    "decoder_outputs2 = decoder_softmax_layer(decoder_inf_concat) \n",
    "\n",
    "# 최종 디코더 모델\n",
    "decoder_model = Model(\n",
    "    [decoder_inputs] + [decoder_hidden_state_input,decoder_state_input_h, decoder_state_input_c],\n",
    "    [decoder_outputs2] + [state_h2, state_c2])"
   ]
  },
  {
   "cell_type": "code",
   "execution_count": 82,
   "id": "becoming-timeline",
   "metadata": {},
   "outputs": [],
   "source": [
    "def decode_sequence(input_seq):\n",
    "    # 입력으로부터 인코더의 상태를 얻음\n",
    "    e_out, e_h, e_c = encoder_model.predict(input_seq)\n",
    "\n",
    "     # <SOS>에 해당하는 토큰 생성\n",
    "    target_seq = np.zeros((1,1))\n",
    "    target_seq[0, 0] = tar_word_to_index['sostoken']\n",
    "\n",
    "    stop_condition = False\n",
    "    decoded_sentence = ''\n",
    "    while not stop_condition: # stop_condition이 True가 될 때까지 루프 반복\n",
    "\n",
    "        output_tokens, h, c = decoder_model.predict([target_seq] + [e_out, e_h, e_c])\n",
    "        sampled_token_index = np.argmax(output_tokens[0, -1, :])\n",
    "        sampled_token = tar_index_to_word[sampled_token_index]\n",
    "\n",
    "        if (sampled_token!='eostoken'):\n",
    "            decoded_sentence += ' '+sampled_token\n",
    "\n",
    "        #  <eos>에 도달하거나 최대 길이를 넘으면 중단.\n",
    "        if (sampled_token == 'eostoken'  or len(decoded_sentence.split()) >= (headlines_max_len-1)):\n",
    "            stop_condition = True\n",
    "\n",
    "        # 길이가 1인 타겟 시퀀스를 업데이트\n",
    "        target_seq = np.zeros((1,1))\n",
    "        target_seq[0, 0] = sampled_token_index\n",
    "\n",
    "        # 상태를 업데이트 합니다.\n",
    "        e_h, e_c = h, c\n",
    "\n",
    "    return decoded_sentence"
   ]
  },
  {
   "cell_type": "markdown",
   "id": "enclosed-aruba",
   "metadata": {},
   "source": [
    "**모델 테스트하기**"
   ]
  },
  {
   "cell_type": "markdown",
   "id": "right-destiny",
   "metadata": {},
   "source": [
    "# 4. 실제 결과와 요약문 비교하기 (추상적 요약)"
   ]
  },
  {
   "cell_type": "code",
   "execution_count": 83,
   "id": "saved-friday",
   "metadata": {},
   "outputs": [],
   "source": [
    "# 원문의 정수 시퀀스를 텍스트 시퀀스로 변환\n",
    "def seq2text(input_seq):\n",
    "    temp=''\n",
    "    for i in input_seq:\n",
    "        if (i!=0):\n",
    "            temp = temp + src_index_to_word[i]+' '\n",
    "    return temp\n",
    "\n",
    "# 요약문의 정수 시퀀스를 텍스트 시퀀스로 변환\n",
    "def seq2headlines(input_seq):\n",
    "    temp=''\n",
    "    for i in input_seq:\n",
    "        if ((i!=0 and i!=tar_word_to_index['sostoken']) and i!=tar_word_to_index['eostoken']):\n",
    "            temp = temp + tar_index_to_word[i] + ' '\n",
    "    return temp"
   ]
  },
  {
   "cell_type": "code",
   "execution_count": 84,
   "id": "turned-patent",
   "metadata": {},
   "outputs": [
    {
     "name": "stdout",
     "output_type": "stream",
     "text": [
      "원문 : us based scientists found lungs produce million blood half production mice using new imaging techniques also found lungs stem cells capable restoring bone marrow blood components previously unknown observations scientists believe lungs may play role blood production humans also \n",
      "실제 요약 : lungs produce over million blood an hour study \n",
      "예측 요약 :  scientists make first ever light\n",
      "\n",
      "\n",
      "원문 : android co founder andy rubin monday showed smartphone startup first device looks like less smartphone less smartphones supposed edge edge display border surrounding smartphone display edges exist comes softbank cancelled million funding rubin startup essential \n",
      "실제 요약 : android co founder shows his smartphone startup st device \n",
      "예측 요약 :  android co founder backed startup phone phone phone\n",
      "\n",
      "\n",
      "원문 : madras high court allowed transgender software engineer underwent sex reassignment surgery female male change sex male school college records moved hc requests authorities change name sex school college records considered citing absence provision \n",
      "실제 요약 : hc allows transgender to change gender in school records \n",
      "예측 요약 :  hc allows us to have sex with sex\n",
      "\n",
      "\n",
      "원문 : addressing vishva hindu parishad rally nagpur rss chief mohan bhagwat sunday called building ram mandir disputed site ayodhya saying justice delayed justice denied also proved temple supreme court giving priority case added \n",
      "실제 요약 : justice delayed is justice denied rss chief on ram mandir \n",
      "예측 요약 :  rss chief ram temple will not have ayodhya issue owaisi\n",
      "\n",
      "\n",
      "원문 : indian shuttler kidambi srikanth became first indian shuttler win two consecutive super series titles met prime minister narendra modi alongside coach pullela gopichand srikanth tweeted photo pm captioned feel honoured meet talk sir cannot ask anything else photo says happy \n",
      "실제 요약 : photo just says how happy am srikanth on meeting pm modi \n",
      "예측 요약 :  srikanth to be named after winning pm modi\n",
      "\n",
      "\n",
      "원문 : taking dig centre startup india initiative congress vice president rahul gandhi said startup india cannot accompanied shut india government listen believe narendra modi government fired double tap heart economy gandhi asserted blaming centre economy \n",
      "실제 요약 : startup india cannot be followed by shut up india rahul \n",
      "예측 요약 :  india cannot be allowed to india rafale deal rahul\n",
      "\n",
      "\n",
      "원문 : former gay tech mahindra employee alleged company chief diversity officer richa gautam passed comments trainees like mother prostitute prostitute gay crying like claimed gautam repeatedly harassed sexual orientation calling meanwhile mahindra group chairman anand mahindra assured action \n",
      "실제 요약 : if mother is prostitute you are one too mahindra told \n",
      "예측 요약 :  ex vogue model fired for calling him on gay fan\n",
      "\n",
      "\n",
      "원문 : wrestling federation india allowed three phogat sisters geeta ritu join ongoing wrestling camp asian games days barring indiscipline comes sisters submitted written explanations indiscipline however babita phogat still remains barred camp failed offer formal explanation \n",
      "실제 요약 : phogat sisters allowed to enter asiad camp babita ignored \n",
      "예측 요약 :  retired de kock captain malik to join asian games\n",
      "\n",
      "\n",
      "원문 : haryana cm manohar lal khattar announced state become stray cattle free august tagging cattle completed work rehabilitate abandoned cattle undertaken mission mode khattar said \n",
      "실제 요약 : haryana to become stray cattle free by august \n",
      "예측 요약 :  haryana govt to set up cow slaughter in haryana\n",
      "\n",
      "\n",
      "원문 : kerala cm pinarayi vijayan said history speak kerala state got defeated one overcame floods thanked armed forces helped rescue operations amid floods cm also appreciated efforts state officials policemen fishermen assisting rescue operations \n",
      "실제 요약 : history will call kerala state that floods cm \n",
      "예측 요약 :  kerala cm vijayan to kerala flood victims\n",
      "\n",
      "\n",
      "원문 : police thursday said four year old girl found raped murdered uttar pradesh etah incident took place wednesday night girl alone house police added police said matter probed added arrests made far \n",
      "실제 요약 : four year old found raped murdered in uttar pradesh \n",
      "예측 요약 :  year old raped murdered by police in up\n",
      "\n",
      "\n",
      "원문 : choosing india blood donation feature facebook said lakh indians signed blood donors site feature connects needy nearby blood donors launched bangladesh next year feature also allows organisations create voluntary blood donation events notify nearby donors \n",
      "실제 요약 : lakh indians have to donate blood on facebook \n",
      "예측 요약 :  indian students to get children from children children\n",
      "\n",
      "\n",
      "원문 : west bengal education minister partha chatterjee announced school students across state irrespective boards study bengali compulsory subject upto class consult legal team whether need separate law special approval state cabinet effecting change chatterjee added \n",
      "실제 요약 : bengali made compulsory till class in west bengal schools \n",
      "예측 요약 :  wb govt to start school in schools to schools\n",
      "\n",
      "\n",
      "원문 : fox news parent st century fox said investigate sexual harassment claim tv anchor bill reilly saw several companies pull ads news show woman claimed reilly revoked offer secure job network declined invitation join hotel suite \n",
      "실제 요약 : fox to investigate sexual harassment claim against tv anchor \n",
      "예측 요약 :  fox host host accused of sexual harassment claims\n",
      "\n",
      "\n",
      "원문 : police complaint filed john abraham upcoming film satyameva jayate bjp minority morcha city general secretary syed ali hurting religious sentiments per reports procession muharram depicted wrong way trailer wants particular scene removed film \n",
      "실제 요약 : fir against john film for hurting religious sentiments \n",
      "예측 요약 :  police arrest bjp leader in anti romeo party\n",
      "\n",
      "\n",
      "원문 : former india captain dilip said three year ban year old mumbai captain khan exposing front teammate bit harsh bcci must make young cricketers undergo counselling national cricket academy similarly must also introduce counselling young players year old added \n",
      "실제 요약 : ban on mumbai captain for exposing bit harsh \n",
      "예측 요약 :  want to see if they want to do cricketers in india ex\n",
      "\n",
      "\n",
      "원문 : sanjay dutt addressing friend paresh character sanju based tweeted pillar strength thank dutt also welcomed friend social media paresh recently shared note joining social wanted hug dutt cry watching sanju \n",
      "실제 요약 : of my strength dutt to friend who inspired in sanju \n",
      "예측 요약 :  dutt to dutt name to dutt biopic on his biopic\n",
      "\n",
      "\n",
      "원문 : sentence review board headed delhi home minister satyendar jain thursday rejected jessica lal murder convict manu sharma request early release sharma shot dead jessica restaurant currently serving life sentence tihar jail earlier jessica sister written authorities stating objections sharma release \n",
      "실제 요약 : lal murder convict early release request rejected \n",
      "예측 요약 :  delhi hc orders security to probe in jail case\n",
      "\n",
      "\n",
      "원문 : year old mumbai man stood railway track stopped local train save injured commuter getting crushed road station man waiting train platform saw unconscious man lying track waved approaching train halted seeing \n",
      "실제 요약 : man stops train from running over injured in mumbai \n",
      "예측 요약 :  man dies after falling off train while taking selfie in minutes\n",
      "\n",
      "\n",
      "원문 : india captain virat kohli said affected people opinions lack form think people start counting number innings batsman score well looking many innings scored playing formats thinking format scored runs said kohli \n",
      "실제 요약 : people count my failures don says virat kohli \n",
      "예측 요약 :  virat kohli is not an easy in the world kohli\n",
      "\n",
      "\n",
      "원문 : ayushmann khurrana asked would ever publish book poems said would love write want share people artistic hopefully book happen time need public domain added \n",
      "실제 요약 : would love to do it ayushmann on writing book of \n",
      "예측 요약 :  was not my film ayushmann on being called\n",
      "\n",
      "\n",
      "원문 : least seven pakistani isis terrorists killed air strike friday joint military operation conducted us afghanistan province nangarhar reports said two isis also destroyed air strike comes us afghan forces conducting anti isis anti taliban operations nangarhar nn \n",
      "실제 요약 : pak is terrorists killed in us afghan military operation \n",
      "예측 요약 :  pak air strike killed in air strike over yemen war\n",
      "\n",
      "\n",
      "원문 : jammu kashmir state administrative council governor satya pal malik monday approved formation two women police posts various ranks created move aimed increasing female representation force help tackle gender based violence official said \n",
      "실제 요약 : approves formation of women police \n",
      "예측 요약 :  governor to make women as female haj for st time\n",
      "\n",
      "\n",
      "원문 : uttar pradesh police wednesday asked local vendors restaurant owners greater noida prepare serve non vegetarian food week period kanwar yatra reportedly police taken decision number pilgrims returning haridwar increased year prefer vegetarian food \n",
      "실제 요약 : non veg food to be in greater noida for week \n",
      "예측 요약 :  up police to sell food to stop non veg food\n",
      "\n",
      "\n",
      "원문 : cricket legend sachin tendulkar mistook mandeep singh former captain sardar singh tweet congratulating indian hockey team victory argentina champions trophy sachin shared picture mandeep celebrating congratulated sardar scoring crucial goal th match however sardar playing th international score game \n",
      "실제 요약 : sachin mistakes for sardar in tweet for hockey team \n",
      "예측 요약 :  sachin ganguly meets ganguly in icc champions trophy\n",
      "\n",
      "\n",
      "원문 : veteran actress zeenat aman making debut web series starring love life screw ups web series zeenat plays character loves youth looking glamorous actress great comic timing fit bill perfectly said director kapil sharma \n",
      "실제 요약 : debuts in web series with love life ups \n",
      "예측 요약 :  brad to star in wood actress on new year\n",
      "\n",
      "\n",
      "원문 : kxip yuvraj singh recorded worst strike rate player faced balls ipl yuvraj scored runs including six many balls run mi friday yuvraj scored runs innings season highest score \n",
      "실제 요약 : yuvraj singh records ipl worst strike rate at \n",
      "예측 요약 :  yuvraj hits record of the most sixes in ipl\n",
      "\n",
      "\n",
      "원문 : government considering delhi varanasi bullet train cut travel time hours hours km delhi varanasi stretch expected operational cost nearly crore proposed high speed rail projects include km delhi kolkata corridor estimated cost lakh crore delhi lucknow corridor \n",
      "실제 요약 : delhi varanasi bullet train to cut travel time by over hrs \n",
      "예측 요약 :  delhi govt approves new metro metro\n",
      "\n",
      "\n",
      "원문 : passengers travelled tejas express first trip mumbai goa stole headphones damaged infotainment screens train railway officials said officials planning appeal passengers damage train however passenger travelling second day claimed toilets attendants ignorant \n",
      "실제 요약 : headphones missing screens damaged after tejas st trip \n",
      "예측 요약 :  india bound railway station to be in hours\n",
      "\n",
      "\n",
      "원문 : kangana ranaut responding reports supporting shabana azmi deepika bachao campaign said deepika support shabana investment left wing vs right wing politics kangana added capable supporting likes without anyone else support azmi started petition following threats deepika padmavati \n",
      "실제 요약 : deepika has my support but of azmi petition kangana \n",
      "예측 요약 :  kangana is not right to be part of nepotism kangana\n",
      "\n",
      "\n",
      "원문 : least six people killed others injured wednesday huge fire engulfed storey grenfell tower london according reports fire possibly result faulty refrigerator reports added around firefighters brought fire control building housed families \n",
      "실제 요약 : killed injured in london tower fire \n",
      "예측 요약 :  killed injured in fire at factory in mumbai\n",
      "\n",
      "\n",
      "원문 : punjab power irrigation minister rana singh resigned amid allegations bagged sand mine contracts worth crores staff names may last year reported singh former cook amit bahadur bagged mining site village crore chief minister captain amarinder singh yet accept resignation \n",
      "실제 요약 : punjab power minister resigns amid corruption charges \n",
      "예측 요약 :  punjab minister resigns as ex minister\n",
      "\n",
      "\n",
      "원문 : central government planning abolish several thousand posts lying vacant past five years finance ministry issued memorandum asking ministries departments identify posts submit detailed report matter home affairs ministry also extended memorandum organisations including paramilitary forces \n",
      "실제 요약 : government plans to abolish posts lying vacant for years \n",
      "예측 요약 :  govt to be govt to govt for govt posts full term\n",
      "\n",
      "\n",
      "원문 : believed modern christmas tree originated germany th century tree brought england germany prince albert went marry queen victoria tree became christmas tradition masses london newspaper published photo royal tree eight years later \n",
      "실제 요약 : how did the tradition of the christmas tree \n",
      "예측 요약 :  world oldest tree to be named in uk\n",
      "\n",
      "\n",
      "원문 : claiming trying bring political parties together bid defeat ruling nda general elections ncp chief sharad pawar said seem possible single party remain power added like party got majority government manmohan singh formed \n",
      "실제 요약 : no party will get majority in ncp chief sharad pawar \n",
      "예측 요약 :  ready to form govt in lok sabha polls\n",
      "\n",
      "\n",
      "원문 : official trailer shabana azmi starrer hollywood film black prince unveiled ongoing cannes film festival film based maharaja duleep singh last king sikh empire also starring film release english hindi punjabi july \n",
      "실제 요약 : trailer of shabana azmi hollywood film unveiled at cannes \n",
      "예측 요약 :  trailer of the film released\n",
      "\n",
      "\n",
      "원문 : indian captain virat kohli seven odi tons combined number odi tons england joe root australia steve smith new zealand kane williamson kohli scored nd ton winning cause second india australia odi helping india level series kohli named man match performance \n",
      "실제 요약 : kohli has more odi tons than root williamson smith combined \n",
      "예측 요약 :  kohli helps kohli in australia to win odi series\n",
      "\n",
      "\n",
      "원문 : supreme court tuesday allowed two member special investigation team supervise probe cases related anti sikh riots centre monday told apex court may necessary substitute singh declined part earlier ordered three member sit citing personal reasons \n",
      "실제 요약 : sc allows member panel to probe anti sikh riots cases \n",
      "예측 요약 :  sc allows probe to probe into anti anti anti anti anti anti\n",
      "\n",
      "\n",
      "원문 : france wednesday held state funeral police officer swapped hostage attack isis supporter supermarket last week president emmanuel macron said year old french spirit resistance four people including police officer killed attacks several others injured \n",
      "실제 요약 : state funeral for french cop who places with hostage \n",
      "예측 요약 :  isis terrorist killed in france\n",
      "\n",
      "\n",
      "원문 : value investment amitabh abhishek bachchan singapore blockchain firm offering cryptocurrencies grown times years invested tech whose asset com acquired nasdaq listed corp last week following acquisition stock rose \n",
      "실제 요약 : big cr investment in blockchain firm grows to cr \n",
      "예측 요약 :  big bachchan buys service for new york india sale\n",
      "\n",
      "\n",
      "원문 : release date ayushmann khurrana radhika apte starrer andhadhun announced october film clash salman khan brother law aayush sharma debut film loveratri film mark first collaboration director sriram raghavan ayushmann second collaboration sriram radhika film \n",
      "실제 요약 : release date of ayushmann radhika announced \n",
      "예측 요약 :  release date of ayushmann rao starrer upcoming film out\n",
      "\n",
      "\n",
      "원문 : two dmk workers tamil nadu coimbatore attempted self protest centre demanding setting cauvery management board however two overpowered police taken police station meanwhile tamil nadu government moved supreme court centre board constitution \n",
      "실제 요약 : two dmk workers attempt self over cauvery issue \n",
      "예측 요약 :  aiadmk workers protest over tn mlas protest\n",
      "\n",
      "\n",
      "원문 : us wednesday offered deepest condolences death indians kidnapped killed isis iraq stand people india condemning murders us state department spokesperson said indian workers went missing found buried near village near mosul \n",
      "실제 요약 : us condoles death of indians killed by isis in iraq \n",
      "예측 요약 :  death toll from us soldiers killed in iraq\n",
      "\n",
      "\n",
      "원문 : ensure safety women mumbai local trains ladies coaches painted saffron central railway official suggested saffron signifies courage sacrifice inspire women passengers act male male commuters refrain entering ladies coaches sacrifice part added \n",
      "실제 요약 : coaches on mumbai locals to be painted saffron official \n",
      "예측 요약 :  train to be in india coaches of women\n",
      "\n",
      "\n",
      "원문 : trends showed congress lead three states congress leader shashi tharoor tweeted great day india one india go scot free quoting finance minister arun jaitley wonderful news pouring elections added jaitley made statement monday response extradition liquor baron vijay mallya \n",
      "실제 요약 : great day for india tharoor quotes jaitley on poll trends \n",
      "예측 요약 :  india has jaitley on india congress\n",
      "\n",
      "\n",
      "원문 : prisons us state texas banned books including best sellers like color purple however list banned books include adolf hitler autobiography mein books white nationalists prisons texas ban books containing certain sexual content information manufacturing weapons among reasons \n",
      "실제 요약 : texas prisons ban books allow hitler mein \n",
      "예측 요약 :  us bans online from online sale for anti anti website\n",
      "\n",
      "\n",
      "원문 : amazon wholesale india business business wholesale marketplace operates amazon business received funding worth crore amazon inc amazon corporate holdings company received funds board resolution passed december last year amazon wholesale india incorporated year amazon made commerce foray india \n",
      "실제 요약 : amazon invests crore in india wholesale arm \n",
      "예측 요약 :  amazon invests in flipkart for crore\n",
      "\n",
      "\n",
      "원문 : jharkhand government monday launched food post scheme first india families particularly vulnerable tribal groups delivering food special government aims check malnutrition hunger deaths among tribes officials said national food security act entitled kg free ration every month \n",
      "실제 요약 : vulnerable jharkhand tribals to get food delivered by post \n",
      "예측 요약 :  jharkhand to give up national health scheme\n",
      "\n",
      "\n",
      "원문 : amazon india ex delivery boy partnered current employee allegedly cheating company customers collecting returned items authorised personnel could take police said employee allegedly used provide accused details customers wished return product accused arrested police also said \n",
      "실제 요약 : ex delivery boy partners amazon employee to cheat company \n",
      "예측 요약 :  amazon startup gets notice for man who stole his food\n",
      "\n",
      "\n",
      "원문 : first day test england west indies manchester july called minutes tea umpire bird thought much light greenhouse adjacent ground umpire felt sunlight reflected strong batsmen play continue \n",
      "실제 요약 : umpire once stopped test due to too much light \n",
      "예측 요약 :  world cup ball was in seconds\n",
      "\n",
      "\n"
     ]
    }
   ],
   "source": [
    "for i in range(50, 100):\n",
    "    print(\"원문 :\", seq2text(encoder_input_test[i]))\n",
    "    print(\"실제 요약 :\", seq2headlines(decoder_input_test[i]))\n",
    "    print(\"예측 요약 :\", decode_sequence(encoder_input_test[i].reshape(1, text_max_len)))\n",
    "    print(\"\\n\")"
   ]
  },
  {
   "cell_type": "markdown",
   "id": "decreased-subdivision",
   "metadata": {},
   "source": [
    "# 5. Summa을 이용해서 추출적 요약해보기"
   ]
  },
  {
   "cell_type": "code",
   "execution_count": 61,
   "id": "resident-updating",
   "metadata": {},
   "outputs": [],
   "source": [
    "import requests\n",
    "from summa.summarizer import summarize\n",
    "data2 = pd.read_csv('news_summary_more.csv', encoding='iso-8859-1')"
   ]
  },
  {
   "cell_type": "code",
   "execution_count": 62,
   "id": "reduced-citizen",
   "metadata": {},
   "outputs": [
    {
     "data": {
      "text/plain": [
       "0        Saurav Kant, an alumnus of upGrad and IIIT-B's...\n",
       "1        Kunal Shah's credit card bill payment platform...\n",
       "2        New Zealand defeated India by 8 wickets in the...\n",
       "3        With Aegon Life iTerm Insurance plan, customer...\n",
       "4        Speaking about the sexual harassment allegatio...\n",
       "                               ...                        \n",
       "98396    A CRPF jawan was on Tuesday axed to death with...\n",
       "98397    'Uff Yeh', the first song from the Sonakshi Si...\n",
       "98398    According to reports, a new version of the 199...\n",
       "98399    A new music video shows rapper Snoop Dogg aimi...\n",
       "98400    Madhesi Morcha, an alliance of seven political...\n",
       "Name: text, Length: 98401, dtype: object"
      ]
     },
     "execution_count": 62,
     "metadata": {},
     "output_type": "execute_result"
    }
   ],
   "source": [
    "data2['text']"
   ]
  },
  {
   "cell_type": "code",
   "execution_count": 63,
   "id": "civic-peter",
   "metadata": {},
   "outputs": [
    {
     "data": {
      "text/plain": [
       "\"Saurav Kant, an alumnus of upGrad and IIIT-B's PG Program in Machine learning and Artificial Intelligence, was a Sr Systems Engineer at Infosys with almost 5 years of work experience. The program and upGrad's 360-degree career support helped him transition to a Data Scientist at Tech Mahindra with 90% salary hike. upGrad's Online Power Learning has powered 3 lakh+ careers.\""
      ]
     },
     "execution_count": 63,
     "metadata": {},
     "output_type": "execute_result"
    }
   ],
   "source": [
    "data2['text'][0]"
   ]
  },
  {
   "cell_type": "code",
   "execution_count": 64,
   "id": "consecutive-crime",
   "metadata": {},
   "outputs": [
    {
     "data": {
      "text/plain": [
       "\"upGrad's Online Power Learning has powered 3 lakh+ careers.\""
      ]
     },
     "execution_count": 64,
     "metadata": {},
     "output_type": "execute_result"
    }
   ],
   "source": [
    "summarize(data2['text'][0],ratio=0.5)"
   ]
  },
  {
   "cell_type": "code",
   "execution_count": 65,
   "id": "undefined-flush",
   "metadata": {},
   "outputs": [
    {
     "data": {
      "text/plain": [
       "[\"upGrad's Online Power Learning has powered 3 lakh+ careers.\"]"
      ]
     },
     "execution_count": 65,
     "metadata": {},
     "output_type": "execute_result"
    }
   ],
   "source": [
    "summarize(data2['text'][0], ratio=0.5, split=True)"
   ]
  },
  {
   "cell_type": "code",
   "execution_count": 66,
   "id": "embedded-business",
   "metadata": {},
   "outputs": [
    {
     "data": {
      "text/plain": [
       "\"The program and upGrad's 360-degree career support helped him transition to a Data Scientist at Tech Mahindra with 90% salary hike.\\nupGrad's Online Power Learning has powered 3 lakh+ careers.\""
      ]
     },
     "execution_count": 66,
     "metadata": {},
     "output_type": "execute_result"
    }
   ],
   "source": [
    "summarize(data2['text'][0],words = 30)"
   ]
  },
  {
   "cell_type": "markdown",
   "id": "literary-binding",
   "metadata": {},
   "source": [
    "### 이 방법 중 30자 요약을 선택해서 여러개의 요약본을 확인해보았다."
   ]
  },
  {
   "cell_type": "code",
   "execution_count": 67,
   "id": "incredible-criterion",
   "metadata": {},
   "outputs": [],
   "source": [
    "def summarizetext(text):\n",
    "    Stext = summarize(text,words = 30)\n",
    "    return Stext"
   ]
  },
  {
   "cell_type": "code",
   "execution_count": 68,
   "id": "identified-focus",
   "metadata": {
    "scrolled": true
   },
   "outputs": [
    {
     "name": "stdout",
     "output_type": "stream",
     "text": [
      "원문 : Kunal Shah's credit card bill payment platform, CRED, gave users a chance to win free food from Swiggy for one year. Pranav Kaushik, a Delhi techie, bagged this reward after spending 2000 CRED coins. Users get one CRED coin per rupee of bill paid, which can be used to avail rewards from brands like Ixigo, BookMyShow, UberEats, Cult.Fit and more.\n",
      "30자 추출 요약 :  Users get one CRED coin per rupee of bill paid, which can be used to avail rewards from brands like Ixigo, BookMyShow, UberEats, Cult.Fit and more.\n",
      "\n",
      "\n",
      "원문 : New Zealand defeated India by 8 wickets in the fourth ODI at Hamilton on Thursday to win their first match of the five-match ODI series. India lost an international match under Rohit Sharma's captaincy after 12 consecutive victories dating back to March 2018. The match witnessed India getting all out for 92, their seventh lowest total in ODI cricket history.\n",
      "30자 추출 요약 :  New Zealand defeated India by 8 wickets in the fourth ODI at Hamilton on Thursday to win their first match of the five-match ODI series.\n",
      "The match witnessed India getting all out for 92, their seventh lowest total in ODI cricket history.\n",
      "\n",
      "\n",
      "원문 : With Aegon Life iTerm Insurance plan, customers can enjoy tax benefits on your premiums paid and save up to Ã¢ÂÂ¹46,800^ on taxes. The plan provides life cover up to the age of 100 years. Also, customers have options to insure against Critical Illnesses, Disability and Accidental Death Benefit Rider with a life cover up to the age of 80 years.\n",
      "30자 추출 요약 :  Also, customers have options to insure against Critical Illnesses, Disability and Accidental Death Benefit Rider with a life cover up to the age of 80 years.\n",
      "\n",
      "\n",
      "원문 : Speaking about the sexual harassment allegations against Rajkumar Hirani, Sonam Kapoor said, \"I've known Hirani for many years...What if it's not true, the [#MeToo] movement will get derailed.\" \"In the #MeToo movement, I always believe a woman. But in this case, we need to reserve our judgment,\" she added. Hirani has been accused by an assistant who worked in 'Sanju'.\n",
      "30자 추출 요약 :  Speaking about the sexual harassment allegations against Rajkumar Hirani, Sonam Kapoor said, \"I've known Hirani for many years...What if it's not true, the [#MeToo] movement will get derailed.\" \"In the #MeToo movement, I always believe a woman.\n",
      "\n",
      "\n",
      "원문 : Pakistani singer Rahat Fateh Ali Khan has denied receiving any notice from the Enforcement Directorate over allegedly smuggling foreign currency out of India. \"It would have been better if the authorities would have served the notice first if any and then publicised this,\" reads a press release issued on behalf of Rahat. The statement further called the allegation \"bizarre\".\n",
      "30자 추출 요약 :  Pakistani singer Rahat Fateh Ali Khan has denied receiving any notice from the Enforcement Directorate over allegedly smuggling foreign currency out of India.\n",
      "\n",
      "\n",
      "원문 : India recorded their lowest ODI total in New Zealand after getting all out for 92 runs in 30.5 overs in the fourth ODI at Hamilton on Thursday. Seven of India's batsmen were dismissed for single-digit scores, while their number ten batsman Yuzvendra Chahal top-scored with 18*(37). India's previous lowest ODI total in New Zealand was 108.\n",
      "30자 추출 요약 :  India recorded their lowest ODI total in New Zealand after getting all out for 92 runs in 30.5 overs in the fourth ODI at Hamilton on Thursday.\n",
      "India's previous lowest ODI total in New Zealand was 108.\n",
      "\n",
      "\n",
      "원문 : Weeks after ex-CBI Director Alok Verma told the Department of Personnel and Training to consider him retired, the Home Ministry asked him to join work on the last day of his fixed tenure as Director on Thursday. The ministry directed him to immediately join as DG, Fire Services, the post he was transferred to after his removal as CBI chief.\n",
      "30자 추출 요약 :  Weeks after ex-CBI Director Alok Verma told the Department of Personnel and Training to consider him retired, the Home Ministry asked him to join work on the last day of his fixed tenure as Director on Thursday.\n",
      "\n",
      "\n",
      "원문 : Andhra Pradesh CM N Chandrababu Naidu has said, \"When I met then US President Bill Clinton, I addressed him as Mr Clinton, not as 'sir'. (PM Narendra) Modi is my junior in politics...I addressed him as sir 10 times.\" \"I did this...to satisfy his ego in the hope that he will do justice to the state,\" he added.\n",
      "30자 추출 요약 :  Andhra Pradesh CM N Chandrababu Naidu has said, \"When I met then US President Bill Clinton, I addressed him as Mr Clinton, not as 'sir'.\n",
      "\n",
      "\n",
      "원문 : Congress candidate Shafia Zubair won the Ramgarh Assembly seat in Rajasthan, by defeating BJP's Sukhwant Singh with a margin of 12,228 votes in the bypoll. With this victory, Congress has taken its total to 100 seats in the 200-member assembly. The election to the Ramgarh seat was delayed due to the death of sitting MLA and BSP candidate Laxman Singh.\n",
      "30자 추출 요약 :  Congress candidate Shafia Zubair won the Ramgarh Assembly seat in Rajasthan, by defeating BJP's Sukhwant Singh with a margin of 12,228 votes in the bypoll.\n",
      "\n",
      "\n"
     ]
    }
   ],
   "source": [
    "for i in range(1, 10):\n",
    "    print(\"원문 :\", data2['text'][i])\n",
    "    print(\"30자 추출 요약 : \",summarizetext(data2['text'][i]))\n",
    "    print(\"\\n\")"
   ]
  },
  {
   "cell_type": "markdown",
   "id": "sticky-tolerance",
   "metadata": {},
   "source": [
    "1. Abstractive 모델 구성을 위해 정규화,불용어제거,데이터셋 분리 등 전처리를 해주었다.\n",
    "\n",
    "\n",
    "2. 요약본을 보았을 때 요약이 잘 진행된 부분이 보이긴 했지만 덜 되 보인 부분도 있었다. 그래서인지 validation Loss 값이 3.3정도 낮은 값은 아니였다. 텍스트 전처리 단계에서 더 다양한 시도는 못해보았지만 조금 더 손을 보아서 Loss값을 줄이는 방법을 찾아보면 좋을것같다.\n",
    "\n",
    "\n",
    "3. Abstractive요약은 앞서 말했듯 키워드를 잘 찾아내서 요약을 잘 해낸 경우도 있지만 아닌경우가 더러 많았다. 예시로 뭄바이여행 비행기 중 헤드폰파손의 내용의 뉴스를 여행 부분만 가져오는 경우가 있다. 반면에 Extractive요약은 원문에 있는 문장을 가져오는 것이기에 문법완성도측면과 핵심단어 포함 측명에서 둘다 우위에있다. 단점으로는 살짝 덜 필요한 부분까지 포함하여 요약이 되는 느낌이 있다. 하지만 잘못된 정보를 알려주는 부분을 고려를 한다면 뉴스요약방식에는 Extractive요약 방식이 더 적절하다고 생각이 든다.\n"
   ]
  }
 ],
 "metadata": {
  "kernelspec": {
   "display_name": "Python 3",
   "language": "python",
   "name": "python3"
  },
  "language_info": {
   "codemirror_mode": {
    "name": "ipython",
    "version": 3
   },
   "file_extension": ".py",
   "mimetype": "text/x-python",
   "name": "python",
   "nbconvert_exporter": "python",
   "pygments_lexer": "ipython3",
   "version": "3.7.9"
  }
 },
 "nbformat": 4,
 "nbformat_minor": 5
}
