{
 "cells": [
  {
   "cell_type": "markdown",
   "id": "shared-amber",
   "metadata": {},
   "source": [
    "# 손글씨 분류"
   ]
  },
  {
   "cell_type": "markdown",
   "id": "acquired-fellow",
   "metadata": {},
   "source": [
    "### (1) 필요한 모듈 import"
   ]
  },
  {
   "cell_type": "code",
   "execution_count": 31,
   "id": "ambient-cemetery",
   "metadata": {},
   "outputs": [],
   "source": [
    "from sklearn.datasets import load_digits\n",
    "from sklearn.model_selection import train_test_split\n",
    "from sklearn.metrics import classification_report,accuracy_score"
   ]
  },
  {
   "cell_type": "markdown",
   "id": "strategic-romantic",
   "metadata": {},
   "source": [
    "### (2)데이터준비"
   ]
  },
  {
   "cell_type": "code",
   "execution_count": 32,
   "id": "crude-volleyball",
   "metadata": {},
   "outputs": [],
   "source": [
    "digits = load_digits()"
   ]
  },
  {
   "cell_type": "markdown",
   "id": "persistent-michael",
   "metadata": {},
   "source": [
    "### (3)데이터이해하기\n",
    "+ Feature Data 지정하기\n",
    "+ Label Data 지정하기\n",
    "+ Target Names 출력해 보기\n",
    "+ 데이터 Describe 해 보기"
   ]
  },
  {
   "cell_type": "code",
   "execution_count": 33,
   "id": "absent-bumper",
   "metadata": {},
   "outputs": [],
   "source": [
    "digits_data = digits.data\n",
    "digits_label = digits.target"
   ]
  },
  {
   "cell_type": "code",
   "execution_count": 34,
   "id": "popular-embassy",
   "metadata": {},
   "outputs": [
    {
     "data": {
      "text/plain": [
       "array([0, 1, 2, 3, 4, 5, 6, 7, 8, 9])"
      ]
     },
     "execution_count": 34,
     "metadata": {},
     "output_type": "execute_result"
    }
   ],
   "source": [
    "digits.target_names"
   ]
  },
  {
   "cell_type": "code",
   "execution_count": 35,
   "id": "cosmetic-chapter",
   "metadata": {},
   "outputs": [
    {
     "name": "stdout",
     "output_type": "stream",
     "text": [
      ".. _digits_dataset:\n",
      "\n",
      "Optical recognition of handwritten digits dataset\n",
      "--------------------------------------------------\n",
      "\n",
      "**Data Set Characteristics:**\n",
      "\n",
      "    :Number of Instances: 5620\n",
      "    :Number of Attributes: 64\n",
      "    :Attribute Information: 8x8 image of integer pixels in the range 0..16.\n",
      "    :Missing Attribute Values: None\n",
      "    :Creator: E. Alpaydin (alpaydin '@' boun.edu.tr)\n",
      "    :Date: July; 1998\n",
      "\n",
      "This is a copy of the test set of the UCI ML hand-written digits datasets\n",
      "https://archive.ics.uci.edu/ml/datasets/Optical+Recognition+of+Handwritten+Digits\n",
      "\n",
      "The data set contains images of hand-written digits: 10 classes where\n",
      "each class refers to a digit.\n",
      "\n",
      "Preprocessing programs made available by NIST were used to extract\n",
      "normalized bitmaps of handwritten digits from a preprinted form. From a\n",
      "total of 43 people, 30 contributed to the training set and different 13\n",
      "to the test set. 32x32 bitmaps are divided into nonoverlapping blocks of\n",
      "4x4 and the number of on pixels are counted in each block. This generates\n",
      "an input matrix of 8x8 where each element is an integer in the range\n",
      "0..16. This reduces dimensionality and gives invariance to small\n",
      "distortions.\n",
      "\n",
      "For info on NIST preprocessing routines, see M. D. Garris, J. L. Blue, G.\n",
      "T. Candela, D. L. Dimmick, J. Geist, P. J. Grother, S. A. Janet, and C.\n",
      "L. Wilson, NIST Form-Based Handprint Recognition System, NISTIR 5469,\n",
      "1994.\n",
      "\n",
      ".. topic:: References\n",
      "\n",
      "  - C. Kaynak (1995) Methods of Combining Multiple Classifiers and Their\n",
      "    Applications to Handwritten Digit Recognition, MSc Thesis, Institute of\n",
      "    Graduate Studies in Science and Engineering, Bogazici University.\n",
      "  - E. Alpaydin, C. Kaynak (1998) Cascading Classifiers, Kybernetika.\n",
      "  - Ken Tang and Ponnuthurai N. Suganthan and Xi Yao and A. Kai Qin.\n",
      "    Linear dimensionalityreduction using relevance weighted LDA. School of\n",
      "    Electrical and Electronic Engineering Nanyang Technological University.\n",
      "    2005.\n",
      "  - Claudio Gentile. A New Approximate Maximal Margin Classification\n",
      "    Algorithm. NIPS. 2000.\n"
     ]
    }
   ],
   "source": [
    "print(digits.DESCR)"
   ]
  },
  {
   "cell_type": "markdown",
   "id": "according-melbourne",
   "metadata": {},
   "source": [
    "### (4) train,test 데이터분리"
   ]
  },
  {
   "cell_type": "code",
   "execution_count": 36,
   "id": "brilliant-distinction",
   "metadata": {},
   "outputs": [],
   "source": [
    "X_train, X_test, y_train, y_test = train_test_split(digits_data,\n",
    "                                                    digits_label,\n",
    "                                                    test_size = 0.2,\n",
    "                                                    random_state = 7)"
   ]
  },
  {
   "cell_type": "markdown",
   "id": "norwegian-individual",
   "metadata": {},
   "source": [
    "### (5)다양한 모델로 학습시켜보기"
   ]
  },
  {
   "cell_type": "code",
   "execution_count": 37,
   "id": "thorough-disabled",
   "metadata": {},
   "outputs": [
    {
     "name": "stdout",
     "output_type": "stream",
     "text": [
      "decisiontree_model\n",
      "              precision    recall  f1-score   support\n",
      "\n",
      "           0       1.00      1.00      1.00        43\n",
      "           1       0.83      0.81      0.82        42\n",
      "           2       0.81      0.85      0.83        40\n",
      "           3       0.82      0.91      0.86        34\n",
      "           4       0.82      0.97      0.89        37\n",
      "           5       0.93      0.96      0.95        28\n",
      "           6       0.96      0.93      0.95        28\n",
      "           7       0.93      0.82      0.87        33\n",
      "           8       0.85      0.65      0.74        43\n",
      "           9       0.71      0.75      0.73        32\n",
      "\n",
      "    accuracy                           0.86       360\n",
      "   macro avg       0.87      0.87      0.86       360\n",
      "weighted avg       0.86      0.86      0.86       360\n",
      "\n",
      "0.8611111111111112 \n",
      "\n",
      "randomforest_model\n",
      "              precision    recall  f1-score   support\n",
      "\n",
      "           0       1.00      0.98      0.99        43\n",
      "           1       0.93      1.00      0.97        42\n",
      "           2       1.00      1.00      1.00        40\n",
      "           3       0.97      1.00      0.99        34\n",
      "           4       0.90      1.00      0.95        37\n",
      "           5       0.90      1.00      0.95        28\n",
      "           6       1.00      0.96      0.98        28\n",
      "           7       0.97      0.97      0.97        33\n",
      "           8       1.00      0.84      0.91        43\n",
      "           9       1.00      0.94      0.97        32\n",
      "\n",
      "    accuracy                           0.97       360\n",
      "   macro avg       0.97      0.97      0.97       360\n",
      "weighted avg       0.97      0.97      0.97       360\n",
      "\n",
      "0.9666666666666667 \n",
      "\n",
      "svm_model\n",
      "              precision    recall  f1-score   support\n",
      "\n",
      "           0       1.00      1.00      1.00        43\n",
      "           1       0.95      1.00      0.98        42\n",
      "           2       1.00      1.00      1.00        40\n",
      "           3       1.00      1.00      1.00        34\n",
      "           4       1.00      1.00      1.00        37\n",
      "           5       0.93      1.00      0.97        28\n",
      "           6       1.00      1.00      1.00        28\n",
      "           7       1.00      1.00      1.00        33\n",
      "           8       1.00      0.93      0.96        43\n",
      "           9       1.00      0.97      0.98        32\n",
      "\n",
      "    accuracy                           0.99       360\n",
      "   macro avg       0.99      0.99      0.99       360\n",
      "weighted avg       0.99      0.99      0.99       360\n",
      "\n",
      "0.9888888888888889 \n",
      "\n",
      "sgd_model\n",
      "              precision    recall  f1-score   support\n",
      "\n",
      "           0       1.00      1.00      1.00        43\n",
      "           1       0.87      0.95      0.91        42\n",
      "           2       0.98      1.00      0.99        40\n",
      "           3       1.00      0.79      0.89        34\n",
      "           4       0.95      0.97      0.96        37\n",
      "           5       0.93      0.93      0.93        28\n",
      "           6       0.96      0.93      0.95        28\n",
      "           7       0.94      0.97      0.96        33\n",
      "           8       0.75      0.88      0.81        43\n",
      "           9       0.96      0.75      0.84        32\n",
      "\n",
      "    accuracy                           0.92       360\n",
      "   macro avg       0.93      0.92      0.92       360\n",
      "weighted avg       0.93      0.92      0.92       360\n",
      "\n",
      "0.9222222222222223 \n",
      "\n",
      "logistic_model\n",
      "              precision    recall  f1-score   support\n",
      "\n",
      "           0       1.00      1.00      1.00        43\n",
      "           1       0.95      0.95      0.95        42\n",
      "           2       0.98      1.00      0.99        40\n",
      "           3       0.94      0.97      0.96        34\n",
      "           4       0.97      1.00      0.99        37\n",
      "           5       0.82      0.96      0.89        28\n",
      "           6       1.00      0.96      0.98        28\n",
      "           7       0.97      0.97      0.97        33\n",
      "           8       0.92      0.81      0.86        43\n",
      "           9       0.97      0.91      0.94        32\n",
      "\n",
      "    accuracy                           0.95       360\n",
      "   macro avg       0.95      0.95      0.95       360\n",
      "weighted avg       0.95      0.95      0.95       360\n",
      "\n",
      "0.9527777777777777 \n",
      "\n"
     ]
    },
    {
     "name": "stderr",
     "output_type": "stream",
     "text": [
      "/opt/conda/lib/python3.7/site-packages/sklearn/linear_model/_logistic.py:762: ConvergenceWarning: lbfgs failed to converge (status=1):\n",
      "STOP: TOTAL NO. of ITERATIONS REACHED LIMIT.\n",
      "\n",
      "Increase the number of iterations (max_iter) or scale the data as shown in:\n",
      "    https://scikit-learn.org/stable/modules/preprocessing.html\n",
      "Please also refer to the documentation for alternative solver options:\n",
      "    https://scikit-learn.org/stable/modules/linear_model.html#logistic-regression\n",
      "  extra_warning_msg=_LOGISTIC_SOLVER_CONVERGENCE_MSG)\n"
     ]
    }
   ],
   "source": [
    "from sklearn.tree import DecisionTreeClassifier\n",
    "from sklearn.ensemble import RandomForestClassifier\n",
    "from sklearn import svm\n",
    "from sklearn.linear_model import SGDClassifier\n",
    "from sklearn.linear_model import LogisticRegression\n",
    "\n",
    "\n",
    "models = {\n",
    "    \"decisiontree_model\" : DecisionTreeClassifier(),\n",
    "    \"randomforest_model\" : RandomForestClassifier(),\n",
    "    \"svm_model\" : svm.SVC(),\n",
    "    \"sgd_model\" : SGDClassifier(),\n",
    "    \"logistic_model\" : LogisticRegression()    \n",
    "}\n",
    "\n",
    "for key, values in models.items():\n",
    "    print(key)\n",
    "    values.fit(X_train,y_train)\n",
    "    y_pred = values.predict(X_test)\n",
    "    accuracy = accuracy_score(y_test,y_pred)\n",
    "\n",
    "    print(classification_report(y_test,y_pred))\n",
    "    print(accuracy,'\\n')"
   ]
  },
  {
   "cell_type": "markdown",
   "id": "marked-cosmetic",
   "metadata": {},
   "source": [
    "## (6)모델을 평가해보기"
   ]
  },
  {
   "cell_type": "markdown",
   "id": "fresh-illness",
   "metadata": {},
   "source": [
    "5개의 모델로 평가해보았다.   \n",
    "skleran.metrics에서 classification_report와 accuracy_score의 평가지표를 사용했다.   \n",
    "손글씨는 precision,recall 중 한 쪽이 더 중요하다고 생각되는 데이터도 아니였고  \n",
    "평가지표를 보아도 그러하였다.   \n",
    "둘 중 어느 지표를 사용해도 무방하고 SVM모델이 가장 높은 결과를 얻었다."
   ]
  },
  {
   "cell_type": "markdown",
   "id": "immediate-adelaide",
   "metadata": {},
   "source": [
    "## -----------------------------------------------------------------------------"
   ]
  },
  {
   "cell_type": "markdown",
   "id": "compressed-prospect",
   "metadata": {},
   "source": [
    "# 와인분류"
   ]
  },
  {
   "cell_type": "markdown",
   "id": "boring-ideal",
   "metadata": {},
   "source": [
    "### (1) 필요한 모듈 import"
   ]
  },
  {
   "cell_type": "code",
   "execution_count": 39,
   "id": "turkish-carbon",
   "metadata": {},
   "outputs": [],
   "source": [
    "from sklearn.datasets import load_wine\n",
    "from sklearn.model_selection import train_test_split\n",
    "from sklearn.metrics import classification_report,accuracy_score"
   ]
  },
  {
   "cell_type": "markdown",
   "id": "victorian-resident",
   "metadata": {},
   "source": [
    "### (2)데이터준비"
   ]
  },
  {
   "cell_type": "code",
   "execution_count": 40,
   "id": "interpreted-atlanta",
   "metadata": {},
   "outputs": [],
   "source": [
    "digits = load_wine()"
   ]
  },
  {
   "cell_type": "markdown",
   "id": "natural-league",
   "metadata": {},
   "source": [
    "### (3)데이터이해하기\n",
    "+ Feature Data 지정하기\n",
    "+ Label Data 지정하기\n",
    "+ Target Names 출력해 보기\n",
    "+ 데이터 Describe 해 보기"
   ]
  },
  {
   "cell_type": "code",
   "execution_count": 41,
   "id": "fiscal-length",
   "metadata": {},
   "outputs": [],
   "source": [
    "digits_data = digits.data\n",
    "digits_label = digits.target"
   ]
  },
  {
   "cell_type": "code",
   "execution_count": 42,
   "id": "sonic-tender",
   "metadata": {},
   "outputs": [
    {
     "data": {
      "text/plain": [
       "array(['class_0', 'class_1', 'class_2'], dtype='<U7')"
      ]
     },
     "execution_count": 42,
     "metadata": {},
     "output_type": "execute_result"
    }
   ],
   "source": [
    "digits.target_names"
   ]
  },
  {
   "cell_type": "code",
   "execution_count": 43,
   "id": "gentle-circular",
   "metadata": {},
   "outputs": [
    {
     "name": "stdout",
     "output_type": "stream",
     "text": [
      ".. _wine_dataset:\n",
      "\n",
      "Wine recognition dataset\n",
      "------------------------\n",
      "\n",
      "**Data Set Characteristics:**\n",
      "\n",
      "    :Number of Instances: 178 (50 in each of three classes)\n",
      "    :Number of Attributes: 13 numeric, predictive attributes and the class\n",
      "    :Attribute Information:\n",
      " \t\t- Alcohol\n",
      " \t\t- Malic acid\n",
      " \t\t- Ash\n",
      "\t\t- Alcalinity of ash  \n",
      " \t\t- Magnesium\n",
      "\t\t- Total phenols\n",
      " \t\t- Flavanoids\n",
      " \t\t- Nonflavanoid phenols\n",
      " \t\t- Proanthocyanins\n",
      "\t\t- Color intensity\n",
      " \t\t- Hue\n",
      " \t\t- OD280/OD315 of diluted wines\n",
      " \t\t- Proline\n",
      "\n",
      "    - class:\n",
      "            - class_0\n",
      "            - class_1\n",
      "            - class_2\n",
      "\t\t\n",
      "    :Summary Statistics:\n",
      "    \n",
      "    ============================= ==== ===== ======= =====\n",
      "                                   Min   Max   Mean     SD\n",
      "    ============================= ==== ===== ======= =====\n",
      "    Alcohol:                      11.0  14.8    13.0   0.8\n",
      "    Malic Acid:                   0.74  5.80    2.34  1.12\n",
      "    Ash:                          1.36  3.23    2.36  0.27\n",
      "    Alcalinity of Ash:            10.6  30.0    19.5   3.3\n",
      "    Magnesium:                    70.0 162.0    99.7  14.3\n",
      "    Total Phenols:                0.98  3.88    2.29  0.63\n",
      "    Flavanoids:                   0.34  5.08    2.03  1.00\n",
      "    Nonflavanoid Phenols:         0.13  0.66    0.36  0.12\n",
      "    Proanthocyanins:              0.41  3.58    1.59  0.57\n",
      "    Colour Intensity:              1.3  13.0     5.1   2.3\n",
      "    Hue:                          0.48  1.71    0.96  0.23\n",
      "    OD280/OD315 of diluted wines: 1.27  4.00    2.61  0.71\n",
      "    Proline:                       278  1680     746   315\n",
      "    ============================= ==== ===== ======= =====\n",
      "\n",
      "    :Missing Attribute Values: None\n",
      "    :Class Distribution: class_0 (59), class_1 (71), class_2 (48)\n",
      "    :Creator: R.A. Fisher\n",
      "    :Donor: Michael Marshall (MARSHALL%PLU@io.arc.nasa.gov)\n",
      "    :Date: July, 1988\n",
      "\n",
      "This is a copy of UCI ML Wine recognition datasets.\n",
      "https://archive.ics.uci.edu/ml/machine-learning-databases/wine/wine.data\n",
      "\n",
      "The data is the results of a chemical analysis of wines grown in the same\n",
      "region in Italy by three different cultivators. There are thirteen different\n",
      "measurements taken for different constituents found in the three types of\n",
      "wine.\n",
      "\n",
      "Original Owners: \n",
      "\n",
      "Forina, M. et al, PARVUS - \n",
      "An Extendible Package for Data Exploration, Classification and Correlation. \n",
      "Institute of Pharmaceutical and Food Analysis and Technologies,\n",
      "Via Brigata Salerno, 16147 Genoa, Italy.\n",
      "\n",
      "Citation:\n",
      "\n",
      "Lichman, M. (2013). UCI Machine Learning Repository\n",
      "[https://archive.ics.uci.edu/ml]. Irvine, CA: University of California,\n",
      "School of Information and Computer Science. \n",
      "\n",
      ".. topic:: References\n",
      "\n",
      "  (1) S. Aeberhard, D. Coomans and O. de Vel, \n",
      "  Comparison of Classifiers in High Dimensional Settings, \n",
      "  Tech. Rep. no. 92-02, (1992), Dept. of Computer Science and Dept. of  \n",
      "  Mathematics and Statistics, James Cook University of North Queensland. \n",
      "  (Also submitted to Technometrics). \n",
      "\n",
      "  The data was used with many others for comparing various \n",
      "  classifiers. The classes are separable, though only RDA \n",
      "  has achieved 100% correct classification. \n",
      "  (RDA : 100%, QDA 99.4%, LDA 98.9%, 1NN 96.1% (z-transformed data)) \n",
      "  (All results using the leave-one-out technique) \n",
      "\n",
      "  (2) S. Aeberhard, D. Coomans and O. de Vel, \n",
      "  \"THE CLASSIFICATION PERFORMANCE OF RDA\" \n",
      "  Tech. Rep. no. 92-01, (1992), Dept. of Computer Science and Dept. of \n",
      "  Mathematics and Statistics, James Cook University of North Queensland. \n",
      "  (Also submitted to Journal of Chemometrics).\n",
      "\n"
     ]
    }
   ],
   "source": [
    "print(digits.DESCR)"
   ]
  },
  {
   "cell_type": "markdown",
   "id": "damaged-composer",
   "metadata": {},
   "source": [
    "### (4) train,test 데이터분리"
   ]
  },
  {
   "cell_type": "code",
   "execution_count": 120,
   "id": "suffering-draft",
   "metadata": {},
   "outputs": [],
   "source": [
    "X_train, X_test, y_train, y_test = train_test_split(digits_data,\n",
    "                                                    digits_label,\n",
    "                                                    test_size = 0.2,\n",
    "                                                    random_state = 7)"
   ]
  },
  {
   "cell_type": "markdown",
   "id": "elect-cancer",
   "metadata": {},
   "source": [
    "### (5)다양한 모델로 학습시켜보기"
   ]
  },
  {
   "cell_type": "code",
   "execution_count": 121,
   "id": "binary-evans",
   "metadata": {},
   "outputs": [
    {
     "name": "stdout",
     "output_type": "stream",
     "text": [
      "decisiontree_model\n",
      "              precision    recall  f1-score   support\n",
      "\n",
      "           0       1.00      1.00      1.00         7\n",
      "           1       0.89      1.00      0.94        17\n",
      "           2       1.00      0.83      0.91        12\n",
      "\n",
      "    accuracy                           0.94        36\n",
      "   macro avg       0.96      0.94      0.95        36\n",
      "weighted avg       0.95      0.94      0.94        36\n",
      "\n",
      "0.9444444444444444 \n",
      "\n",
      "randomforest_model\n",
      "              precision    recall  f1-score   support\n",
      "\n",
      "           0       1.00      1.00      1.00         7\n",
      "           1       1.00      1.00      1.00        17\n",
      "           2       1.00      1.00      1.00        12\n",
      "\n",
      "    accuracy                           1.00        36\n",
      "   macro avg       1.00      1.00      1.00        36\n",
      "weighted avg       1.00      1.00      1.00        36\n",
      "\n",
      "1.0 \n",
      "\n",
      "svm_model\n",
      "              precision    recall  f1-score   support\n",
      "\n",
      "           0       0.86      0.86      0.86         7\n",
      "           1       0.58      0.88      0.70        17\n",
      "           2       0.33      0.08      0.13        12\n",
      "\n",
      "    accuracy                           0.61        36\n",
      "   macro avg       0.59      0.61      0.56        36\n",
      "weighted avg       0.55      0.61      0.54        36\n",
      "\n",
      "0.6111111111111112 \n",
      "\n",
      "sgd_model\n",
      "              precision    recall  f1-score   support\n",
      "\n",
      "           0       0.70      1.00      0.82         7\n",
      "           1       0.71      0.88      0.79        17\n",
      "           2       0.80      0.33      0.47        12\n",
      "\n",
      "    accuracy                           0.72        36\n",
      "   macro avg       0.74      0.74      0.69        36\n",
      "weighted avg       0.74      0.72      0.69        36\n",
      "\n",
      "0.7222222222222222 \n",
      "\n",
      "logistic_model\n",
      "              precision    recall  f1-score   support\n",
      "\n",
      "           0       1.00      0.86      0.92         7\n",
      "           1       0.94      1.00      0.97        17\n",
      "           2       1.00      1.00      1.00        12\n",
      "\n",
      "    accuracy                           0.97        36\n",
      "   macro avg       0.98      0.95      0.96        36\n",
      "weighted avg       0.97      0.97      0.97        36\n",
      "\n",
      "0.9722222222222222 \n",
      "\n"
     ]
    },
    {
     "name": "stderr",
     "output_type": "stream",
     "text": [
      "/opt/conda/lib/python3.7/site-packages/sklearn/linear_model/_logistic.py:762: ConvergenceWarning: lbfgs failed to converge (status=1):\n",
      "STOP: TOTAL NO. of ITERATIONS REACHED LIMIT.\n",
      "\n",
      "Increase the number of iterations (max_iter) or scale the data as shown in:\n",
      "    https://scikit-learn.org/stable/modules/preprocessing.html\n",
      "Please also refer to the documentation for alternative solver options:\n",
      "    https://scikit-learn.org/stable/modules/linear_model.html#logistic-regression\n",
      "  extra_warning_msg=_LOGISTIC_SOLVER_CONVERGENCE_MSG)\n"
     ]
    }
   ],
   "source": [
    "from sklearn.tree import DecisionTreeClassifier\n",
    "from sklearn.ensemble import RandomForestClassifier\n",
    "from sklearn import svm\n",
    "from sklearn.linear_model import SGDClassifier\n",
    "from sklearn.linear_model import LogisticRegression\n",
    "\n",
    "\n",
    "models = {\n",
    "    \"decisiontree_model\" : DecisionTreeClassifier(),\n",
    "    \"randomforest_model\" : RandomForestClassifier(),\n",
    "    \"svm_model\" : svm.SVC(),\n",
    "    \"sgd_model\" : SGDClassifier(),\n",
    "    \"logistic_model\" : LogisticRegression()    \n",
    "}\n",
    "\n",
    "for key, values in models.items():\n",
    "    print(key)\n",
    "    values.fit(X_train,y_train)\n",
    "    y_pred = values.predict(X_test)\n",
    "    accuracy = accuracy_score(y_test,y_pred)\n",
    "\n",
    "    print(classification_report(y_test,y_pred))\n",
    "    print(accuracy,'\\n') "
   ]
  },
  {
   "cell_type": "markdown",
   "id": "decimal-arizona",
   "metadata": {},
   "source": [
    "## (6)모델을 평가해보기"
   ]
  },
  {
   "cell_type": "markdown",
   "id": "introductory-appendix",
   "metadata": {},
   "source": [
    "5개의 모델로 평가해보았다.   \n",
    "위와같이 classification_report와 accuracy_score의 평가지표를 사용했다. \n",
    "\n",
    "accuracy가 70%, 60%에 도달했더라도   \n",
    "precision높은 반면 recall은 낮은 결과를 혹은 반대의 결과를 볼 수 가 있었다.\n",
    "\n",
    "그러므로 와인의 분류는 calssification_report가 더 적절한 평가지표가 된다.\n",
    "\n",
    "전반적으로 Randomforest모델이 높은 결과를 띄었다."
   ]
  },
  {
   "cell_type": "markdown",
   "id": "metric-protection",
   "metadata": {},
   "source": [
    "## -----------------------------------------------------------------------------"
   ]
  },
  {
   "cell_type": "markdown",
   "id": "greek-outside",
   "metadata": {},
   "source": [
    "### (1) 필요한 모듈 import"
   ]
  },
  {
   "cell_type": "code",
   "execution_count": 122,
   "id": "hispanic-soccer",
   "metadata": {},
   "outputs": [],
   "source": [
    "from sklearn.datasets import load_breast_cancer\n",
    "from sklearn.model_selection import train_test_split\n",
    "from sklearn.metrics import classification_report,accuracy_score"
   ]
  },
  {
   "cell_type": "markdown",
   "id": "turkish-aruba",
   "metadata": {},
   "source": [
    "### (2)데이터준비"
   ]
  },
  {
   "cell_type": "code",
   "execution_count": 123,
   "id": "dirty-segment",
   "metadata": {},
   "outputs": [
    {
     "ename": "NameError",
     "evalue": "name 'load_breast_cancer' is not defined",
     "output_type": "error",
     "traceback": [
      "\u001b[0;31m---------------------------------------------------------------------------\u001b[0m",
      "\u001b[0;31mNameError\u001b[0m                                 Traceback (most recent call last)",
      "\u001b[0;32m<ipython-input-123-20495f07eb62>\u001b[0m in \u001b[0;36m<module>\u001b[0;34m\u001b[0m\n\u001b[0;32m----> 1\u001b[0;31m \u001b[0mdigits\u001b[0m \u001b[0;34m=\u001b[0m \u001b[0mload_breast_cancer\u001b[0m\u001b[0;34m(\u001b[0m\u001b[0;34m)\u001b[0m\u001b[0;34m\u001b[0m\u001b[0;34m\u001b[0m\u001b[0m\n\u001b[0m",
      "\u001b[0;31mNameError\u001b[0m: name 'load_breast_cancer' is not defined"
     ]
    }
   ],
   "source": [
    "digits = load_breast_cancer()"
   ]
  },
  {
   "cell_type": "markdown",
   "id": "copyrighted-auckland",
   "metadata": {},
   "source": [
    "### (3)데이터이해하기\n",
    "+ Feature Data 지정하기\n",
    "+ Label Data 지정하기\n",
    "+ Target Names 출력해 보기\n",
    "+ 데이터 Describe 해 보기"
   ]
  },
  {
   "cell_type": "code",
   "execution_count": null,
   "id": "permanent-ireland",
   "metadata": {},
   "outputs": [],
   "source": []
  },
  {
   "cell_type": "code",
   "execution_count": null,
   "id": "alone-lunch",
   "metadata": {},
   "outputs": [],
   "source": []
  },
  {
   "cell_type": "code",
   "execution_count": null,
   "id": "disciplinary-taylor",
   "metadata": {},
   "outputs": [],
   "source": []
  },
  {
   "cell_type": "markdown",
   "id": "latin-courage",
   "metadata": {},
   "source": [
    "### (4) train,test 데이터분리"
   ]
  },
  {
   "cell_type": "code",
   "execution_count": null,
   "id": "alien-brand",
   "metadata": {},
   "outputs": [],
   "source": []
  },
  {
   "cell_type": "markdown",
   "id": "pressed-module",
   "metadata": {},
   "source": [
    "### (5)다양한 모델로 학습시켜보기"
   ]
  },
  {
   "cell_type": "code",
   "execution_count": null,
   "id": "handed-victim",
   "metadata": {},
   "outputs": [],
   "source": []
  },
  {
   "cell_type": "markdown",
   "id": "changing-contents",
   "metadata": {},
   "source": [
    "## (6)모델을 평가해보기"
   ]
  },
  {
   "cell_type": "code",
   "execution_count": null,
   "id": "adolescent-collar",
   "metadata": {},
   "outputs": [],
   "source": []
  }
 ],
 "metadata": {
  "kernelspec": {
   "display_name": "Python 3",
   "language": "python",
   "name": "python3"
  },
  "language_info": {
   "codemirror_mode": {
    "name": "ipython",
    "version": 3
   },
   "file_extension": ".py",
   "mimetype": "text/x-python",
   "name": "python",
   "nbconvert_exporter": "python",
   "pygments_lexer": "ipython3",
   "version": "3.7.9"
  }
 },
 "nbformat": 4,
 "nbformat_minor": 5
}
