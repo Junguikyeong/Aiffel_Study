{
 "cells": [
  {
   "cell_type": "markdown",
   "id": "encouraging-rebecca",
   "metadata": {},
   "source": [
    "# 가위바위보 분류기"
   ]
  },
  {
   "cell_type": "markdown",
   "id": "african-joyce",
   "metadata": {},
   "source": [
    "### 데이터준비\n",
    "+ 28x28 사이즈 변환\n"
   ]
  },
  {
   "cell_type": "code",
   "execution_count": 185,
   "id": "premier-insertion",
   "metadata": {},
   "outputs": [
    {
     "name": "stdout",
     "output_type": "stream",
     "text": [
      "1000  images to be resized.\n",
      "1000  images to be resized.\n",
      "1000  images to be resized.\n",
      "100  images to be resized.\n",
      "100  images to be resized.\n",
      "100  images to be resized.\n",
      "테스트 이미지 resize 완료!\n"
     ]
    }
   ],
   "source": [
    "from PIL import Image\n",
    "import matplotlib.pyplot as plt\n",
    "import os,glob\n",
    "import numpy as np\n",
    "import tensorflow as tf\n",
    "from tensorflow import keras\n",
    "\n",
    "import os\n",
    "\n",
    "def resize_images(img_path):\n",
    "    images=glob.glob(img_path + \"/*.jpg\")  \n",
    "    print(len(images), \" images to be resized.\")\n",
    "    \n",
    "    # 파일마다 모두 28x28 사이즈로 바꾸어 저장합니다.\n",
    "    target_size=(28,28)\n",
    "    \n",
    "    for img in images:\n",
    "        old_img=Image.open(img)\n",
    "        new_img=old_img.resize(target_size,Image.ANTIALIAS)\n",
    "        new_img.save(img, \"JPEG\")\n",
    "    \n",
    "# train 가위바위보 이미지가 저장된 주소\n",
    "PATH = os.getenv(\"HOME\") + \"/aiffel/rock_scissor_paper\"\n",
    "image_dir_path1 = PATH\n",
    "image_dir_path2 = PATH + \"/rock\"\n",
    "image_dir_path3 = PATH + \"/scissor\"\n",
    "image_dir_path4 = PATH + \"/paper\"\n",
    "\n",
    "#test 가위바위보 이미지가 저장된주소\n",
    "PATH2 = os.getenv(\"HOME\") + \"/aiffel/rock_scissor_paper/test\"\n",
    "image_dir_path5 = PATH2\n",
    "image_dir_path6 = PATH2 + \"/rock\"\n",
    "image_dir_path7 = PATH2 + \"/scissor\"\n",
    "image_dir_path8 = PATH2 + \"/paper\"\n",
    "\n",
    "resize_images(image_dir_path2)\n",
    "resize_images(image_dir_path3)\n",
    "resize_images(image_dir_path4)\n",
    "\n",
    "resize_images(image_dir_path6)\n",
    "resize_images(image_dir_path7)\n",
    "resize_images(image_dir_path8)\n",
    "\n",
    "print(\"테스트 이미지 resize 완료!\")\n"
   ]
  },
  {
   "cell_type": "markdown",
   "id": "working-netherlands",
   "metadata": {},
   "source": [
    "+ ### test데이터 라벨링 및 정규화"
   ]
  },
  {
   "cell_type": "code",
   "execution_count": 207,
   "id": "consolidated-joining",
   "metadata": {},
   "outputs": [
    {
     "name": "stdout",
     "output_type": "stream",
     "text": [
      "학습데이터(x_train)의 이미지 개수는 3000 입니다.\n",
      "x_train shape: (3000, 28, 28, 3)\n",
      "y_train shape: (3000,)\n"
     ]
    }
   ],
   "source": [
    "def load_data(img_path,number_of_data=3000):    # 가위바위보 이미지 개수 총합\n",
    "    # 가위 : 0, 바위 : 1, 보 : 2\n",
    "    img_size=28\n",
    "    color=3\n",
    "    #이미지 데이터와 라벨(가위 : 0, 바위 : 1, 보 : 2) 데이터를 담을 행렬(matrix) 영역을 생성\n",
    "    imgs=np.zeros(number_of_data*img_size*img_size*color,dtype=np.int32).reshape(number_of_data,img_size,img_size,color)\n",
    "    labels=np.zeros(number_of_data,dtype=np.int32)\n",
    "\n",
    "    idx=0\n",
    "    for file in glob.iglob(img_path+'/scissor/*.jpg'):\n",
    "        img = np.array(Image.open(file),dtype=np.int32)\n",
    "        imgs[idx,:,:,:]=img    # 데이터 영역에 이미지 행렬을 복사\n",
    "        labels[idx]=0   # 가위 : 0\n",
    "        idx=idx+1\n",
    "\n",
    "    for file in glob.iglob(img_path+'/rock/*.jpg'):\n",
    "        img = np.array(Image.open(file),dtype=np.int32)\n",
    "        imgs[idx,:,:,:]=img    # 데이터 영역에 이미지 행렬을 복사\n",
    "        labels[idx]=1   # 바위 : 1\n",
    "        idx=idx+1       \n",
    "\n",
    "    for file in glob.iglob(img_path+'/paper/*.jpg'):\n",
    "        img = np.array(Image.open(file),dtype=np.int32)\n",
    "        imgs[idx,:,:,:]=img    # 데이터 영역에 이미지 행렬을 복사\n",
    "        labels[idx]=2   # 보 : 2\n",
    "        idx=idx+1\n",
    "\n",
    "    print(\"학습데이터(x_train)의 이미지 개수는\",idx,\"입니다.\")\n",
    "    return imgs, labels\n",
    "\n",
    "(x_train, y_train)=load_data(image_dir_path1)\n",
    "x_train_norm = x_train/255.0   # 입력은 0~1 사이의 값으로 정규화\n",
    "\n",
    "print(\"x_train shape: {}\".format(x_train_norm.shape))\n",
    "print(\"y_train shape: {}\".format(y_train.shape))"
   ]
  },
  {
   "cell_type": "markdown",
   "id": "alone-surprise",
   "metadata": {},
   "source": [
    "## 딥러닝 네트워크설계\n",
    "+ ### Conv2D레이어,Dense레이어를 적당량 높여서 네트워크구축\n",
    "+ ### dropout을 사용해서 오버피팅을 줄여본다."
   ]
  },
  {
   "cell_type": "code",
   "execution_count": 204,
   "id": "convinced-arizona",
   "metadata": {},
   "outputs": [
    {
     "name": "stdout",
     "output_type": "stream",
     "text": [
      "Model: \"sequential_38\"\n",
      "_________________________________________________________________\n",
      "Layer (type)                 Output Shape              Param #   \n",
      "=================================================================\n",
      "conv2d_97 (Conv2D)           (None, 26, 26, 16)        448       \n",
      "_________________________________________________________________\n",
      "max_pooling2d_94 (MaxPooling (None, 13, 13, 16)        0         \n",
      "_________________________________________________________________\n",
      "conv2d_98 (Conv2D)           (None, 11, 11, 32)        4640      \n",
      "_________________________________________________________________\n",
      "max_pooling2d_95 (MaxPooling (None, 5, 5, 32)          0         \n",
      "_________________________________________________________________\n",
      "dropout_30 (Dropout)         (None, 5, 5, 32)          0         \n",
      "_________________________________________________________________\n",
      "flatten_35 (Flatten)         (None, 800)               0         \n",
      "_________________________________________________________________\n",
      "dense_69 (Dense)             (None, 64)                51264     \n",
      "_________________________________________________________________\n",
      "dense_70 (Dense)             (None, 3)                 195       \n",
      "=================================================================\n",
      "Total params: 56,547\n",
      "Trainable params: 56,547\n",
      "Non-trainable params: 0\n",
      "_________________________________________________________________\n",
      "Epoch 1/15\n",
      "94/94 [==============================] - 1s 3ms/step - loss: 1.0262 - accuracy: 0.4625\n",
      "Epoch 2/15\n",
      "94/94 [==============================] - 0s 3ms/step - loss: 0.3782 - accuracy: 0.8721\n",
      "Epoch 3/15\n",
      "94/94 [==============================] - 0s 3ms/step - loss: 0.1579 - accuracy: 0.9528\n",
      "Epoch 4/15\n",
      "94/94 [==============================] - 0s 3ms/step - loss: 0.0689 - accuracy: 0.9843\n",
      "Epoch 5/15\n",
      "94/94 [==============================] - 0s 3ms/step - loss: 0.0482 - accuracy: 0.9863\n",
      "Epoch 6/15\n",
      "94/94 [==============================] - 0s 3ms/step - loss: 0.0303 - accuracy: 0.9906\n",
      "Epoch 7/15\n",
      "94/94 [==============================] - 0s 3ms/step - loss: 0.0216 - accuracy: 0.9943\n",
      "Epoch 8/15\n",
      "94/94 [==============================] - 0s 3ms/step - loss: 0.0142 - accuracy: 0.9963\n",
      "Epoch 9/15\n",
      "94/94 [==============================] - 0s 3ms/step - loss: 0.0132 - accuracy: 0.9954\n",
      "Epoch 10/15\n",
      "94/94 [==============================] - 0s 3ms/step - loss: 0.0188 - accuracy: 0.9956\n",
      "Epoch 11/15\n",
      "94/94 [==============================] - 0s 3ms/step - loss: 0.0091 - accuracy: 0.9982\n",
      "Epoch 12/15\n",
      "94/94 [==============================] - 0s 3ms/step - loss: 0.0045 - accuracy: 0.9995\n",
      "Epoch 13/15\n",
      "94/94 [==============================] - 0s 3ms/step - loss: 0.0059 - accuracy: 0.9991\n",
      "Epoch 14/15\n",
      "94/94 [==============================] - 0s 3ms/step - loss: 0.0107 - accuracy: 0.9967\n",
      "Epoch 15/15\n",
      "94/94 [==============================] - 0s 3ms/step - loss: 0.0107 - accuracy: 0.9974\n"
     ]
    },
    {
     "data": {
      "text/plain": [
       "<tensorflow.python.keras.callbacks.History at 0x7f49e0ae7910>"
      ]
     },
     "execution_count": 204,
     "metadata": {},
     "output_type": "execute_result"
    }
   ],
   "source": [
    "model=keras.models.Sequential()\n",
    "model.add(keras.layers.Conv2D(16, (3,3), activation='relu', input_shape=(28,28,3)))\n",
    "model.add(keras.layers.MaxPool2D(2,2))\n",
    "model.add(keras.layers.Conv2D(32, (3,3), activation='relu'))\n",
    "model.add(keras.layers.MaxPooling2D((2,2)))\n",
    "model.add(keras.layers.Dropout(0.3))\n",
    "model.add(keras.layers.Flatten())\n",
    "model.add(keras.layers.Dense(64, activation='relu'))\n",
    "model.add(keras.layers.Dense(3, activation='softmax'))\n",
    "\n",
    "model.summary()\n",
    "\n",
    "model.compile(optimizer='adam',\n",
    "             loss='sparse_categorical_crossentropy',\n",
    "             metrics=['accuracy'])\n",
    "\n",
    "model.fit(x_train_norm, y_train, epochs=15)"
   ]
  },
  {
   "cell_type": "markdown",
   "id": "eligible-tract",
   "metadata": {},
   "source": [
    "+ #### test 데이터 정규화"
   ]
  },
  {
   "cell_type": "code",
   "execution_count": 208,
   "id": "colored-blocking",
   "metadata": {},
   "outputs": [
    {
     "name": "stdout",
     "output_type": "stream",
     "text": [
      "학습데이터(x_train)의 이미지 개수는 300 입니다.\n",
      "x_test shape: (300, 28, 28, 3)\n",
      "y_test shape: (300,)\n"
     ]
    }
   ],
   "source": [
    "(x_test, y_test)=load_data(image_dir_path5,300)\n",
    "x_test_norm = x_test/255.0   # 입력은 0~1 사이의 값으로 정규화\n",
    "\n",
    "print(\"x_test shape: {}\".format(x_test_norm.shape))\n",
    "print(\"y_test shape: {}\".format(y_test.shape))"
   ]
  },
  {
   "cell_type": "markdown",
   "id": "complex-reception",
   "metadata": {},
   "source": [
    "## 모델 성능평가\n",
    "처음에는 300장 학습데이터로 시작했을때는 30%정도였는데   \n",
    "#### 3000장으로 학습개수를 늘리고 정규화 이후 적합한 하이퍼파라미터들,dropout을 추가하는등 으로\n",
    "### 70% 끌어올림"
   ]
  },
  {
   "cell_type": "code",
   "execution_count": 209,
   "id": "intended-toronto",
   "metadata": {},
   "outputs": [
    {
     "name": "stdout",
     "output_type": "stream",
     "text": [
      "10/10 - 0s - loss: 0.8213 - accuracy: 0.7033\n",
      "test_loss: 0.8212652802467346 \n",
      "test_accuracy: 0.70333331823349\n"
     ]
    }
   ],
   "source": [
    "test_loss, test_accuracy = model.evaluate(x_test_norm, y_test, verbose=2)\n",
    "print(\"test_loss: {} \".format(test_loss))\n",
    "print(\"test_accuracy: {}\".format(test_accuracy))"
   ]
  },
  {
   "cell_type": "markdown",
   "id": "israeli-realtor",
   "metadata": {},
   "source": [
    "+ ### 잘못 예측된 데이터 확인"
   ]
  },
  {
   "cell_type": "code",
   "execution_count": 183,
   "id": "professional-nevada",
   "metadata": {},
   "outputs": [],
   "source": [
    "predicted_result = model.predict(x_test)  \n",
    "predicted_labels = np.argmax(predicted_result, axis=1)"
   ]
  },
  {
   "cell_type": "code",
   "execution_count": 184,
   "id": "computational-hopkins",
   "metadata": {},
   "outputs": [
    {
     "name": "stdout",
     "output_type": "stream",
     "text": [
      "예측확률분포: [1. 0. 0.]\n",
      "라벨: 2, 예측결과: 0\n"
     ]
    },
    {
     "data": {
      "image/png": "[encoded data removed]",
      "text/plain": [
       "<Figure size 432x288 with 1 Axes>"
      ]
     },
     "metadata": {
      "needs_background": "light"
     },
     "output_type": "display_data"
    },
    {
     "name": "stdout",
     "output_type": "stream",
     "text": [
      "예측확률분포: [1. 0. 0.]\n",
      "라벨: 2, 예측결과: 0\n"
     ]
    },
    {
     "data": {
      "image/png": "[encoded data removed]",
      "text/plain": [
       "<Figure size 432x288 with 1 Axes>"
      ]
     },
     "metadata": {
      "needs_background": "light"
     },
     "output_type": "display_data"
    },
    {
     "name": "stdout",
     "output_type": "stream",
     "text": [
      "예측확률분포: [1. 0. 0.]\n",
      "라벨: 1, 예측결과: 0\n"
     ]
    },
    {
     "data": {
      "image/png": "[encoded data removed]",
      "text/plain": [
       "<Figure size 432x288 with 1 Axes>"
      ]
     },
     "metadata": {
      "needs_background": "light"
     },
     "output_type": "display_data"
    },
    {
     "name": "stdout",
     "output_type": "stream",
     "text": [
      "예측확률분포: [1. 0. 0.]\n",
      "라벨: 2, 예측결과: 0\n"
     ]
    },
    {
     "data": {
      "image/png": "[encoded data removed]",
      "text/plain": [
       "<Figure size 432x288 with 1 Axes>"
      ]
     },
     "metadata": {
      "needs_background": "light"
     },
     "output_type": "display_data"
    },
    {
     "name": "stdout",
     "output_type": "stream",
     "text": [
      "예측확률분포: [1. 0. 0.]\n",
      "라벨: 2, 예측결과: 0\n"
     ]
    },
    {
     "data": {
      "image/png": "[encoded data removed]",
      "text/plain": [
       "<Figure size 432x288 with 1 Axes>"
      ]
     },
     "metadata": {
      "needs_background": "light"
     },
     "output_type": "display_data"
    }
   ],
   "source": [
    "import random\n",
    "wrong_predict_list=[]\n",
    "for i, _ in enumerate(predicted_labels):\n",
    "    # i번째 test_labels과 y_test이 다른 경우만 모음\n",
    "    if predicted_labels[i] != y_test[i]:\n",
    "        wrong_predict_list.append(i)\n",
    "\n",
    "# wrong_predict_list 에서 랜덤하게 5개만 뽑기\n",
    "samples = random.choices(population=wrong_predict_list, k=5)\n",
    "\n",
    "for n in samples:\n",
    "    print(\"예측확률분포: \" + str(predicted_result[n]))\n",
    "    print(\"라벨: \" + str(y_test[n]) + \", 예측결과: \" + str(predicted_labels[n]))\n",
    "    plt.imshow(x_test[n], cmap=plt.cm.binary)\n",
    "    plt.show()"
   ]
  },
  {
   "cell_type": "markdown",
   "id": "incoming-advantage",
   "metadata": {},
   "source": [
    "+ 많은량의 데이터셋의 확보 \n",
    "+ 적합한 하이퍼파라미터\n",
    "+ dropout 사용\n",
    "이 3가지가 컸었고 사실 데이터의 배경,빛,자세등이 달라서 쉽지가 않은것같다."
   ]
  },
  {
   "cell_type": "code",
   "execution_count": null,
   "id": "forced-hospital",
   "metadata": {},
   "outputs": [],
   "source": []
  }
 ],
 "metadata": {
  "kernelspec": {
   "display_name": "Python 3",
   "language": "python",
   "name": "python3"
  },
  "language_info": {
   "codemirror_mode": {
    "name": "ipython",
    "version": 3
   },
   "file_extension": ".py",
   "mimetype": "text/x-python",
   "name": "python",
   "nbconvert_exporter": "python",
   "pygments_lexer": "ipython3",
   "version": "3.7.9"
  }
 },
 "nbformat": 4,
 "nbformat_minor": 5
}
