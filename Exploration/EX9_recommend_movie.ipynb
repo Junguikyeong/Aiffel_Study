{
 "cells": [
  {
   "cell_type": "markdown",
   "id": "mysterious-cassette",
   "metadata": {},
   "source": [
    "# 1) 데이터 준비와 전처리"
   ]
  },
  {
   "cell_type": "code",
   "execution_count": 1,
   "id": "palestinian-character",
   "metadata": {},
   "outputs": [
    {
     "data": {
      "text/html": [
       "<div>\n",
       "<style scoped>\n",
       "    .dataframe tbody tr th:only-of-type {\n",
       "        vertical-align: middle;\n",
       "    }\n",
       "\n",
       "    .dataframe tbody tr th {\n",
       "        vertical-align: top;\n",
       "    }\n",
       "\n",
       "    .dataframe thead th {\n",
       "        text-align: right;\n",
       "    }\n",
       "</style>\n",
       "<table border=\"1\" class=\"dataframe\">\n",
       "  <thead>\n",
       "    <tr style=\"text-align: right;\">\n",
       "      <th></th>\n",
       "      <th>user_id</th>\n",
       "      <th>movie_id</th>\n",
       "      <th>rating</th>\n",
       "      <th>timestamp</th>\n",
       "    </tr>\n",
       "  </thead>\n",
       "  <tbody>\n",
       "    <tr>\n",
       "      <th>0</th>\n",
       "      <td>1</td>\n",
       "      <td>1193</td>\n",
       "      <td>5</td>\n",
       "      <td>978300760</td>\n",
       "    </tr>\n",
       "    <tr>\n",
       "      <th>1</th>\n",
       "      <td>1</td>\n",
       "      <td>661</td>\n",
       "      <td>3</td>\n",
       "      <td>978302109</td>\n",
       "    </tr>\n",
       "    <tr>\n",
       "      <th>2</th>\n",
       "      <td>1</td>\n",
       "      <td>914</td>\n",
       "      <td>3</td>\n",
       "      <td>978301968</td>\n",
       "    </tr>\n",
       "    <tr>\n",
       "      <th>3</th>\n",
       "      <td>1</td>\n",
       "      <td>3408</td>\n",
       "      <td>4</td>\n",
       "      <td>978300275</td>\n",
       "    </tr>\n",
       "    <tr>\n",
       "      <th>4</th>\n",
       "      <td>1</td>\n",
       "      <td>2355</td>\n",
       "      <td>5</td>\n",
       "      <td>978824291</td>\n",
       "    </tr>\n",
       "  </tbody>\n",
       "</table>\n",
       "</div>"
      ],
      "text/plain": [
       "   user_id  movie_id  rating  timestamp\n",
       "0        1      1193       5  978300760\n",
       "1        1       661       3  978302109\n",
       "2        1       914       3  978301968\n",
       "3        1      3408       4  978300275\n",
       "4        1      2355       5  978824291"
      ]
     },
     "execution_count": 1,
     "metadata": {},
     "output_type": "execute_result"
    }
   ],
   "source": [
    "import os\n",
    "import pandas as pd\n",
    "\n",
    "rating_file_path=os.getenv('HOME') + '/aiffel/recommendata_iu/data/ml-1m/ratings.dat'\n",
    "ratings_cols = ['user_id', 'movie_id', 'rating', 'timestamp']\n",
    "ratings = pd.read_csv(rating_file_path, sep='::', names=ratings_cols, engine='python', encoding = \"ISO-8859-1\")\n",
    "orginal_data_size = len(ratings)\n",
    "ratings.head()"
   ]
  },
  {
   "cell_type": "code",
   "execution_count": 2,
   "id": "constitutional-layer",
   "metadata": {},
   "outputs": [
    {
     "name": "stdout",
     "output_type": "stream",
     "text": [
      "orginal_data_size: 1000209, filtered_data_size: 836478\n",
      "Ratio of Remaining Data is 83.63%\n"
     ]
    }
   ],
   "source": [
    "# 3점 이상만 남깁니다.\n",
    "ratings = ratings[ratings['rating']>=3]\n",
    "filtered_data_size = len(ratings)\n",
    "\n",
    "print(f'orginal_data_size: {orginal_data_size}, filtered_data_size: {filtered_data_size}')\n",
    "print(f'Ratio of Remaining Data is {filtered_data_size / orginal_data_size:.2%}')"
   ]
  },
  {
   "cell_type": "code",
   "execution_count": 3,
   "id": "rapid-adams",
   "metadata": {},
   "outputs": [
    {
     "data": {
      "text/plain": [
       "0          5\n",
       "1          3\n",
       "2          3\n",
       "3          4\n",
       "4          5\n",
       "          ..\n",
       "1000203    3\n",
       "1000205    5\n",
       "1000206    5\n",
       "1000207    4\n",
       "1000208    4\n",
       "Name: count, Length: 836478, dtype: int64"
      ]
     },
     "execution_count": 3,
     "metadata": {},
     "output_type": "execute_result"
    }
   ],
   "source": [
    "# rating 컬럼의 이름을 count로 바꿉니다.\n",
    "ratings.rename(columns={'rating':'count'}, inplace=True)\n",
    "ratings['count']"
   ]
  },
  {
   "cell_type": "code",
   "execution_count": 4,
   "id": "twenty-entrance",
   "metadata": {},
   "outputs": [
    {
     "data": {
      "text/html": [
       "<div>\n",
       "<style scoped>\n",
       "    .dataframe tbody tr th:only-of-type {\n",
       "        vertical-align: middle;\n",
       "    }\n",
       "\n",
       "    .dataframe tbody tr th {\n",
       "        vertical-align: top;\n",
       "    }\n",
       "\n",
       "    .dataframe thead th {\n",
       "        text-align: right;\n",
       "    }\n",
       "</style>\n",
       "<table border=\"1\" class=\"dataframe\">\n",
       "  <thead>\n",
       "    <tr style=\"text-align: right;\">\n",
       "      <th></th>\n",
       "      <th>movie_id</th>\n",
       "      <th>title</th>\n",
       "      <th>genre</th>\n",
       "    </tr>\n",
       "  </thead>\n",
       "  <tbody>\n",
       "    <tr>\n",
       "      <th>0</th>\n",
       "      <td>1</td>\n",
       "      <td>Toy Story (1995)</td>\n",
       "      <td>Animation|Children's|Comedy</td>\n",
       "    </tr>\n",
       "    <tr>\n",
       "      <th>1</th>\n",
       "      <td>2</td>\n",
       "      <td>Jumanji (1995)</td>\n",
       "      <td>Adventure|Children's|Fantasy</td>\n",
       "    </tr>\n",
       "    <tr>\n",
       "      <th>2</th>\n",
       "      <td>3</td>\n",
       "      <td>Grumpier Old Men (1995)</td>\n",
       "      <td>Comedy|Romance</td>\n",
       "    </tr>\n",
       "    <tr>\n",
       "      <th>3</th>\n",
       "      <td>4</td>\n",
       "      <td>Waiting to Exhale (1995)</td>\n",
       "      <td>Comedy|Drama</td>\n",
       "    </tr>\n",
       "    <tr>\n",
       "      <th>4</th>\n",
       "      <td>5</td>\n",
       "      <td>Father of the Bride Part II (1995)</td>\n",
       "      <td>Comedy</td>\n",
       "    </tr>\n",
       "  </tbody>\n",
       "</table>\n",
       "</div>"
      ],
      "text/plain": [
       "   movie_id                               title                         genre\n",
       "0         1                    Toy Story (1995)   Animation|Children's|Comedy\n",
       "1         2                      Jumanji (1995)  Adventure|Children's|Fantasy\n",
       "2         3             Grumpier Old Men (1995)                Comedy|Romance\n",
       "3         4            Waiting to Exhale (1995)                  Comedy|Drama\n",
       "4         5  Father of the Bride Part II (1995)                        Comedy"
      ]
     },
     "execution_count": 4,
     "metadata": {},
     "output_type": "execute_result"
    }
   ],
   "source": [
    "# 영화 제목을 보기 위해 메타 데이터를 읽어옵니다.\n",
    "movie_file_path=os.getenv('HOME') + '/aiffel/recommendata_iu/data/ml-1m/movies.dat'\n",
    "cols = ['movie_id', 'title', 'genre'] \n",
    "movies = pd.read_csv(movie_file_path, sep='::', names=cols, engine='python', encoding='ISO-8859-1')\n",
    "movies.head()"
   ]
  },
  {
   "cell_type": "markdown",
   "id": "accomplished-damage",
   "metadata": {},
   "source": [
    "데이터 결합 및 삭제"
   ]
  },
  {
   "cell_type": "code",
   "execution_count": 5,
   "id": "jewish-munich",
   "metadata": {},
   "outputs": [
    {
     "data": {
      "text/html": [
       "<div>\n",
       "<style scoped>\n",
       "    .dataframe tbody tr th:only-of-type {\n",
       "        vertical-align: middle;\n",
       "    }\n",
       "\n",
       "    .dataframe tbody tr th {\n",
       "        vertical-align: top;\n",
       "    }\n",
       "\n",
       "    .dataframe thead th {\n",
       "        text-align: right;\n",
       "    }\n",
       "</style>\n",
       "<table border=\"1\" class=\"dataframe\">\n",
       "  <thead>\n",
       "    <tr style=\"text-align: right;\">\n",
       "      <th></th>\n",
       "      <th>user_id</th>\n",
       "      <th>movie_id</th>\n",
       "      <th>count</th>\n",
       "      <th>title</th>\n",
       "    </tr>\n",
       "  </thead>\n",
       "  <tbody>\n",
       "    <tr>\n",
       "      <th>0</th>\n",
       "      <td>1</td>\n",
       "      <td>1193</td>\n",
       "      <td>5</td>\n",
       "      <td>One Flew Over the Cuckoo's Nest (1975)</td>\n",
       "    </tr>\n",
       "    <tr>\n",
       "      <th>1</th>\n",
       "      <td>2</td>\n",
       "      <td>1193</td>\n",
       "      <td>5</td>\n",
       "      <td>One Flew Over the Cuckoo's Nest (1975)</td>\n",
       "    </tr>\n",
       "    <tr>\n",
       "      <th>2</th>\n",
       "      <td>12</td>\n",
       "      <td>1193</td>\n",
       "      <td>4</td>\n",
       "      <td>One Flew Over the Cuckoo's Nest (1975)</td>\n",
       "    </tr>\n",
       "    <tr>\n",
       "      <th>3</th>\n",
       "      <td>15</td>\n",
       "      <td>1193</td>\n",
       "      <td>4</td>\n",
       "      <td>One Flew Over the Cuckoo's Nest (1975)</td>\n",
       "    </tr>\n",
       "    <tr>\n",
       "      <th>4</th>\n",
       "      <td>17</td>\n",
       "      <td>1193</td>\n",
       "      <td>5</td>\n",
       "      <td>One Flew Over the Cuckoo's Nest (1975)</td>\n",
       "    </tr>\n",
       "    <tr>\n",
       "      <th>...</th>\n",
       "      <td>...</td>\n",
       "      <td>...</td>\n",
       "      <td>...</td>\n",
       "      <td>...</td>\n",
       "    </tr>\n",
       "    <tr>\n",
       "      <th>836473</th>\n",
       "      <td>5851</td>\n",
       "      <td>3607</td>\n",
       "      <td>5</td>\n",
       "      <td>One Little Indian (1973)</td>\n",
       "    </tr>\n",
       "    <tr>\n",
       "      <th>836474</th>\n",
       "      <td>5854</td>\n",
       "      <td>3026</td>\n",
       "      <td>4</td>\n",
       "      <td>Slaughterhouse (1987)</td>\n",
       "    </tr>\n",
       "    <tr>\n",
       "      <th>836475</th>\n",
       "      <td>5854</td>\n",
       "      <td>690</td>\n",
       "      <td>3</td>\n",
       "      <td>Promise, The (Versprechen, Das) (1994)</td>\n",
       "    </tr>\n",
       "    <tr>\n",
       "      <th>836476</th>\n",
       "      <td>5938</td>\n",
       "      <td>2909</td>\n",
       "      <td>4</td>\n",
       "      <td>Five Wives, Three Secretaries and Me (1998)</td>\n",
       "    </tr>\n",
       "    <tr>\n",
       "      <th>836477</th>\n",
       "      <td>5948</td>\n",
       "      <td>1360</td>\n",
       "      <td>5</td>\n",
       "      <td>Identification of a Woman (Identificazione di ...</td>\n",
       "    </tr>\n",
       "  </tbody>\n",
       "</table>\n",
       "<p>836478 rows × 4 columns</p>\n",
       "</div>"
      ],
      "text/plain": [
       "        user_id  movie_id  count  \\\n",
       "0             1      1193      5   \n",
       "1             2      1193      5   \n",
       "2            12      1193      4   \n",
       "3            15      1193      4   \n",
       "4            17      1193      5   \n",
       "...         ...       ...    ...   \n",
       "836473     5851      3607      5   \n",
       "836474     5854      3026      4   \n",
       "836475     5854       690      3   \n",
       "836476     5938      2909      4   \n",
       "836477     5948      1360      5   \n",
       "\n",
       "                                                    title  \n",
       "0                  One Flew Over the Cuckoo's Nest (1975)  \n",
       "1                  One Flew Over the Cuckoo's Nest (1975)  \n",
       "2                  One Flew Over the Cuckoo's Nest (1975)  \n",
       "3                  One Flew Over the Cuckoo's Nest (1975)  \n",
       "4                  One Flew Over the Cuckoo's Nest (1975)  \n",
       "...                                                   ...  \n",
       "836473                           One Little Indian (1973)  \n",
       "836474                              Slaughterhouse (1987)  \n",
       "836475             Promise, The (Versprechen, Das) (1994)  \n",
       "836476        Five Wives, Three Secretaries and Me (1998)  \n",
       "836477  Identification of a Woman (Identificazione di ...  \n",
       "\n",
       "[836478 rows x 4 columns]"
      ]
     },
     "execution_count": 5,
     "metadata": {},
     "output_type": "execute_result"
    }
   ],
   "source": [
    "movie_ratings = pd.merge(left = ratings,right = movies, on='movie_id')\n",
    "movie_ratings.drop(columns = ['timestamp','genre'],inplace=True)\n",
    "movie_ratings"
   ]
  },
  {
   "cell_type": "markdown",
   "id": "endangered-header",
   "metadata": {},
   "source": [
    "# 2) 분석해보기\n",
    "+ movie_ratings에 있는 유니크한 영화 개수\n",
    "+ movie_ratings에 있는 유니크한 사용자 수\n",
    "+ 가장 인기 있는 영화 30개(인기순)"
   ]
  },
  {
   "cell_type": "code",
   "execution_count": 6,
   "id": "suspended-ticket",
   "metadata": {},
   "outputs": [
    {
     "data": {
      "text/plain": [
       "3628"
      ]
     },
     "execution_count": 6,
     "metadata": {},
     "output_type": "execute_result"
    }
   ],
   "source": [
    "#유니크한 영화개수\n",
    "movie_ratings['title'].nunique()"
   ]
  },
  {
   "cell_type": "code",
   "execution_count": 7,
   "id": "nervous-allen",
   "metadata": {},
   "outputs": [
    {
     "data": {
      "text/plain": [
       "6039"
      ]
     },
     "execution_count": 7,
     "metadata": {},
     "output_type": "execute_result"
    }
   ],
   "source": [
    "#유니크한 사용자 수\n",
    "movie_ratings['user_id'].nunique()"
   ]
  },
  {
   "cell_type": "code",
   "execution_count": 8,
   "id": "strange-joint",
   "metadata": {},
   "outputs": [
    {
     "data": {
      "text/plain": [
       "title\n",
       "American Beauty (1999)                                   3211\n",
       "Star Wars: Episode IV - A New Hope (1977)                2910\n",
       "Star Wars: Episode V - The Empire Strikes Back (1980)    2885\n",
       "Star Wars: Episode VI - Return of the Jedi (1983)        2716\n",
       "Saving Private Ryan (1998)                               2561\n",
       "Terminator 2: Judgment Day (1991)                        2509\n",
       "Silence of the Lambs, The (1991)                         2498\n",
       "Raiders of the Lost Ark (1981)                           2473\n",
       "Back to the Future (1985)                                2460\n",
       "Matrix, The (1999)                                       2434\n",
       "Jurassic Park (1993)                                     2413\n",
       "Sixth Sense, The (1999)                                  2385\n",
       "Fargo (1996)                                             2371\n",
       "Braveheart (1995)                                        2314\n",
       "Men in Black (1997)                                      2297\n",
       "Schindler's List (1993)                                  2257\n",
       "Princess Bride, The (1987)                               2252\n",
       "Shakespeare in Love (1998)                               2213\n",
       "L.A. Confidential (1997)                                 2210\n",
       "Shawshank Redemption, The (1994)                         2194\n",
       "Godfather, The (1972)                                    2167\n",
       "Groundhog Day (1993)                                     2121\n",
       "E.T. the Extra-Terrestrial (1982)                        2102\n",
       "Being John Malkovich (1999)                              2066\n",
       "Ghostbusters (1984)                                      2051\n",
       "Pulp Fiction (1994)                                      2030\n",
       "Forrest Gump (1994)                                      2022\n",
       "Terminator, The (1984)                                   2019\n",
       "Toy Story (1995)                                         2000\n",
       "Fugitive, The (1993)                                     1941\n",
       "Name: movie_id, dtype: int64"
      ]
     },
     "execution_count": 8,
     "metadata": {},
     "output_type": "execute_result"
    }
   ],
   "source": [
    "#가장 인기 있는 영화 30개(인기순)\n",
    "popular_movie = movie_ratings.groupby('title')['movie_id'].count()\n",
    "popular_movie.sort_values(ascending=False).head(30)"
   ]
  },
  {
   "cell_type": "markdown",
   "id": "attended-jason",
   "metadata": {},
   "source": [
    "# 3) 내가 선호하는 영화를 다섯가지 골라서 추가"
   ]
  },
  {
   "cell_type": "code",
   "execution_count": 9,
   "id": "valuable-universe",
   "metadata": {},
   "outputs": [
    {
     "data": {
      "text/html": [
       "<div>\n",
       "<style scoped>\n",
       "    .dataframe tbody tr th:only-of-type {\n",
       "        vertical-align: middle;\n",
       "    }\n",
       "\n",
       "    .dataframe tbody tr th {\n",
       "        vertical-align: top;\n",
       "    }\n",
       "\n",
       "    .dataframe thead th {\n",
       "        text-align: right;\n",
       "    }\n",
       "</style>\n",
       "<table border=\"1\" class=\"dataframe\">\n",
       "  <thead>\n",
       "    <tr style=\"text-align: right;\">\n",
       "      <th></th>\n",
       "      <th>user_id</th>\n",
       "      <th>movie_id</th>\n",
       "      <th>count</th>\n",
       "      <th>title</th>\n",
       "    </tr>\n",
       "  </thead>\n",
       "  <tbody>\n",
       "    <tr>\n",
       "      <th>38620</th>\n",
       "      <td>1</td>\n",
       "      <td>1</td>\n",
       "      <td>5</td>\n",
       "      <td>Toy Story (1995)</td>\n",
       "    </tr>\n",
       "    <tr>\n",
       "      <th>53172</th>\n",
       "      <td>1</td>\n",
       "      <td>608</td>\n",
       "      <td>4</td>\n",
       "      <td>Fargo (1996)</td>\n",
       "    </tr>\n",
       "    <tr>\n",
       "      <th>101881</th>\n",
       "      <td>2</td>\n",
       "      <td>480</td>\n",
       "      <td>5</td>\n",
       "      <td>Jurassic Park (1993)</td>\n",
       "    </tr>\n",
       "    <tr>\n",
       "      <th>166207</th>\n",
       "      <td>3</td>\n",
       "      <td>1580</td>\n",
       "      <td>3</td>\n",
       "      <td>Men in Black (1997)</td>\n",
       "    </tr>\n",
       "    <tr>\n",
       "      <th>362365</th>\n",
       "      <td>10</td>\n",
       "      <td>2</td>\n",
       "      <td>5</td>\n",
       "      <td>Jumanji (1995)</td>\n",
       "    </tr>\n",
       "  </tbody>\n",
       "</table>\n",
       "</div>"
      ],
      "text/plain": [
       "        user_id  movie_id  count                 title\n",
       "38620         1         1      5      Toy Story (1995)\n",
       "53172         1       608      4          Fargo (1996)\n",
       "101881        2       480      5  Jurassic Park (1993)\n",
       "166207        3      1580      3   Men in Black (1997)\n",
       "362365       10         2      5        Jumanji (1995)"
      ]
     },
     "execution_count": 9,
     "metadata": {},
     "output_type": "execute_result"
    }
   ],
   "source": [
    "#제목을 고른후 movie_id데이터 확인 \n",
    "my_favorite_title = ['Men in Black (1997)','Toy Story (1995)','Jumanji (1995)',\n",
    "                     'Jurassic Park (1993)','Fargo (1996)']\n",
    "\n",
    "mft = movie_ratings['title'].isin(my_favorite_title)\n",
    "movie_ratings.loc[mft].drop_duplicates(['title'])"
   ]
  },
  {
   "cell_type": "code",
   "execution_count": 10,
   "id": "embedded-silver",
   "metadata": {},
   "outputs": [
    {
     "data": {
      "text/html": [
       "<div>\n",
       "<style scoped>\n",
       "    .dataframe tbody tr th:only-of-type {\n",
       "        vertical-align: middle;\n",
       "    }\n",
       "\n",
       "    .dataframe tbody tr th {\n",
       "        vertical-align: top;\n",
       "    }\n",
       "\n",
       "    .dataframe thead th {\n",
       "        text-align: right;\n",
       "    }\n",
       "</style>\n",
       "<table border=\"1\" class=\"dataframe\">\n",
       "  <thead>\n",
       "    <tr style=\"text-align: right;\">\n",
       "      <th></th>\n",
       "      <th>user_id</th>\n",
       "      <th>movie_id</th>\n",
       "      <th>count</th>\n",
       "      <th>title</th>\n",
       "    </tr>\n",
       "  </thead>\n",
       "  <tbody>\n",
       "    <tr>\n",
       "      <th>836473</th>\n",
       "      <td>5851</td>\n",
       "      <td>3607</td>\n",
       "      <td>5</td>\n",
       "      <td>One Little Indian (1973)</td>\n",
       "    </tr>\n",
       "    <tr>\n",
       "      <th>836474</th>\n",
       "      <td>5854</td>\n",
       "      <td>3026</td>\n",
       "      <td>4</td>\n",
       "      <td>Slaughterhouse (1987)</td>\n",
       "    </tr>\n",
       "    <tr>\n",
       "      <th>836475</th>\n",
       "      <td>5854</td>\n",
       "      <td>690</td>\n",
       "      <td>3</td>\n",
       "      <td>Promise, The (Versprechen, Das) (1994)</td>\n",
       "    </tr>\n",
       "    <tr>\n",
       "      <th>836476</th>\n",
       "      <td>5938</td>\n",
       "      <td>2909</td>\n",
       "      <td>4</td>\n",
       "      <td>Five Wives, Three Secretaries and Me (1998)</td>\n",
       "    </tr>\n",
       "    <tr>\n",
       "      <th>836477</th>\n",
       "      <td>5948</td>\n",
       "      <td>1360</td>\n",
       "      <td>5</td>\n",
       "      <td>Identification of a Woman (Identificazione di ...</td>\n",
       "    </tr>\n",
       "    <tr>\n",
       "      <th>836478</th>\n",
       "      <td>Uikyeong</td>\n",
       "      <td>1580</td>\n",
       "      <td>5</td>\n",
       "      <td>Men in Black (1997)</td>\n",
       "    </tr>\n",
       "    <tr>\n",
       "      <th>836479</th>\n",
       "      <td>Uikyeong</td>\n",
       "      <td>1</td>\n",
       "      <td>5</td>\n",
       "      <td>Toy Story (1995)</td>\n",
       "    </tr>\n",
       "    <tr>\n",
       "      <th>836480</th>\n",
       "      <td>Uikyeong</td>\n",
       "      <td>2</td>\n",
       "      <td>5</td>\n",
       "      <td>Jumanji (1995)</td>\n",
       "    </tr>\n",
       "    <tr>\n",
       "      <th>836481</th>\n",
       "      <td>Uikyeong</td>\n",
       "      <td>480</td>\n",
       "      <td>5</td>\n",
       "      <td>Jurassic Park (1993)</td>\n",
       "    </tr>\n",
       "    <tr>\n",
       "      <th>836482</th>\n",
       "      <td>Uikyeong</td>\n",
       "      <td>608</td>\n",
       "      <td>5</td>\n",
       "      <td>Fargo (1996)</td>\n",
       "    </tr>\n",
       "  </tbody>\n",
       "</table>\n",
       "</div>"
      ],
      "text/plain": [
       "         user_id movie_id  count  \\\n",
       "836473      5851     3607      5   \n",
       "836474      5854     3026      4   \n",
       "836475      5854      690      3   \n",
       "836476      5938     2909      4   \n",
       "836477      5948     1360      5   \n",
       "836478  Uikyeong     1580      5   \n",
       "836479  Uikyeong        1      5   \n",
       "836480  Uikyeong        2      5   \n",
       "836481  Uikyeong      480      5   \n",
       "836482  Uikyeong      608      5   \n",
       "\n",
       "                                                    title  \n",
       "836473                           One Little Indian (1973)  \n",
       "836474                              Slaughterhouse (1987)  \n",
       "836475             Promise, The (Versprechen, Das) (1994)  \n",
       "836476        Five Wives, Three Secretaries and Me (1998)  \n",
       "836477  Identification of a Woman (Identificazione di ...  \n",
       "836478                                Men in Black (1997)  \n",
       "836479                                   Toy Story (1995)  \n",
       "836480                                     Jumanji (1995)  \n",
       "836481                               Jurassic Park (1993)  \n",
       "836482                                       Fargo (1996)  "
      ]
     },
     "execution_count": 10,
     "metadata": {},
     "output_type": "execute_result"
    }
   ],
   "source": [
    "my_favorite_id = ['1580','1','2','480','608']\n",
    "\n",
    "# 'Uikyeong'이라는 user_id가 위 영화를 5번씩 보았다고 가정\n",
    "my_movielist = pd.DataFrame({'user_id': ['Uikyeong']*5, 'movie_id': my_favorite_id, 'count':[5]*5,'title':my_favorite_title})\n",
    "\n",
    "if not movie_ratings.isin({'user_id':['Uikyeong']})['user_id'].any():  # user_id에 'Uikyeong'이라는 데이터가 없다면\n",
    "    movie_ratings = movie_ratings.append(my_movielist,ignore_index=True)       # 위에 임의로 만든 my_favorite 데이터를 추가해 줍니다. \n",
    "\n",
    "movie_ratings.tail(10)"
   ]
  },
  {
   "cell_type": "markdown",
   "id": "spatial-advance",
   "metadata": {},
   "source": [
    "# 4) CSR matrix를 직접 만들어보기"
   ]
  },
  {
   "cell_type": "code",
   "execution_count": 11,
   "id": "tracked-lloyd",
   "metadata": {},
   "outputs": [],
   "source": [
    "# 고유한 유저, 영화 찾아내기\n",
    "user_unique = movie_ratings['user_id'].unique()\n",
    "movie_unique = movie_ratings['title'].unique()\n",
    "\n",
    "# 유저, 영화 indexing \n",
    "user_to_idx = {v:k for k,v in enumerate(user_unique)}\n",
    "movie_to_idx = {v:k for k,v in enumerate(movie_unique)}"
   ]
  },
  {
   "cell_type": "code",
   "execution_count": 12,
   "id": "liquid-arbitration",
   "metadata": {},
   "outputs": [
    {
     "name": "stdout",
     "output_type": "stream",
     "text": [
      "6039\n",
      "513\n"
     ]
    }
   ],
   "source": [
    "# 6039명에서 'Uikyeong'이 추가되서 6040명이 되었다.\n",
    "print(user_to_idx['Uikyeong']) \n",
    "print(movie_to_idx['Jumanji (1995)']) "
   ]
  },
  {
   "cell_type": "code",
   "execution_count": 13,
   "id": "operational-times",
   "metadata": {},
   "outputs": [
    {
     "name": "stdout",
     "output_type": "stream",
     "text": [
      "user_id column indexing OK!!\n",
      "movie column indexing OK!!\n"
     ]
    },
    {
     "data": {
      "text/html": [
       "<div>\n",
       "<style scoped>\n",
       "    .dataframe tbody tr th:only-of-type {\n",
       "        vertical-align: middle;\n",
       "    }\n",
       "\n",
       "    .dataframe tbody tr th {\n",
       "        vertical-align: top;\n",
       "    }\n",
       "\n",
       "    .dataframe thead th {\n",
       "        text-align: right;\n",
       "    }\n",
       "</style>\n",
       "<table border=\"1\" class=\"dataframe\">\n",
       "  <thead>\n",
       "    <tr style=\"text-align: right;\">\n",
       "      <th></th>\n",
       "      <th>user_id</th>\n",
       "      <th>movie_id</th>\n",
       "      <th>count</th>\n",
       "      <th>title</th>\n",
       "    </tr>\n",
       "  </thead>\n",
       "  <tbody>\n",
       "    <tr>\n",
       "      <th>0</th>\n",
       "      <td>0</td>\n",
       "      <td>1193</td>\n",
       "      <td>5</td>\n",
       "      <td>0</td>\n",
       "    </tr>\n",
       "    <tr>\n",
       "      <th>1</th>\n",
       "      <td>1</td>\n",
       "      <td>1193</td>\n",
       "      <td>5</td>\n",
       "      <td>0</td>\n",
       "    </tr>\n",
       "    <tr>\n",
       "      <th>2</th>\n",
       "      <td>2</td>\n",
       "      <td>1193</td>\n",
       "      <td>4</td>\n",
       "      <td>0</td>\n",
       "    </tr>\n",
       "    <tr>\n",
       "      <th>3</th>\n",
       "      <td>3</td>\n",
       "      <td>1193</td>\n",
       "      <td>4</td>\n",
       "      <td>0</td>\n",
       "    </tr>\n",
       "    <tr>\n",
       "      <th>4</th>\n",
       "      <td>4</td>\n",
       "      <td>1193</td>\n",
       "      <td>5</td>\n",
       "      <td>0</td>\n",
       "    </tr>\n",
       "    <tr>\n",
       "      <th>...</th>\n",
       "      <td>...</td>\n",
       "      <td>...</td>\n",
       "      <td>...</td>\n",
       "      <td>...</td>\n",
       "    </tr>\n",
       "    <tr>\n",
       "      <th>836478</th>\n",
       "      <td>6039</td>\n",
       "      <td>1580</td>\n",
       "      <td>5</td>\n",
       "      <td>175</td>\n",
       "    </tr>\n",
       "    <tr>\n",
       "      <th>836479</th>\n",
       "      <td>6039</td>\n",
       "      <td>1</td>\n",
       "      <td>5</td>\n",
       "      <td>40</td>\n",
       "    </tr>\n",
       "    <tr>\n",
       "      <th>836480</th>\n",
       "      <td>6039</td>\n",
       "      <td>2</td>\n",
       "      <td>5</td>\n",
       "      <td>513</td>\n",
       "    </tr>\n",
       "    <tr>\n",
       "      <th>836481</th>\n",
       "      <td>6039</td>\n",
       "      <td>480</td>\n",
       "      <td>5</td>\n",
       "      <td>107</td>\n",
       "    </tr>\n",
       "    <tr>\n",
       "      <th>836482</th>\n",
       "      <td>6039</td>\n",
       "      <td>608</td>\n",
       "      <td>5</td>\n",
       "      <td>51</td>\n",
       "    </tr>\n",
       "  </tbody>\n",
       "</table>\n",
       "<p>836483 rows × 4 columns</p>\n",
       "</div>"
      ],
      "text/plain": [
       "        user_id movie_id  count  title\n",
       "0             0     1193      5      0\n",
       "1             1     1193      5      0\n",
       "2             2     1193      4      0\n",
       "3             3     1193      4      0\n",
       "4             4     1193      5      0\n",
       "...         ...      ...    ...    ...\n",
       "836478     6039     1580      5    175\n",
       "836479     6039        1      5     40\n",
       "836480     6039        2      5    513\n",
       "836481     6039      480      5    107\n",
       "836482     6039      608      5     51\n",
       "\n",
       "[836483 rows x 4 columns]"
      ]
     },
     "execution_count": 13,
     "metadata": {},
     "output_type": "execute_result"
    }
   ],
   "source": [
    "# indexing을 통해 데이터 컬럼 내 값을 바꾸는 코드\n",
    "# dictionary 자료형의 get 함수는 https://wikidocs.net/16 을 참고하세요.\n",
    "\n",
    "# user_to_idx.get을 통해 user_id 컬럼의 모든 값을 인덱싱한 Series를 구해 봅시다. \n",
    "# 혹시 정상적으로 인덱싱되지 않은 row가 있다면 인덱스가 NaN이 될 테니 dropna()로 제거합니다. \n",
    "temp_user_data = movie_ratings['user_id'].map(user_to_idx.get).dropna()\n",
    "if len(temp_user_data) == len(movie_ratings):   # 모든 row가 정상적으로 인덱싱되었다면\n",
    "    print('user_id column indexing OK!!')\n",
    "    movie_ratings['user_id'] = temp_user_data    \n",
    "else:\n",
    "    print('user_id column indexing Fail!!')\n",
    "\n",
    "temp_movie_data = movie_ratings['title'].map(movie_to_idx.get).dropna()\n",
    "if len(temp_movie_data) == len(movie_ratings):\n",
    "    print('movie column indexing OK!!')\n",
    "    movie_ratings['title'] = temp_movie_data\n",
    "else:\n",
    "    print('title column indexing Fail!!')\n",
    "\n",
    "movie_ratings"
   ]
  },
  {
   "cell_type": "code",
   "execution_count": 14,
   "id": "logical-equity",
   "metadata": {},
   "outputs": [
    {
     "data": {
      "text/plain": [
       "<6040x3628 sparse matrix of type '<class 'numpy.longlong'>'\n",
       "\twith 836483 stored elements in Compressed Sparse Row format>"
      ]
     },
     "execution_count": 14,
     "metadata": {},
     "output_type": "execute_result"
    }
   ],
   "source": [
    "from scipy.sparse import csr_matrix\n",
    "\n",
    "num_user = movie_ratings['user_id'].nunique()\n",
    "num_movie = movie_ratings['title'].nunique()\n",
    "\n",
    "csr_data = csr_matrix((movie_ratings['count'], (movie_ratings.user_id, movie_ratings.title)), shape= (num_user, num_movie))\n",
    "csr_data"
   ]
  },
  {
   "cell_type": "markdown",
   "id": "premier-calendar",
   "metadata": {},
   "source": [
    "# 5) AlternatingLeastSquares모델 구성하여 훈련"
   ]
  },
  {
   "cell_type": "code",
   "execution_count": 15,
   "id": "ambient-being",
   "metadata": {},
   "outputs": [],
   "source": [
    "from implicit.als import AlternatingLeastSquares\n",
    "import os\n",
    "import numpy as np\n",
    "\n",
    "# implicit 라이브러리에서 권장하고 있는 부분입니다. 학습 내용과는 무관합니다.\n",
    "os.environ['OPENBLAS_NUM_THREADS']='1'\n",
    "os.environ['KMP_DUPLICATE_LIB_OK']='True'\n",
    "os.environ['MKL_NUM_THREADS']='1'"
   ]
  },
  {
   "cell_type": "code",
   "execution_count": 16,
   "id": "connected-springfield",
   "metadata": {},
   "outputs": [],
   "source": [
    "# Implicit AlternatingLeastSquares 모델의 선언\n",
    "als_model = AlternatingLeastSquares(factors=100, regularization=0.01, use_gpu=False, iterations=15, dtype=np.float32)"
   ]
  },
  {
   "cell_type": "code",
   "execution_count": 17,
   "id": "rental-cutting",
   "metadata": {},
   "outputs": [
    {
     "data": {
      "text/plain": [
       "<3628x6040 sparse matrix of type '<class 'numpy.longlong'>'\n",
       "\twith 836483 stored elements in Compressed Sparse Column format>"
      ]
     },
     "execution_count": 17,
     "metadata": {},
     "output_type": "execute_result"
    }
   ],
   "source": [
    "# als 모델은 input으로 (item X user 꼴의 matrix를 받기 때문에 Transpose해줍니다.)\n",
    "csr_data_transpose = csr_data.T\n",
    "csr_data_transpose"
   ]
  },
  {
   "cell_type": "code",
   "execution_count": 18,
   "id": "photographic-creation",
   "metadata": {},
   "outputs": [
    {
     "data": {
      "application/vnd.jupyter.widget-view+json": {
       "model_id": "8e12346291754cb2ab78a585ec3d2362",
       "version_major": 2,
       "version_minor": 0
      },
      "text/plain": [
       "  0%|          | 0/15 [00:00<?, ?it/s]"
      ]
     },
     "metadata": {},
     "output_type": "display_data"
    }
   ],
   "source": [
    "# 모델 훈련\n",
    "als_model.fit(csr_data_transpose)"
   ]
  },
  {
   "cell_type": "markdown",
   "id": "veterinary-night",
   "metadata": {},
   "source": [
    "# 6)  훈련된 모델이 예측한 나의 영화선호도 파악"
   ]
  },
  {
   "cell_type": "code",
   "execution_count": 19,
   "id": "pursuant-battlefield",
   "metadata": {},
   "outputs": [],
   "source": [
    "# Uikyeong , Toy Story 벡터화\n",
    "Uikyeong, Toy = user_to_idx['Uikyeong'], movie_to_idx['Toy Story (1995)']\n",
    "Uikyeong_vector, Toy_vector = als_model.user_factors[Uikyeong], als_model.item_factors[Toy]"
   ]
  },
  {
   "cell_type": "code",
   "execution_count": 20,
   "id": "material-reform",
   "metadata": {},
   "outputs": [
    {
     "data": {
      "text/plain": [
       "array([ 0.2129324 , -0.9449933 ,  0.139504  , -0.26335484,  0.10063476,\n",
       "        0.3295815 ,  0.36810467, -0.43090755, -0.26291597, -0.12169398,\n",
       "       -0.4769159 , -0.52907413,  0.53738004, -0.7082889 ,  0.12659998,\n",
       "       -0.76759946, -1.1045858 , -0.05516865,  0.6255158 ,  0.43811247,\n",
       "        0.6750725 , -0.02206143, -0.5914389 , -0.41442832,  0.08746058,\n",
       "        0.9757322 ,  0.6504608 , -0.4702472 , -0.16817969,  0.5728641 ,\n",
       "       -0.0191352 ,  0.9210207 , -0.0695239 , -0.00258685,  0.28629047,\n",
       "       -0.40200442,  0.04001674,  0.36028278, -0.12614095,  0.16412953,\n",
       "        0.55532426, -0.43557167,  0.32468882, -0.2235744 ,  0.6018467 ,\n",
       "        0.10512763, -0.7490809 ,  0.60921276,  0.393733  ,  1.0650882 ,\n",
       "       -0.7234057 ,  1.5207807 ,  0.12221246,  0.9396158 ,  0.20771047,\n",
       "        0.5135881 ,  0.01149686,  0.04660965, -0.10656265, -0.2551693 ,\n",
       "       -0.22379126, -0.05089863, -0.673612  ,  0.3221029 ,  1.0069587 ,\n",
       "        0.25478074,  0.5201407 , -0.49541223, -0.71047455, -1.0518506 ,\n",
       "        0.7806107 ,  0.07386719, -0.31168875,  0.51488745, -0.8981342 ,\n",
       "       -0.2536707 ,  0.24012803,  0.332235  , -0.84505486, -0.4837835 ,\n",
       "        0.07294272,  0.36080718, -0.2371014 ,  0.27325982, -0.22519659,\n",
       "        0.41304013, -0.20393702,  0.4478193 , -0.04878545, -0.0533534 ,\n",
       "       -0.71588486,  0.14258699,  0.11481535, -0.55170435, -0.52462465,\n",
       "        0.01552412, -0.08487975,  0.49237058,  0.33489317, -0.37133124],\n",
       "      dtype=float32)"
      ]
     },
     "execution_count": 20,
     "metadata": {},
     "output_type": "execute_result"
    }
   ],
   "source": [
    "Uikyeong_vector # Uikyeong 벡터"
   ]
  },
  {
   "cell_type": "code",
   "execution_count": 21,
   "id": "vocal-father",
   "metadata": {},
   "outputs": [
    {
     "data": {
      "text/plain": [
       "array([ 7.4998164e-03,  1.0720575e-02,  5.6822654e-03, -9.3449606e-03,\n",
       "        3.3057384e-02, -1.1743978e-02,  5.1335134e-03, -6.6163251e-03,\n",
       "        2.7521512e-02, -5.0634039e-03, -8.4656738e-03,  4.3155602e-03,\n",
       "        3.0297976e-02,  7.3721656e-04,  1.1395493e-02,  6.1713196e-03,\n",
       "       -2.3622118e-02, -2.1500172e-02,  3.8308967e-03, -9.5130286e-05,\n",
       "        2.5010515e-02,  5.2053230e-03, -2.9737471e-02, -1.8009640e-02,\n",
       "        1.5578728e-02,  1.3696864e-02,  2.3523770e-02, -2.6457363e-03,\n",
       "       -4.9307668e-03,  1.3504117e-02,  1.7750237e-02,  4.1346319e-02,\n",
       "       -8.0028223e-03,  6.3034790e-03, -3.6451470e-02,  1.4033308e-02,\n",
       "       -8.4028328e-03,  1.4969508e-02,  1.1439127e-02,  1.6389888e-02,\n",
       "        1.4670242e-02,  6.3030100e-03,  2.5662631e-02, -1.4610202e-02,\n",
       "        4.5640790e-03, -1.9787939e-02, -8.2760816e-03,  3.8474962e-02,\n",
       "       -2.6078651e-02,  3.0509297e-02, -3.6622051e-02,  2.1732459e-02,\n",
       "        3.0863514e-02,  3.1725515e-02,  2.9788053e-02,  4.9015988e-02,\n",
       "       -4.3409602e-03,  1.7164327e-02,  1.2482182e-02, -6.2881066e-03,\n",
       "        1.8886552e-03,  1.1021781e-02,  4.4934093e-03,  2.0717602e-02,\n",
       "        1.8625002e-02, -2.1318616e-02,  2.6117638e-02,  2.7999426e-03,\n",
       "       -2.8527873e-02,  4.4656503e-03,  1.9770039e-02, -1.6246391e-02,\n",
       "       -3.0781671e-02, -1.9049445e-04, -2.8442135e-03, -2.1321116e-02,\n",
       "       -1.2054092e-03,  1.7874606e-03, -6.5204212e-03, -3.5410084e-02,\n",
       "        4.3013864e-03,  1.8905271e-02, -1.7518930e-02, -3.0567930e-03,\n",
       "        2.4330813e-02,  1.4901215e-02,  2.6546678e-02,  1.8957146e-03,\n",
       "        1.5794499e-02,  4.7537647e-03, -1.5971011e-02, -2.4379775e-02,\n",
       "        2.7189279e-02, -1.9265214e-02, -8.7599000e-03, -9.7200164e-04,\n",
       "       -2.7705442e-02,  2.8617459e-03,  1.0292682e-02,  3.5488643e-02],\n",
       "      dtype=float32)"
      ]
     },
     "execution_count": 21,
     "metadata": {},
     "output_type": "execute_result"
    }
   ],
   "source": [
    "Toy_vector # Jumanji 벡터"
   ]
  },
  {
   "cell_type": "code",
   "execution_count": 22,
   "id": "middle-shipping",
   "metadata": {},
   "outputs": [
    {
     "data": {
      "text/plain": [
       "0.4656087"
      ]
     },
     "execution_count": 22,
     "metadata": {},
     "output_type": "execute_result"
    }
   ],
   "source": [
    "# Uikyeong과 Toy_Story 내적\n",
    "np.dot(Uikyeong_vector, Toy_vector)"
   ]
  },
  {
   "cell_type": "code",
   "execution_count": 23,
   "id": "western-departure",
   "metadata": {},
   "outputs": [
    {
     "data": {
      "text/plain": [
       "0.0044746003"
      ]
     },
     "execution_count": 23,
     "metadata": {},
     "output_type": "execute_result"
    }
   ],
   "source": [
    "Slaughterhouse = movie_to_idx['Slaughterhouse (1987)']\n",
    "Slaughterhouse_vector = als_model.item_factors[Slaughterhouse]\n",
    "np.dot(Uikyeong_vector, Slaughterhouse_vector)"
   ]
  },
  {
   "cell_type": "markdown",
   "id": "paperback-deadline",
   "metadata": {},
   "source": [
    "선호리스트에 없는 영화인 Slaughterhouse와의 내적을 구해 선호도를 확인해보니\n",
    "0%에 가까운것을 볼 수가 있다."
   ]
  },
  {
   "cell_type": "markdown",
   "id": "peaceful-jaguar",
   "metadata": {},
   "source": [
    "# 7) 내가 좋아하는 영화와 비슷한 영화 추천"
   ]
  },
  {
   "cell_type": "code",
   "execution_count": 24,
   "id": "excess-columbus",
   "metadata": {},
   "outputs": [
    {
     "data": {
      "text/plain": [
       "[(513, 0.9999998),\n",
       " (596, 0.83228236),\n",
       " (1130, 0.8202917),\n",
       " (173, 0.7407964),\n",
       " (1985, 0.6719596),\n",
       " (828, 0.6648201),\n",
       " (1736, 0.65127045),\n",
       " (1982, 0.6501774),\n",
       " (545, 0.6256638),\n",
       " (1733, 0.6192034),\n",
       " (561, 0.5898166),\n",
       " (458, 0.57193726),\n",
       " (2017, 0.5690134),\n",
       " (2009, 0.5526923),\n",
       " (576, 0.55183053)]"
      ]
     },
     "execution_count": 24,
     "metadata": {},
     "output_type": "execute_result"
    }
   ],
   "source": [
    "favorite_movie = 'Jumanji (1995)'\n",
    "movie_id = movie_to_idx[favorite_movie]\n",
    "similar_movie = als_model.similar_items(movie_id, N=15)\n",
    "similar_movie"
   ]
  },
  {
   "cell_type": "code",
   "execution_count": 25,
   "id": "rural-suffering",
   "metadata": {},
   "outputs": [
    {
     "data": {
      "text/plain": [
       "['Jumanji (1995)',\n",
       " 'Hook (1991)',\n",
       " 'Indian in the Cupboard, The (1995)',\n",
       " 'Dragonheart (1996)',\n",
       " 'NeverEnding Story II: The Next Chapter, The (1990)',\n",
       " 'Flubber (1997)',\n",
       " 'Small Soldiers (1998)',\n",
       " 'Space Jam (1996)',\n",
       " 'Santa Clause, The (1994)',\n",
       " 'Borrowers, The (1997)',\n",
       " 'NeverEnding Story, The (1984)',\n",
       " 'Mask, The (1994)',\n",
       " 'Pagemaster, The (1994)',\n",
       " \"Kid in King Arthur's Court, A (1995)\",\n",
       " 'Escape to Witch Mountain (1975)']"
      ]
     },
     "execution_count": 25,
     "metadata": {},
     "output_type": "execute_result"
    }
   ],
   "source": [
    "idx_to_movie = {v:k for k,v in movie_to_idx.items()}\n",
    "[idx_to_movie[i[0]] for i in similar_movie]"
   ]
  },
  {
   "cell_type": "code",
   "execution_count": 26,
   "id": "mature-trading",
   "metadata": {},
   "outputs": [],
   "source": [
    "# 비슷한 영화 찾기\n",
    "def get_similar_movie(movie_title: str):\n",
    "    movie_id = movie_to_idx[movie_title]\n",
    "    similar_movie = als_model.similar_items(movie_id)\n",
    "    similar_movie = [idx_to_movie[i[0]] for i in similar_movie]\n",
    "    return similar_movie"
   ]
  },
  {
   "cell_type": "code",
   "execution_count": 27,
   "id": "damaged-fortune",
   "metadata": {},
   "outputs": [
    {
     "data": {
      "text/plain": [
       "['Toy Story (1995)',\n",
       " 'Toy Story 2 (1999)',\n",
       " \"Bug's Life, A (1998)\",\n",
       " 'Aladdin (1992)',\n",
       " 'Babe (1995)',\n",
       " 'Groundhog Day (1993)',\n",
       " 'Beauty and the Beast (1991)',\n",
       " 'Lion King, The (1994)',\n",
       " 'Pleasantville (1998)',\n",
       " \"There's Something About Mary (1998)\"]"
      ]
     },
     "execution_count": 27,
     "metadata": {},
     "output_type": "execute_result"
    }
   ],
   "source": [
    "get_similar_movie('Toy Story (1995)')"
   ]
  },
  {
   "cell_type": "code",
   "execution_count": 28,
   "id": "apart-implement",
   "metadata": {
    "scrolled": true
   },
   "outputs": [
    {
     "data": {
      "text/plain": [
       "['Men in Black (1997)',\n",
       " 'Jurassic Park (1993)',\n",
       " 'Terminator 2: Judgment Day (1991)',\n",
       " 'Total Recall (1990)',\n",
       " 'Independence Day (ID4) (1996)',\n",
       " 'Fifth Element, The (1997)',\n",
       " 'Matrix, The (1999)',\n",
       " 'Face/Off (1997)',\n",
       " 'Lost World: Jurassic Park, The (1997)',\n",
       " 'Schlafes Bruder (Brother of Sleep) (1995)']"
      ]
     },
     "execution_count": 28,
     "metadata": {},
     "output_type": "execute_result"
    }
   ],
   "source": [
    "get_similar_movie('Men in Black (1997)')"
   ]
  },
  {
   "cell_type": "markdown",
   "id": "animal-dinner",
   "metadata": {},
   "source": [
    "# 8) 내가 가장 좋아할 만한 영화 추천"
   ]
  },
  {
   "cell_type": "code",
   "execution_count": 29,
   "id": "dense-closure",
   "metadata": {},
   "outputs": [
    {
     "data": {
      "text/plain": [
       "[(92, 0.44610578),\n",
       " (50, 0.3988515),\n",
       " (322, 0.38010246),\n",
       " (124, 0.35039103),\n",
       " (4, 0.30947676),\n",
       " (121, 0.30873263),\n",
       " (62, 0.29841632),\n",
       " (60, 0.27050322),\n",
       " (99, 0.2613218),\n",
       " (150, 0.24235979),\n",
       " (276, 0.24048169),\n",
       " (80, 0.24020445),\n",
       " (58, 0.23295853),\n",
       " (284, 0.23100579),\n",
       " (157, 0.2293838),\n",
       " (82, 0.22461137),\n",
       " (458, 0.22263977),\n",
       " (222, 0.22236514),\n",
       " (38, 0.21682799),\n",
       " (110, 0.21524069)]"
      ]
     },
     "execution_count": 29,
     "metadata": {},
     "output_type": "execute_result"
    }
   ],
   "source": [
    "user = user_to_idx['Uikyeong']\n",
    "movie_recommended = als_model.recommend(user, csr_data, N=20, filter_already_liked_items=True)\n",
    "movie_recommended"
   ]
  },
  {
   "cell_type": "markdown",
   "id": "relative-effects",
   "metadata": {},
   "source": [
    "추천받은 인덱스를 영화제목으로 변환"
   ]
  },
  {
   "cell_type": "code",
   "execution_count": 30,
   "id": "collected-found",
   "metadata": {},
   "outputs": [
    {
     "data": {
      "text/plain": [
       "[('Terminator 2: Judgment Day (1991)', 0.44610578),\n",
       " ('Toy Story 2 (1999)', 0.3988515),\n",
       " ('Babe (1995)', 0.38010246),\n",
       " ('Matrix, The (1999)', 0.35039103),\n",
       " (\"Bug's Life, A (1998)\", 0.30947676),\n",
       " ('Silence of the Lambs, The (1991)', 0.30873263),\n",
       " ('Total Recall (1990)', 0.29841632),\n",
       " ('Star Wars: Episode I - The Phantom Menace (1999)', 0.27050322),\n",
       " ('American Beauty (1999)', 0.2613218),\n",
       " ('Independence Day (ID4) (1996)', 0.24235979),\n",
       " ('North by Northwest (1959)', 0.24048169),\n",
       " ('Stand by Me (1986)', 0.24020445),\n",
       " ('Mission: Impossible (1996)', 0.23295853),\n",
       " ('Nightmare Before Christmas, The (1993)', 0.23100579),\n",
       " ('Shawshank Redemption, The (1994)', 0.2293838),\n",
       " ('Lost World: Jurassic Park, The (1997)', 0.22461137),\n",
       " ('Mask, The (1994)', 0.22263977),\n",
       " ('Pulp Fiction (1994)', 0.22236514),\n",
       " ('Sixth Sense, The (1999)', 0.21682799),\n",
       " ('Groundhog Day (1993)', 0.21524069)]"
      ]
     },
     "execution_count": 30,
     "metadata": {},
     "output_type": "execute_result"
    }
   ],
   "source": [
    "[(idx_to_movie[i[0]], i[1]) for i in movie_recommended]"
   ]
  },
  {
   "cell_type": "markdown",
   "id": "steady-reporter",
   "metadata": {},
   "source": [
    "내가 기록을 남긴 데이터 중 첫번째 추천영화에 기여한 정도를 확인"
   ]
  },
  {
   "cell_type": "code",
   "execution_count": 31,
   "id": "occupational-advertiser",
   "metadata": {},
   "outputs": [],
   "source": [
    "Firstrecommend = movie_to_idx['Terminator 2: Judgment Day (1991)']\n",
    "explain = als_model.explain(user, csr_data, itemid=Firstrecommend)"
   ]
  },
  {
   "cell_type": "code",
   "execution_count": 32,
   "id": "cutting-berlin",
   "metadata": {},
   "outputs": [
    {
     "data": {
      "text/plain": [
       "[('Jurassic Park (1993)', 0.21973645130138955),\n",
       " ('Men in Black (1997)', 0.164503749060072),\n",
       " ('Toy Story (1995)', 0.0358996864764883),\n",
       " ('Fargo (1996)', 0.026563288565943057),\n",
       " ('Jumanji (1995)', -0.008282107922197014)]"
      ]
     },
     "execution_count": 32,
     "metadata": {},
     "output_type": "execute_result"
    }
   ],
   "source": [
    "[(idx_to_movie[i[0]], i[1]) for i in explain[1]]"
   ]
  },
  {
   "cell_type": "markdown",
   "id": "determined-holmes",
   "metadata": {},
   "source": [
    "---\n",
    "1. 데이터는 평점과 제목을 같이 볼수있게 merge함수를 써서 결합을 하였고,\n",
    "   좋아하는 영화를 5개 고르고 movie_id까지 확인을 걸쳐서 알맞게 추가를 하였다.\n",
    "   추가한것까지 user_id와 title을 바탕으로 CSRmatrix가 잘 생성되었다."
   ]
  },
  {
   "cell_type": "markdown",
   "id": "received-gabriel",
   "metadata": {},
   "source": [
    "2. 토이스토리를 나의 아이디와 벡터내적값을 확인해보니 0.43 이 나왔고\n",
    "   전혀 관련이없는 영화와 나의 아이디의 벡터내적값을 보니 0에 가까이 나왔다.\n",
    "   비교를 해보니 생각보다 내적수치가 유의미있게 형성이 되었다."
   ]
  },
  {
   "cell_type": "markdown",
   "id": "revolutionary-bahamas",
   "metadata": {},
   "source": [
    "3. 비슷한 영화를 찾아보니 토이스토리는 토이스토리2,라이온킹등이 나오는거보니 유사도가    잘나오는것을 볼 수 있었다. 맨인블랙,쥬만지도 확인해본 결과 모든 영화가 비슷해보이    진 않아도 어느정도 비슷한 영화처럼 보이는것을 확인하였다.\n",
    "\n",
    "   추천받은 영화들을 나열해보니 비슷한 영화라고 나왔던 영화들이 주로 속해있었다.\n",
    "   uikyeong벡터와의 내적수치가 좋아하는 영화랑 많이 차이가 안나는 영화들인것같았다.\n",
    "   추천받은 영화 중 1등인 터미네이터2에 어떤 영화가 기여하였는지 목록들을 보니\n",
    "   정확하게 내가 좋아하는 영화들로만 구성되어있는것을 보니 유의미하게 측정이 되는것을    느꼈다."
   ]
  }
 ],
 "metadata": {
  "kernelspec": {
   "display_name": "Python 3",
   "language": "python",
   "name": "python3"
  },
  "language_info": {
   "codemirror_mode": {
    "name": "ipython",
    "version": 3
   },
   "file_extension": ".py",
   "mimetype": "text/x-python",
   "name": "python",
   "nbconvert_exporter": "python",
   "pygments_lexer": "ipython3",
   "version": "3.7.9"
  }
 },
 "nbformat": 4,
 "nbformat_minor": 5
}
