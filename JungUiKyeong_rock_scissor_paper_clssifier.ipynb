{
 "cells": [
  {
   "cell_type": "markdown",
   "id": "mounted-spray",
   "metadata": {},
   "source": [
    "# 가위바위보 분류기"
   ]
  },
  {
   "cell_type": "markdown",
   "id": "geological-cheat",
   "metadata": {},
   "source": [
    "### 데이터준비\n",
    "+ 28x28 사이즈 변환\n"
   ]
  },
  {
   "cell_type": "code",
   "execution_count": 236,
   "id": "invisible-calibration",
   "metadata": {},
   "outputs": [
    {
     "name": "stdout",
     "output_type": "stream",
     "text": [
      "1000  images to be resized.\n",
      "1000  images to be resized.\n",
      "1000  images to be resized.\n",
      "100  images to be resized.\n",
      "100  images to be resized.\n",
      "100  images to be resized.\n",
      "테스트 이미지 resize 완료!\n"
     ]
    }
   ],
   "source": [
    "from PIL import Image\n",
    "import matplotlib.pyplot as plt\n",
    "import os,glob\n",
    "import numpy as np\n",
    "import tensorflow as tf\n",
    "from tensorflow import keras\n",
    "\n",
    "import os\n",
    "\n",
    "def resize_images(img_path):\n",
    "    images=glob.glob(img_path + \"/*.jpg\")  \n",
    "    print(len(images), \" images to be resized.\")\n",
    "    \n",
    "    # 파일마다 모두 28x28 사이즈로 바꾸어 저장합니다.\n",
    "    target_size=(28,28)\n",
    "    \n",
    "    for img in images:\n",
    "        old_img=Image.open(img)\n",
    "        new_img=old_img.resize(target_size,Image.ANTIALIAS)\n",
    "        new_img.save(img, \"JPEG\")\n",
    "    \n",
    "# train 가위바위보 이미지가 저장된 주소\n",
    "PATH = os.getenv(\"HOME\") + \"/aiffel/rock_scissor_paper\"\n",
    "image_dir_path1 = PATH\n",
    "image_dir_path2 = PATH + \"/rock\"\n",
    "image_dir_path3 = PATH + \"/scissor\"\n",
    "image_dir_path4 = PATH + \"/paper\"\n",
    "\n",
    "#test 가위바위보 이미지가 저장된주소\n",
    "PATH2 = os.getenv(\"HOME\") + \"/aiffel/rock_scissor_paper/test\"\n",
    "image_dir_path5 = PATH2\n",
    "image_dir_path6 = PATH2 + \"/rock\"\n",
    "image_dir_path7 = PATH2 + \"/scissor\"\n",
    "image_dir_path8 = PATH2 + \"/paper\"\n",
    "\n",
    "resize_images(image_dir_path2)\n",
    "resize_images(image_dir_path3)\n",
    "resize_images(image_dir_path4)\n",
    "\n",
    "resize_images(image_dir_path6)\n",
    "resize_images(image_dir_path7)\n",
    "resize_images(image_dir_path8)\n",
    "\n",
    "print(\"테스트 이미지 resize 완료!\")\n"
   ]
  },
  {
   "cell_type": "markdown",
   "id": "confident-loading",
   "metadata": {},
   "source": [
    "### test데이터 라벨링 및 정규화"
   ]
  },
  {
   "cell_type": "code",
   "execution_count": 237,
   "id": "permanent-kingdom",
   "metadata": {},
   "outputs": [
    {
     "name": "stdout",
     "output_type": "stream",
     "text": [
      "학습데이터(x_train)의 이미지 개수는 3000 입니다.\n",
      "x_train shape: (3000, 28, 28, 3)\n",
      "y_train shape: (3000,)\n"
     ]
    }
   ],
   "source": [
    "def load_data(img_path,number_of_data=3000):    # 가위바위보 이미지 개수 총합\n",
    "    # 가위 : 0, 바위 : 1, 보 : 2\n",
    "    img_size=28\n",
    "    color=3\n",
    "    #이미지 데이터와 라벨(가위 : 0, 바위 : 1, 보 : 2) 데이터를 담을 행렬(matrix) 영역을 생성\n",
    "    imgs=np.zeros(number_of_data*img_size*img_size*color,dtype=np.int32).reshape(number_of_data,img_size,img_size,color)\n",
    "    labels=np.zeros(number_of_data,dtype=np.int32)\n",
    "\n",
    "    idx=0\n",
    "    for file in glob.iglob(img_path+'/scissor/*.jpg'):\n",
    "        img = np.array(Image.open(file),dtype=np.int32)\n",
    "        imgs[idx,:,:,:]=img    # 데이터 영역에 이미지 행렬을 복사\n",
    "        labels[idx]=0   # 가위 : 0\n",
    "        idx=idx+1\n",
    "\n",
    "    for file in glob.iglob(img_path+'/rock/*.jpg'):\n",
    "        img = np.array(Image.open(file),dtype=np.int32)\n",
    "        imgs[idx,:,:,:]=img    # 데이터 영역에 이미지 행렬을 복사\n",
    "        labels[idx]=1   # 바위 : 1\n",
    "        idx=idx+1       \n",
    "\n",
    "    for file in glob.iglob(img_path+'/paper/*.jpg'):\n",
    "        img = np.array(Image.open(file),dtype=np.int32)\n",
    "        imgs[idx,:,:,:]=img    # 데이터 영역에 이미지 행렬을 복사\n",
    "        labels[idx]=2   # 보 : 2\n",
    "        idx=idx+1\n",
    "\n",
    "    print(\"학습데이터(x_train)의 이미지 개수는\",idx,\"입니다.\")\n",
    "    return imgs, labels\n",
    "\n",
    "(x_train, y_train)=load_data(image_dir_path1)\n",
    "x_train_norm = x_train/255.0   # 입력은 0~1 사이의 값으로 정규화\n",
    "\n",
    "print(\"x_train shape: {}\".format(x_train_norm.shape))\n",
    "print(\"y_train shape: {}\".format(y_train.shape))"
   ]
  },
  {
   "cell_type": "markdown",
   "id": "together-patient",
   "metadata": {},
   "source": [
    "## 딥러닝 네트워크설계\n",
    "+ Conv2D레이어,Dense레이어를 적당량 높여서 네트워크구축\n",
    "+ dropout을 사용해서 오버피팅을 줄여본다."
   ]
  },
  {
   "cell_type": "code",
   "execution_count": 238,
   "id": "hispanic-posting",
   "metadata": {},
   "outputs": [
    {
     "name": "stdout",
     "output_type": "stream",
     "text": [
      "Model: \"sequential_44\"\n",
      "_________________________________________________________________\n",
      "Layer (type)                 Output Shape              Param #   \n",
      "=================================================================\n",
      "conv2d_109 (Conv2D)          (None, 26, 26, 16)        448       \n",
      "_________________________________________________________________\n",
      "max_pooling2d_106 (MaxPoolin (None, 13, 13, 16)        0         \n",
      "_________________________________________________________________\n",
      "dropout_38 (Dropout)         (None, 13, 13, 16)        0         \n",
      "_________________________________________________________________\n",
      "conv2d_110 (Conv2D)          (None, 11, 11, 32)        4640      \n",
      "_________________________________________________________________\n",
      "max_pooling2d_107 (MaxPoolin (None, 5, 5, 32)          0         \n",
      "_________________________________________________________________\n",
      "dropout_39 (Dropout)         (None, 5, 5, 32)          0         \n",
      "_________________________________________________________________\n",
      "flatten_41 (Flatten)         (None, 800)               0         \n",
      "_________________________________________________________________\n",
      "dense_81 (Dense)             (None, 64)                51264     \n",
      "_________________________________________________________________\n",
      "dense_82 (Dense)             (None, 3)                 195       \n",
      "=================================================================\n",
      "Total params: 56,547\n",
      "Trainable params: 56,547\n",
      "Non-trainable params: 0\n",
      "_________________________________________________________________\n",
      "Epoch 1/12\n",
      "94/94 [==============================] - 1s 3ms/step - loss: 1.0834 - accuracy: 0.3978\n",
      "Epoch 2/12\n",
      "94/94 [==============================] - 0s 3ms/step - loss: 0.6260 - accuracy: 0.7418\n",
      "Epoch 3/12\n",
      "94/94 [==============================] - 0s 3ms/step - loss: 0.2527 - accuracy: 0.9251\n",
      "Epoch 4/12\n",
      "94/94 [==============================] - 0s 3ms/step - loss: 0.1480 - accuracy: 0.9603\n",
      "Epoch 5/12\n",
      "94/94 [==============================] - 0s 3ms/step - loss: 0.0704 - accuracy: 0.9823\n",
      "Epoch 6/12\n",
      "94/94 [==============================] - 0s 3ms/step - loss: 0.0519 - accuracy: 0.9818\n",
      "Epoch 7/12\n",
      "94/94 [==============================] - 0s 3ms/step - loss: 0.0351 - accuracy: 0.9910\n",
      "Epoch 8/12\n",
      "94/94 [==============================] - 0s 3ms/step - loss: 0.0196 - accuracy: 0.9953\n",
      "Epoch 9/12\n",
      "94/94 [==============================] - 0s 3ms/step - loss: 0.0199 - accuracy: 0.9942\n",
      "Epoch 10/12\n",
      "94/94 [==============================] - 0s 3ms/step - loss: 0.0128 - accuracy: 0.9991\n",
      "Epoch 11/12\n",
      "94/94 [==============================] - 0s 3ms/step - loss: 0.0208 - accuracy: 0.9948\n",
      "Epoch 12/12\n",
      "94/94 [==============================] - 0s 3ms/step - loss: 0.0113 - accuracy: 0.9971\n"
     ]
    },
    {
     "data": {
      "text/plain": [
       "<tensorflow.python.keras.callbacks.History at 0x7f4a580f5d90>"
      ]
     },
     "execution_count": 238,
     "metadata": {},
     "output_type": "execute_result"
    }
   ],
   "source": [
    "model=keras.models.Sequential()\n",
    "model.add(keras.layers.Conv2D(16, (3,3), activation='relu', input_shape=(28,28,3)))\n",
    "model.add(keras.layers.MaxPool2D(2,2))\n",
    "model.add(keras.layers.Dropout(0.2))\n",
    "model.add(keras.layers.Conv2D(32, (3,3), activation='relu'))\n",
    "model.add(keras.layers.MaxPooling2D((2,2)))\n",
    "model.add(keras.layers.Dropout(0.3))\n",
    "model.add(keras.layers.Flatten())\n",
    "model.add(keras.layers.Dense(64, activation='relu'))\n",
    "model.add(keras.layers.Dense(3, activation='softmax'))\n",
    "\n",
    "model.summary()\n",
    "\n",
    "model.compile(optimizer='adam',\n",
    "             loss='sparse_categorical_crossentropy',\n",
    "             metrics=['accuracy'])\n",
    "\n",
    "model.fit(x_train_norm, y_train, epochs=12)"
   ]
  },
  {
   "cell_type": "markdown",
   "id": "approved-beauty",
   "metadata": {},
   "source": [
    "+  test 데이터 정규화"
   ]
  },
  {
   "cell_type": "code",
   "execution_count": 239,
   "id": "private-costs",
   "metadata": {},
   "outputs": [
    {
     "name": "stdout",
     "output_type": "stream",
     "text": [
      "학습데이터(x_train)의 이미지 개수는 300 입니다.\n",
      "x_test shape: (300, 28, 28, 3)\n",
      "y_test shape: (300,)\n"
     ]
    }
   ],
   "source": [
    "(x_test, y_test)=load_data(image_dir_path5,300)\n",
    "x_test_norm = x_test/255.0   # 입력은 0~1 사이의 값으로 정규화\n",
    "\n",
    "print(\"x_test shape: {}\".format(x_test_norm.shape))\n",
    "print(\"y_test shape: {}\".format(y_test.shape))"
   ]
  },
  {
   "cell_type": "markdown",
   "id": "joined-sandwich",
   "metadata": {},
   "source": [
    "## 모델 성능평가\n",
    "처음에는 300장 학습데이터로 시작했을때는 30%정도였는데   \n",
    "#### 3000장으로 학습개수를 늘리고 정규화 이후 적합한 하이퍼파라미터들,dropout을 추가하는등 으로\n",
    "### 76% 끌어올림"
   ]
  },
  {
   "cell_type": "code",
   "execution_count": 240,
   "id": "assisted-driver",
   "metadata": {},
   "outputs": [
    {
     "name": "stdout",
     "output_type": "stream",
     "text": [
      "10/10 - 0s - loss: 0.7638 - accuracy: 0.7700\n",
      "test_loss: 0.7637717127799988 \n",
      "test_accuracy: 0.7699999809265137\n"
     ]
    }
   ],
   "source": [
    "test_loss, test_accuracy = model.evaluate(x_test_norm, y_test, verbose=2)\n",
    "print(\"test_loss: {} \".format(test_loss))\n",
    "print(\"test_accuracy: {}\".format(test_accuracy))"
   ]
  },
  {
   "cell_type": "markdown",
   "id": "capital-class",
   "metadata": {},
   "source": [
    "#### 잘못 예측된 데이터 확인\n",
    "+ 주먹줬을때의 마디 때문에 보와 잘 구분을 못하는 것 같다"
   ]
  },
  {
   "cell_type": "code",
   "execution_count": 241,
   "id": "novel-setting",
   "metadata": {},
   "outputs": [],
   "source": [
    "predicted_result = model.predict(x_test)  \n",
    "predicted_labels = np.argmax(predicted_result, axis=1)"
   ]
  },
  {
   "cell_type": "code",
   "execution_count": 219,
   "id": "geographic-craps",
   "metadata": {},
   "outputs": [
    {
     "name": "stdout",
     "output_type": "stream",
     "text": [
      "예측확률분포: [1.0000000e+00 1.0764184e-37 3.6703849e-38]\n",
      "라벨: 2, 예측결과: 0\n"
     ]
    },
    {
     "data": {
      "image/png": "[encoded data removed]",
      "text/plain": [
       "<Figure size 432x288 with 1 Axes>"
      ]
     },
     "metadata": {
      "needs_background": "light"
     },
     "output_type": "display_data"
    },
    {
     "name": "stdout",
     "output_type": "stream",
     "text": [
      "예측확률분포: [7.2751455e-28 0.0000000e+00 1.0000000e+00]\n",
      "라벨: 0, 예측결과: 2\n"
     ]
    },
    {
     "data": {
      "image/png": "[encoded data removed]",
      "text/plain": [
       "<Figure size 432x288 with 1 Axes>"
      ]
     },
     "metadata": {
      "needs_background": "light"
     },
     "output_type": "display_data"
    },
    {
     "name": "stdout",
     "output_type": "stream",
     "text": [
      "예측확률분포: [0. 0. 1.]\n",
      "라벨: 1, 예측결과: 2\n"
     ]
    },
    {
     "data": {
      "image/png": "[encoded data removed]",
      "text/plain": [
       "<Figure size 432x288 with 1 Axes>"
      ]
     },
     "metadata": {
      "needs_background": "light"
     },
     "output_type": "display_data"
    },
    {
     "name": "stdout",
     "output_type": "stream",
     "text": [
      "예측확률분포: [1.000000e+00 0.000000e+00 2.776985e-08]\n",
      "라벨: 2, 예측결과: 0\n"
     ]
    },
    {
     "data": {
      "image/png": "[encoded data removed]",
      "text/plain": [
       "<Figure size 432x288 with 1 Axes>"
      ]
     },
     "metadata": {
      "needs_background": "light"
     },
     "output_type": "display_data"
    },
    {
     "name": "stdout",
     "output_type": "stream",
     "text": [
      "예측확률분포: [9.99890566e-01 0.00000000e+00 1.09445326e-04]\n",
      "라벨: 2, 예측결과: 0\n"
     ]
    },
    {
     "data": {
      "image/png": "[encoded data removed]",
      "text/plain": [
       "<Figure size 432x288 with 1 Axes>"
      ]
     },
     "metadata": {
      "needs_background": "light"
     },
     "output_type": "display_data"
    }
   ],
   "source": [
    "import random\n",
    "wrong_predict_list=[]\n",
    "for i, _ in enumerate(predicted_labels):\n",
    "    # i번째 test_labels과 y_test이 다른 경우만 모음\n",
    "    if predicted_labels[i] != y_test[i]:\n",
    "        wrong_predict_list.append(i)\n",
    "\n",
    "# wrong_predict_list 에서 랜덤하게 5개만 뽑기\n",
    "samples = random.choices(population=wrong_predict_list, k=5)\n",
    "\n",
    "for n in samples:\n",
    "    print(\"예측확률분포: \" + str(predicted_result[n]))\n",
    "    print(\"라벨: \" + str(y_test[n]) + \", 예측결과: \" + str(predicted_labels[n]))\n",
    "    plt.imshow(x_test[n], cmap=plt.cm.binary)\n",
    "    plt.show()"
   ]
  },
  {
   "cell_type": "markdown",
   "id": "standing-maryland",
   "metadata": {},
   "source": [
    "+ 많은량의 데이터셋의 확보 \n",
    "+ 적합한 하이퍼파라미터\n",
    "+ dropout 사용   \n",
    "이 3가지가 컸었고 사실 데이터의 배경,빛,자세등이 달라서 쉽지가 않은것같다."
   ]
  },
  {
   "cell_type": "markdown",
   "id": "grave-appeal",
   "metadata": {},
   "source": [
    "___\n",
    "1. trainset 300장 testset 100장으로 시작했을때는 2~30퍼   \n",
    "더 많은량의 데이터셋을 확보해서 trainset 3000장 trainset 300장으로 확률을 높였다.\n",
    "___\n",
    "2. 각각 배경, 조명등이 달라서 특징점을 많이 잡기위해  \n",
    "Conv2D레이어,Dense레이어를 적당량 높여서 네트워크구축   \n",
    "dropout을 사용해서 오버피팅을 줄여본다.\n",
    "___\n",
    "3. 학습횟수(epochs)를 늘려본다.\n",
    "___\n",
    "4. 60퍼가 넘게 나오게 되고 최대로 나온 확률이 76퍼였다.\n",
    "___\n"
   ]
  }
 ],
 "metadata": {
  "kernelspec": {
   "display_name": "Python 3",
   "language": "python",
   "name": "python3"
  },
  "language_info": {
   "codemirror_mode": {
    "name": "ipython",
    "version": 3
   },
   "file_extension": ".py",
   "mimetype": "text/x-python",
   "name": "python",
   "nbconvert_exporter": "python",
   "pygments_lexer": "ipython3",
   "version": "3.7.9"
  }
 },
 "nbformat": 4,
 "nbformat_minor": 5
}
