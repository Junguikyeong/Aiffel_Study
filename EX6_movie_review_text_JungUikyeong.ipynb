{
 "cells": [
  {
   "cell_type": "markdown",
   "id": "thousand-medication",
   "metadata": {},
   "source": [
    "# 1) 데이터 준비와 확인"
   ]
  },
  {
   "cell_type": "code",
   "execution_count": 1,
   "id": "antique-lafayette",
   "metadata": {},
   "outputs": [
    {
     "name": "stdout",
     "output_type": "stream",
     "text": [
      "train data 개수: 150000, test data 개수: 50000\n"
     ]
    },
    {
     "data": {
      "text/html": [
       "<div>\n",
       "<style scoped>\n",
       "    .dataframe tbody tr th:only-of-type {\n",
       "        vertical-align: middle;\n",
       "    }\n",
       "\n",
       "    .dataframe tbody tr th {\n",
       "        vertical-align: top;\n",
       "    }\n",
       "\n",
       "    .dataframe thead th {\n",
       "        text-align: right;\n",
       "    }\n",
       "</style>\n",
       "<table border=\"1\" class=\"dataframe\">\n",
       "  <thead>\n",
       "    <tr style=\"text-align: right;\">\n",
       "      <th></th>\n",
       "      <th>id</th>\n",
       "      <th>document</th>\n",
       "      <th>label</th>\n",
       "    </tr>\n",
       "  </thead>\n",
       "  <tbody>\n",
       "    <tr>\n",
       "      <th>0</th>\n",
       "      <td>9976970</td>\n",
       "      <td>아 더빙.. 진짜 짜증나네요 목소리</td>\n",
       "      <td>0</td>\n",
       "    </tr>\n",
       "    <tr>\n",
       "      <th>1</th>\n",
       "      <td>3819312</td>\n",
       "      <td>흠...포스터보고 초딩영화줄....오버연기조차 가볍지 않구나</td>\n",
       "      <td>1</td>\n",
       "    </tr>\n",
       "    <tr>\n",
       "      <th>2</th>\n",
       "      <td>10265843</td>\n",
       "      <td>너무재밓었다그래서보는것을추천한다</td>\n",
       "      <td>0</td>\n",
       "    </tr>\n",
       "    <tr>\n",
       "      <th>3</th>\n",
       "      <td>9045019</td>\n",
       "      <td>교도소 이야기구먼 ..솔직히 재미는 없다..평점 조정</td>\n",
       "      <td>0</td>\n",
       "    </tr>\n",
       "    <tr>\n",
       "      <th>4</th>\n",
       "      <td>6483659</td>\n",
       "      <td>사이몬페그의 익살스런 연기가 돋보였던 영화!스파이더맨에서 늙어보이기만 했던 커스틴 ...</td>\n",
       "      <td>1</td>\n",
       "    </tr>\n",
       "  </tbody>\n",
       "</table>\n",
       "</div>"
      ],
      "text/plain": [
       "         id                                           document  label\n",
       "0   9976970                                아 더빙.. 진짜 짜증나네요 목소리      0\n",
       "1   3819312                  흠...포스터보고 초딩영화줄....오버연기조차 가볍지 않구나      1\n",
       "2  10265843                                  너무재밓었다그래서보는것을추천한다      0\n",
       "3   9045019                      교도소 이야기구먼 ..솔직히 재미는 없다..평점 조정      0\n",
       "4   6483659  사이몬페그의 익살스런 연기가 돋보였던 영화!스파이더맨에서 늙어보이기만 했던 커스틴 ...      1"
      ]
     },
     "execution_count": 1,
     "metadata": {},
     "output_type": "execute_result"
    }
   ],
   "source": [
    "import os\n",
    "import pandas as pd\n",
    "import urllib.request\n",
    "%matplotlib inline\n",
    "import matplotlib.pyplot as plt\n",
    "import re\n",
    "from konlpy.tag import Okt\n",
    "from tensorflow import keras\n",
    "from tensorflow.keras.preprocessing.text import Tokenizer\n",
    "import numpy as np\n",
    "from tensorflow.keras.preprocessing.sequence import pad_sequences\n",
    "from collections import Counter\n",
    "\n",
    "# 데이터를 읽어봅시다. \n",
    "train_data = pd.read_table('~/aiffel/sentiment_classification/data/ratings_train.txt')\n",
    "test_data = pd.read_table('~/aiffel/sentiment_classification/data/ratings_test.txt')\n",
    "\n",
    "print(\"train data 개수: {}, test data 개수: {}\".format(len(train_data), len(test_data)))  # 데이터 개수 확인\n",
    "train_data.head()"
   ]
  },
  {
   "cell_type": "markdown",
   "id": "determined-valuable",
   "metadata": {},
   "source": [
    "# 2) 데이터로더 구성"
   ]
  },
  {
   "cell_type": "code",
   "execution_count": 2,
   "id": "floppy-graph",
   "metadata": {},
   "outputs": [
    {
     "name": "stdout",
     "output_type": "stream",
     "text": [
      "훈련 샘플 개수: 146182, 테스트 개수: 49157\n"
     ]
    }
   ],
   "source": [
    "from konlpy.tag import Mecab\n",
    "tokenizer = Mecab()\n",
    "stopwords = ['의','가','이','은','들','는','좀','잘','걍','과','도','를','으로','자','에','와','한','하다']\n",
    "\n",
    "def load_data(train_data,test_data,num_words=10000):\n",
    "    # document부분의 중복데이터를 제거해주고 수정본으로 바꾼다.\n",
    "    # 결측치가 하나라도 있는 행 또는 열을 제거\n",
    "    train_data.drop_duplicates(subset=['document'], inplace=True) \n",
    "    train_data = train_data.dropna(how = 'any') \n",
    "    test_data.drop_duplicates(subset=['document'], inplace=True)\n",
    "    test_data = test_data.dropna(how = 'any')\n",
    "    \n",
    "    # traindata안의 문장들 (형태소)토큰화 및 불용어 제거\n",
    "    # 제거완료 후 X_train에 저장\n",
    "    X_train = []\n",
    "    for sentence in train_data['document']:\n",
    "        temp_X = tokenizer.morphs(sentence) # 토큰화\n",
    "        temp_X = [word for word in temp_X if not word in stopwords] # 불용어 제거\n",
    "        X_train.append(temp_X)\n",
    "        \n",
    "    # testdata안의 문장들 (형태소)토큰화 및 불용어 제거\n",
    "    # 제거완료 후 X_test에 저장\n",
    "    X_test = []\n",
    "    for sentence in test_data['document']:\n",
    "        temp_X = tokenizer.morphs(sentence) # 토큰화\n",
    "        temp_X = [word for word in temp_X if not word in stopwords] # 불용어 제거\n",
    "        X_test.append(temp_X)\n",
    "    \n",
    "    # {word:index} 구조의 단어사전 구현 \n",
    "    words = np.concatenate(X_train).tolist() # 데이터끼리 묶어줌\n",
    "    counter = Counter(words) # 데이터(글자)수를 세어줌\n",
    "    counter = counter.most_common(10000-4) # 많은 글자수 순으로 정렬\n",
    "    vocab = ['<PAD>','<BOS>','<UNK>','<UNUSED>'] + [key for key, _ in counter] # pad,bos,unk.unused  + 나머지 vocab으로 저장\n",
    "    word_to_index = {word:index for index, word in enumerate(vocab)} # enumerate사용해서 index로 치환\n",
    "\n",
    "    def wordlist_to_indexlist(wordlist):\n",
    "        return [word_to_index[word] if word in word_to_index else word_to_index['<UNK>'] for word in wordlist]\n",
    "\n",
    "    X_train = list(map(wordlist_to_indexlist, X_train))\n",
    "    X_test = list(map(wordlist_to_indexlist, X_test))\n",
    "    \n",
    "    return X_train, np.array(list(train_data['label'])), X_test, np.array(list(test_data['label'])), word_to_index\n",
    "    \n",
    "    \n",
    "X_train, y_train, X_test, y_test, word_to_index = load_data(train_data, test_data)\n",
    "print(\"훈련 샘플 개수: {}, 테스트 개수: {}\".format(len(X_train), len(X_test)))"
   ]
  },
  {
   "cell_type": "code",
   "execution_count": 44,
   "id": "joined-diversity",
   "metadata": {},
   "outputs": [],
   "source": [
    "# 만든 사전 확인\n",
    "index_to_word = {index:word for word, index in word_to_index.items()}\n",
    "#print(index_to_word)\n",
    "#10000개의 단어가 나와서 주석처리"
   ]
  },
  {
   "cell_type": "code",
   "execution_count": 4,
   "id": "filled-certificate",
   "metadata": {},
   "outputs": [],
   "source": [
    "# 문장 1개를 활용할 딕셔너리와 함께 주면, 단어 인덱스 리스트 벡터로 변환해 주는 함수입니다. \n",
    "# 단, 모든 문장은 <BOS>로 시작하는 것으로 합니다. \n",
    "def get_encoded_sentence(sentence, word_to_index):\n",
    "    return [word_to_index['<BOS>']]+[word_to_index[word] if word in word_to_index else word_to_index['<UNK>'] for word in sentence.split()]\n",
    "\n",
    "# 여러 개의 문장 리스트를 한꺼번에 단어 인덱스 리스트 벡터로 encode해 주는 함수입니다. \n",
    "def get_encoded_sentences(sentences, word_to_index):\n",
    "    return [get_encoded_sentence(sentence, word_to_index) for sentence in sentences]\n",
    "\n",
    "# 숫자 벡터로 encode된 문장을 원래대로 decode하는 함수입니다. \n",
    "def get_decoded_sentence(encoded_sentence, index_to_word):\n",
    "    return ' '.join(index_to_word[index] if index in index_to_word else '<UNK>' for index in encoded_sentence[1:])  #[1:]를 통해 <BOS>를 제외\n",
    "\n",
    "# 여러 개의 숫자 벡터로 encode된 문장을 한꺼번에 원래대로 decode하는 함수입니다. \n",
    "def get_decoded_sentences(encoded_sentences, index_to_word):\n",
    "    return [get_decoded_sentence(encoded_sentence, index_to_word) for encoded_sentence in encoded_sentences]"
   ]
  },
  {
   "cell_type": "code",
   "execution_count": 5,
   "id": "stuffed-uncle",
   "metadata": {},
   "outputs": [
    {
     "name": "stdout",
     "output_type": "stream",
     "text": [
      "[32, 74, 919, 4, 4, 39, 228, 20, 33, 748]\n",
      "더 빙 . . 진짜 짜증 나 네요 목소리 \n",
      "\n",
      "[1028, 4, 11, 519, 549, 687, 5, 120, 4, 70, 1639, 52, 925, 1006, 15, 44, 391]\n",
      ". .. 포스터 보고 초딩 영화 줄 . ... 오버 연기 조차 가볍 지 않 구나 \n",
      "\n",
      "[24, 205, 2]\n",
      "재 <UNK> \n",
      "\n",
      "[8409, 158, 3925, 4, 4, 298, 94, 17, 6, 4, 4, 58, 3479]\n",
      "이야기 구먼 . . 솔직히 재미 없 다 . . 평점 조정 \n",
      "\n",
      "[2, 8894, 1108, 52, 2832, 60, 5, 14, 2758, 41, 1188, 35, 351, 42, 22, 40, 60, 2, 2, 427, 3102, 1766, 6]\n",
      "익살 스런 연기 돋보였 던 영화 ! 스파이더맨 에서 늙 어 보이 기 만 했 던 <UNK> <UNK> 너무나 이뻐 보였 다 \n",
      "\n",
      "-----------------------------------------------------\n",
      "[832, 130]\n",
      "ㅋ \n",
      "\n",
      "[2]\n",
      " \n",
      "\n",
      "[85, 111, 58, 4, 70, 950, 332, 44, 38, 100, 37, 641, 3557, 73, 917]\n",
      "야 평점 . ... 나쁘 진 않 지만 10 점 짜리 더더욱 아니 잖아 \n",
      "\n",
      "[96, 8, 15, 44, 231, 137, 357, 129, 4, 11, 153, 54, 7, 10, 42, 4, 70]\n",
      "하 지 않 은데 완전 막장 임 . .. 돈 주 고 보 기 . ... \n",
      "\n",
      "[131, 1114, 22, 73, 21, 459, 232, 2142, 122, 559, 9, 596, 4, 4, 63, 131, 1114, 29, 635, 346, 2, 844, 8, 12, 8, 295, 18, 18]\n",
      "D 만 아니 었 어도 별 다섯 개 줬 을 텐데 . . 왜 3 D 로 나와서 제 <UNK> 불편 하 게 하 죠 ? ? \n",
      "\n"
     ]
    }
   ],
   "source": [
    "# encode된 텍스트가 정상적으로 decode되는지 확인\n",
    "for i in range(5):\n",
    "    print(X_train[i])\n",
    "    print(get_decoded_sentence(X_train[i],index_to_word),'\\n')\n",
    "\n",
    "print(\"-----------------------------------------------------\")\n",
    "    \n",
    "for i in range(5):\n",
    "    print(X_test[i])\n",
    "    print(get_decoded_sentence(X_test[i],index_to_word),'\\n')"
   ]
  },
  {
   "cell_type": "markdown",
   "id": "sought-cartridge",
   "metadata": {},
   "source": [
    "# 3) 모델구성을 위한 데이터 분석 및 가공"
   ]
  },
  {
   "cell_type": "code",
   "execution_count": 6,
   "id": "chubby-james",
   "metadata": {},
   "outputs": [
    {
     "name": "stdout",
     "output_type": "stream",
     "text": [
      "문장길이 평균 :  15.96940191154864\n",
      "문장길이 최대 :  116\n",
      "문장길이 표준편차 :  12.843571191092\n",
      "pad_sequences maxlen :  41\n",
      "전체 문장의 0.9342988343341575%가 maxlen 설정값 이내에 포함됩니다. \n"
     ]
    }
   ],
   "source": [
    "total_data_text = list(X_train) + list(X_test)\n",
    "# 텍스트데이터 문장길이의 리스트를 생성한 후\n",
    "num_tokens = [len(tokens) for tokens in total_data_text]\n",
    "num_tokens = np.array(num_tokens)\n",
    "# 문장길이의 평균값, 최대값, 표준편차를 계산해 본다. \n",
    "print('문장길이 평균 : ', np.mean(num_tokens))\n",
    "print('문장길이 최대 : ', np.max(num_tokens))\n",
    "print('문장길이 표준편차 : ', np.std(num_tokens))\n",
    "\n",
    "# 예를들어, 최대 길이를 (평균 + 2*표준편차)로 한다면,  \n",
    "max_tokens = np.mean(num_tokens) + 2 * np.std(num_tokens)\n",
    "maxlen = int(max_tokens)\n",
    "print('pad_sequences maxlen : ', maxlen)\n",
    "print('전체 문장의 {}%가 maxlen 설정값 이내에 포함됩니다. '.format(np.sum(num_tokens < max_tokens) / len(num_tokens)))"
   ]
  },
  {
   "cell_type": "code",
   "execution_count": 7,
   "id": "sensitive-arlington",
   "metadata": {},
   "outputs": [
    {
     "name": "stdout",
     "output_type": "stream",
     "text": [
      "(146182, 41)\n"
     ]
    }
   ],
   "source": [
    "X_train = keras.preprocessing.sequence.pad_sequences(X_train,\n",
    "                                                        value=word_to_index['<PAD>'],\n",
    "                                                        padding='pre',\n",
    "                                                        maxlen=maxlen)\n",
    "\n",
    "X_test = keras.preprocessing.sequence.pad_sequences(X_test,\n",
    "                                                       value=word_to_index['<PAD>'],\n",
    "                                                       padding='pre',\n",
    "                                                       maxlen=maxlen)\n",
    "\n",
    "print(X_train.shape)"
   ]
  },
  {
   "cell_type": "markdown",
   "id": "passing-circuit",
   "metadata": {},
   "source": [
    "# 4) 모델구성 및 validation set 구성"
   ]
  },
  {
   "cell_type": "code",
   "execution_count": 8,
   "id": "digital-signature",
   "metadata": {},
   "outputs": [
    {
     "name": "stdout",
     "output_type": "stream",
     "text": [
      "(116182, 41)\n",
      "(116182,)\n"
     ]
    }
   ],
   "source": [
    "# 훈련 수:146182, 테스트 개수: 49157\n",
    "# 146182 중 39000개를 validation set으로 사용\n",
    "x_val = X_train[:30000]\n",
    "y_val = y_train[:30000]\n",
    "\n",
    "# 나머지를 train set으로 사용\n",
    "partial_x_train = X_train[30000:]\n",
    "partial_y_train = y_train[30000:]\n",
    "\n",
    "print(partial_x_train.shape)\n",
    "print(partial_y_train.shape)"
   ]
  },
  {
   "cell_type": "markdown",
   "id": "close-agriculture",
   "metadata": {},
   "source": [
    "### 1. LSTM"
   ]
  },
  {
   "cell_type": "code",
   "execution_count": 9,
   "id": "absolute-henry",
   "metadata": {},
   "outputs": [
    {
     "name": "stdout",
     "output_type": "stream",
     "text": [
      "Model: \"sequential\"\n",
      "_________________________________________________________________\n",
      "Layer (type)                 Output Shape              Param #   \n",
      "=================================================================\n",
      "embedding (Embedding)        (None, None, 200)         2000000   \n",
      "_________________________________________________________________\n",
      "lstm (LSTM)                  (None, 8)                 6688      \n",
      "_________________________________________________________________\n",
      "dense (Dense)                (None, 8)                 72        \n",
      "_________________________________________________________________\n",
      "dense_1 (Dense)              (None, 1)                 9         \n",
      "=================================================================\n",
      "Total params: 2,006,769\n",
      "Trainable params: 2,006,769\n",
      "Non-trainable params: 0\n",
      "_________________________________________________________________\n"
     ]
    }
   ],
   "source": [
    "vocab_size = 10000  # 어휘 사전의 크기입니다(10개의 단어)\n",
    "word_vector_dim = 200  # 단어 하나를 표현하는 임베딩 벡터의 차원수입니다. \n",
    "\n",
    "LSTMmodel = keras.Sequential()\n",
    "LSTMmodel.add(keras.layers.Embedding(vocab_size, word_vector_dim, input_shape=(None,)))\n",
    "LSTMmodel.add(keras.layers.LSTM(8))   # 가장 널리 쓰이는 RNN인 LSTM 레이어를 사용하였습니다. 이때 LSTM state 벡터의 차원수는 8로 하였습니다. (변경 가능)\n",
    "LSTMmodel.add(keras.layers.Dense(8, activation='relu'))\n",
    "LSTMmodel.add(keras.layers.Dense(1, activation='sigmoid'))  # 최종 출력은 긍정/부정을 나타내는 1dim 입니다.\n",
    "\n",
    "LSTMmodel.summary()"
   ]
  },
  {
   "cell_type": "markdown",
   "id": "radio-threshold",
   "metadata": {},
   "source": [
    "### 2. 1-D CNN"
   ]
  },
  {
   "cell_type": "code",
   "execution_count": 10,
   "id": "atmospheric-continent",
   "metadata": {},
   "outputs": [
    {
     "name": "stdout",
     "output_type": "stream",
     "text": [
      "Model: \"sequential_1\"\n",
      "_________________________________________________________________\n",
      "Layer (type)                 Output Shape              Param #   \n",
      "=================================================================\n",
      "embedding_1 (Embedding)      (None, None, 200)         2000000   \n",
      "_________________________________________________________________\n",
      "conv1d (Conv1D)              (None, None, 16)          22416     \n",
      "_________________________________________________________________\n",
      "max_pooling1d (MaxPooling1D) (None, None, 16)          0         \n",
      "_________________________________________________________________\n",
      "conv1d_1 (Conv1D)            (None, None, 16)          1808      \n",
      "_________________________________________________________________\n",
      "global_max_pooling1d (Global (None, 16)                0         \n",
      "_________________________________________________________________\n",
      "dense_2 (Dense)              (None, 8)                 136       \n",
      "_________________________________________________________________\n",
      "dense_3 (Dense)              (None, 1)                 9         \n",
      "=================================================================\n",
      "Total params: 2,024,369\n",
      "Trainable params: 2,024,369\n",
      "Non-trainable params: 0\n",
      "_________________________________________________________________\n"
     ]
    }
   ],
   "source": [
    "vocab_size = 10000  # 어휘 사전의 크기입니다(10000개의 단어)\n",
    "word_vector_dim = 200   # 단어 하나를 표현하는 임베딩 벡터의 차원 수입니다. \n",
    "\n",
    "D1CNNmodel = keras.Sequential()\n",
    "D1CNNmodel.add(keras.layers.Embedding(vocab_size, word_vector_dim, input_shape=(None,)))\n",
    "D1CNNmodel.add(keras.layers.Conv1D(16, 7, activation='relu'))\n",
    "D1CNNmodel.add(keras.layers.MaxPooling1D(5))\n",
    "D1CNNmodel.add(keras.layers.Conv1D(16, 7, activation='relu'))\n",
    "D1CNNmodel.add(keras.layers.GlobalMaxPooling1D())\n",
    "D1CNNmodel.add(keras.layers.Dense(8, activation='relu'))\n",
    "D1CNNmodel.add(keras.layers.Dense(1, activation='sigmoid'))  # 최종 출력은 긍정/부정을 나타내는 1dim 입니다.\n",
    "\n",
    "D1CNNmodel.summary()"
   ]
  },
  {
   "cell_type": "markdown",
   "id": "sharp-constitutional",
   "metadata": {},
   "source": [
    "### 3. GlobalMaxPooling1D"
   ]
  },
  {
   "cell_type": "code",
   "execution_count": 11,
   "id": "least-equipment",
   "metadata": {},
   "outputs": [
    {
     "name": "stdout",
     "output_type": "stream",
     "text": [
      "Model: \"sequential_2\"\n",
      "_________________________________________________________________\n",
      "Layer (type)                 Output Shape              Param #   \n",
      "=================================================================\n",
      "embedding_2 (Embedding)      (None, None, 200)         2000000   \n",
      "_________________________________________________________________\n",
      "global_max_pooling1d_1 (Glob (None, 200)               0         \n",
      "_________________________________________________________________\n",
      "dense_4 (Dense)              (None, 8)                 1608      \n",
      "_________________________________________________________________\n",
      "dense_5 (Dense)              (None, 1)                 9         \n",
      "=================================================================\n",
      "Total params: 2,001,617\n",
      "Trainable params: 2,001,617\n",
      "Non-trainable params: 0\n",
      "_________________________________________________________________\n"
     ]
    }
   ],
   "source": [
    "vocab_size = 10000  # 어휘 사전의 크기입니다(10000개의 단어)\n",
    "word_vector_dim = 200   # 단어 하나를 표현하는 임베딩 벡터의 차원 수입니다. \n",
    "\n",
    "GMP1Dmodel = keras.Sequential()\n",
    "GMP1Dmodel.add(keras.layers.Embedding(vocab_size, word_vector_dim, input_shape=(None,)))\n",
    "GMP1Dmodel.add(keras.layers.GlobalMaxPooling1D())\n",
    "GMP1Dmodel.add(keras.layers.Dense(8, activation='relu'))\n",
    "GMP1Dmodel.add(keras.layers.Dense(1, activation='sigmoid'))  # 최종 출력은 긍정/부정을 나타내는 1dim 입니다.\n",
    "\n",
    "GMP1Dmodel.summary()"
   ]
  },
  {
   "cell_type": "markdown",
   "id": "flying-accused",
   "metadata": {},
   "source": [
    "# 5) 모델 훈련 개시\n",
    "# 6) Loss, Accuracy 그래프 시각화"
   ]
  },
  {
   "cell_type": "markdown",
   "id": "english-hostel",
   "metadata": {},
   "source": [
    "### 1. LSTM"
   ]
  },
  {
   "cell_type": "code",
   "execution_count": 12,
   "id": "valid-thesis",
   "metadata": {},
   "outputs": [
    {
     "name": "stdout",
     "output_type": "stream",
     "text": [
      "Epoch 1/7\n",
      "227/227 [==============================] - 10s 33ms/step - loss: 0.5514 - accuracy: 0.7513 - val_loss: 0.3492 - val_accuracy: 0.8484\n",
      "Epoch 2/7\n",
      "227/227 [==============================] - 6s 28ms/step - loss: 0.3228 - accuracy: 0.8664 - val_loss: 0.3347 - val_accuracy: 0.8533\n",
      "Epoch 3/7\n",
      "227/227 [==============================] - 6s 29ms/step - loss: 0.2859 - accuracy: 0.8817 - val_loss: 0.3325 - val_accuracy: 0.8556\n",
      "Epoch 4/7\n",
      "227/227 [==============================] - 6s 29ms/step - loss: 0.2602 - accuracy: 0.8939 - val_loss: 0.3383 - val_accuracy: 0.8546\n",
      "Epoch 5/7\n",
      "227/227 [==============================] - 7s 29ms/step - loss: 0.2350 - accuracy: 0.9071 - val_loss: 0.3500 - val_accuracy: 0.8553\n",
      "Epoch 6/7\n",
      "227/227 [==============================] - 6s 29ms/step - loss: 0.2119 - accuracy: 0.9187 - val_loss: 0.3604 - val_accuracy: 0.8546\n",
      "Epoch 7/7\n",
      "227/227 [==============================] - 6s 28ms/step - loss: 0.1920 - accuracy: 0.9268 - val_loss: 0.3790 - val_accuracy: 0.8519\n"
     ]
    }
   ],
   "source": [
    "# 모델 학습\n",
    "LSTMmodel.compile(optimizer='adam',\n",
    "                  loss='binary_crossentropy',\n",
    "                  metrics=['accuracy'])\n",
    "              \n",
    "epochs = 7 \n",
    "\n",
    "history1 = LSTMmodel.fit(partial_x_train,\n",
    "                        partial_y_train,\n",
    "                        epochs=epochs,\n",
    "                        batch_size=512,\n",
    "                        validation_data=(x_val, y_val),\n",
    "                        verbose=1)"
   ]
  },
  {
   "cell_type": "code",
   "execution_count": 13,
   "id": "artificial-investing",
   "metadata": {},
   "outputs": [
    {
     "name": "stdout",
     "output_type": "stream",
     "text": [
      "1537/1537 - 5s - loss: 0.3861 - accuracy: 0.8473\n"
     ]
    }
   ],
   "source": [
    "# testset으로 평가\n",
    "results = LSTMmodel.evaluate(X_test,  y_test, verbose=2)"
   ]
  },
  {
   "cell_type": "code",
   "execution_count": 14,
   "id": "attached-decision",
   "metadata": {},
   "outputs": [
    {
     "name": "stdout",
     "output_type": "stream",
     "text": [
      "dict_keys(['loss', 'accuracy', 'val_loss', 'val_accuracy'])\n"
     ]
    },
    {
     "data": {
      "image/png": "[encoded data removed]",
      "text/plain": [
       "<Figure size 720x360 with 2 Axes>"
      ]
     },
     "metadata": {
      "needs_background": "light"
     },
     "output_type": "display_data"
    }
   ],
   "source": [
    "# 시각화\n",
    "history_dict = history1.history\n",
    "print(history_dict.keys()) # epoch에 따른 그래프를 그려볼 수 있는 항목들\n",
    "\n",
    "acc = history_dict['accuracy']\n",
    "val_acc = history_dict['val_accuracy']\n",
    "loss = history_dict['loss']\n",
    "val_loss = history_dict['val_loss']\n",
    "\n",
    "epochs = range(1, len(acc) + 1)\n",
    "\n",
    "# Accuracy 그래프\n",
    "plt.figure(figsize = (10,5))\n",
    "plt.subplot(1, 2, 1)\n",
    "plt.plot(epochs, acc, label='Training Accuracy')\n",
    "plt.plot(epochs, val_acc, label='Validation Accuracy')\n",
    "plt.title('Training and Validation Accuracy')\n",
    "plt.xlabel('Epochs')\n",
    "plt.ylabel('Accuracy')\n",
    "plt.legend()\n",
    "# Loss 그래프\n",
    "plt.subplot(1, 2, 2)\n",
    "plt.plot(epochs, loss, label='Training loss')\n",
    "plt.plot(epochs, val_loss, label='Validation loss')\n",
    "plt.title('Training and validation loss')\n",
    "plt.xlabel('Epochs')\n",
    "plt.ylabel('Loss')\n",
    "plt.legend()\n",
    "\n",
    "plt.show()"
   ]
  },
  {
   "cell_type": "markdown",
   "id": "oriental-hamburg",
   "metadata": {},
   "source": [
    "### 2. 1-D CNN"
   ]
  },
  {
   "cell_type": "code",
   "execution_count": 15,
   "id": "tough-hebrew",
   "metadata": {},
   "outputs": [
    {
     "name": "stdout",
     "output_type": "stream",
     "text": [
      "Epoch 1/7\n",
      "227/227 [==============================] - 14s 48ms/step - loss: 0.5413 - accuracy: 0.7135 - val_loss: 0.3392 - val_accuracy: 0.8524\n",
      "Epoch 2/7\n",
      "227/227 [==============================] - 7s 30ms/step - loss: 0.3007 - accuracy: 0.8756 - val_loss: 0.3267 - val_accuracy: 0.8585\n",
      "Epoch 3/7\n",
      "227/227 [==============================] - 7s 29ms/step - loss: 0.2386 - accuracy: 0.9068 - val_loss: 0.3363 - val_accuracy: 0.8579\n",
      "Epoch 4/7\n",
      "227/227 [==============================] - 7s 29ms/step - loss: 0.1637 - accuracy: 0.9425 - val_loss: 0.3762 - val_accuracy: 0.8528\n",
      "Epoch 5/7\n",
      "227/227 [==============================] - 7s 30ms/step - loss: 0.1032 - accuracy: 0.9670 - val_loss: 0.4634 - val_accuracy: 0.8464\n",
      "Epoch 6/7\n",
      "227/227 [==============================] - 7s 30ms/step - loss: 0.0632 - accuracy: 0.9807 - val_loss: 0.5281 - val_accuracy: 0.8425\n",
      "Epoch 7/7\n",
      "227/227 [==============================] - 7s 29ms/step - loss: 0.0428 - accuracy: 0.9870 - val_loss: 0.6062 - val_accuracy: 0.8405\n"
     ]
    }
   ],
   "source": [
    "# 모델 학습\n",
    "D1CNNmodel.compile(optimizer='adam',\n",
    "                   loss='binary_crossentropy',\n",
    "                   metrics=['accuracy'])\n",
    "\n",
    "epochs = 7\n",
    "\n",
    "history2 = D1CNNmodel.fit(partial_x_train,\n",
    "                          partial_y_train,\n",
    "                          epochs=epochs,\n",
    "                          batch_size=512,\n",
    "                          validation_data=(x_val, y_val),\n",
    "                          verbose=1)"
   ]
  },
  {
   "cell_type": "code",
   "execution_count": 16,
   "id": "armed-lecture",
   "metadata": {},
   "outputs": [
    {
     "name": "stdout",
     "output_type": "stream",
     "text": [
      "1537/1537 - 5s - loss: 0.6411 - accuracy: 0.8342\n"
     ]
    }
   ],
   "source": [
    "# testset으로 평가\n",
    "results = D1CNNmodel.evaluate(X_test,  y_test, verbose=2)"
   ]
  },
  {
   "cell_type": "code",
   "execution_count": 17,
   "id": "certified-photograph",
   "metadata": {},
   "outputs": [
    {
     "name": "stdout",
     "output_type": "stream",
     "text": [
      "dict_keys(['loss', 'accuracy', 'val_loss', 'val_accuracy'])\n"
     ]
    },
    {
     "data": {
      "image/png": "[encoded data removed]",
      "text/plain": [
       "<Figure size 720x360 with 2 Axes>"
      ]
     },
     "metadata": {
      "needs_background": "light"
     },
     "output_type": "display_data"
    }
   ],
   "source": [
    "# 시각화\n",
    "history_dict = history2.history\n",
    "print(history_dict.keys()) # epoch에 따른 그래프를 그려볼 수 있는 항목들\n",
    "\n",
    "acc = history_dict['accuracy']\n",
    "val_acc = history_dict['val_accuracy']\n",
    "loss = history_dict['loss']\n",
    "val_loss = history_dict['val_loss']\n",
    "\n",
    "epochs = range(1, len(acc) + 1)\n",
    "\n",
    "# Accuracy 그래프\n",
    "plt.figure(figsize = (10,5))\n",
    "plt.subplot(1, 2, 1)\n",
    "plt.plot(epochs, acc, label='Training Accuracy')\n",
    "plt.plot(epochs, val_acc, label='Validation Accuracy')\n",
    "plt.title('Training and Validation Accuracy')\n",
    "plt.xlabel('Epochs')\n",
    "plt.ylabel('Accuracy')\n",
    "plt.legend()\n",
    "# Loss 그래프\n",
    "plt.subplot(1, 2, 2)\n",
    "plt.plot(epochs, loss, label='Training loss')\n",
    "plt.plot(epochs, val_loss, label='Validation loss')\n",
    "plt.title('Training and validation loss')\n",
    "plt.xlabel('Epochs')\n",
    "plt.ylabel('Loss')\n",
    "plt.legend()\n",
    "\n",
    "plt.show()"
   ]
  },
  {
   "cell_type": "markdown",
   "id": "australian-recruitment",
   "metadata": {},
   "source": [
    "### 3. GlobalMaxPooling1D"
   ]
  },
  {
   "cell_type": "code",
   "execution_count": 18,
   "id": "floating-sound",
   "metadata": {},
   "outputs": [
    {
     "name": "stdout",
     "output_type": "stream",
     "text": [
      "Epoch 1/7\n",
      "227/227 [==============================] - 6s 25ms/step - loss: 0.5937 - accuracy: 0.7265 - val_loss: 0.3580 - val_accuracy: 0.8433\n",
      "Epoch 2/7\n",
      "227/227 [==============================] - 5s 24ms/step - loss: 0.3278 - accuracy: 0.8626 - val_loss: 0.3358 - val_accuracy: 0.8535\n",
      "Epoch 3/7\n",
      "227/227 [==============================] - 5s 24ms/step - loss: 0.2710 - accuracy: 0.8916 - val_loss: 0.3365 - val_accuracy: 0.8544\n",
      "Epoch 4/7\n",
      "227/227 [==============================] - 5s 24ms/step - loss: 0.2304 - accuracy: 0.9116 - val_loss: 0.3493 - val_accuracy: 0.8556\n",
      "Epoch 5/7\n",
      "227/227 [==============================] - 5s 24ms/step - loss: 0.1924 - accuracy: 0.9305 - val_loss: 0.3673 - val_accuracy: 0.8523\n",
      "Epoch 6/7\n",
      "227/227 [==============================] - 5s 24ms/step - loss: 0.1532 - accuracy: 0.9483 - val_loss: 0.3952 - val_accuracy: 0.8517\n",
      "Epoch 7/7\n",
      "227/227 [==============================] - 5s 24ms/step - loss: 0.1160 - accuracy: 0.9650 - val_loss: 0.4282 - val_accuracy: 0.8493\n"
     ]
    }
   ],
   "source": [
    "# 모델 학습\n",
    "GMP1Dmodel.compile(optimizer='adam',\n",
    "                   loss='binary_crossentropy',\n",
    "                   metrics=['accuracy'])\n",
    "\n",
    "epochs = 7\n",
    "\n",
    "history3 = GMP1Dmodel.fit(partial_x_train,\n",
    "                          partial_y_train,\n",
    "                          epochs=epochs,\n",
    "                          batch_size=512,\n",
    "                          validation_data=(x_val, y_val),\n",
    "                          verbose=1)"
   ]
  },
  {
   "cell_type": "code",
   "execution_count": 19,
   "id": "pleased-crown",
   "metadata": {},
   "outputs": [
    {
     "name": "stdout",
     "output_type": "stream",
     "text": [
      "1537/1537 - 3s - loss: 0.4432 - accuracy: 0.8429\n"
     ]
    }
   ],
   "source": [
    "# testset으로 평가\n",
    "results = GMP1Dmodel.evaluate(X_test,  y_test, verbose=2)"
   ]
  },
  {
   "cell_type": "code",
   "execution_count": 20,
   "id": "minus-workstation",
   "metadata": {},
   "outputs": [
    {
     "name": "stdout",
     "output_type": "stream",
     "text": [
      "dict_keys(['loss', 'accuracy', 'val_loss', 'val_accuracy'])\n"
     ]
    },
    {
     "data": {
      "image/png": "[encoded data removed]",
      "text/plain": [
       "<Figure size 720x360 with 2 Axes>"
      ]
     },
     "metadata": {
      "needs_background": "light"
     },
     "output_type": "display_data"
    }
   ],
   "source": [
    "# 시각화\n",
    "history_dict = history3.history\n",
    "print(history_dict.keys()) # epoch에 따른 그래프를 그려볼 수 있는 항목들\n",
    "\n",
    "acc = history_dict['accuracy']\n",
    "val_acc = history_dict['val_accuracy']\n",
    "loss = history_dict['loss']\n",
    "val_loss = history_dict['val_loss']\n",
    "\n",
    "epochs = range(1, len(acc) + 1)\n",
    "\n",
    "# Accuracy 그래프\n",
    "plt.figure(figsize = (10,5))\n",
    "plt.subplot(1, 2, 1)\n",
    "plt.plot(epochs, acc, label='Training Accuracy')\n",
    "plt.plot(epochs, val_acc, label='Validation Accuracy')\n",
    "plt.title('Training and Validation Accuracy')\n",
    "plt.xlabel('Epochs')\n",
    "plt.ylabel('Accuracy')\n",
    "plt.legend()\n",
    "# Loss 그래프\n",
    "plt.subplot(1, 2, 2)\n",
    "plt.plot(epochs, loss, label='Training loss')\n",
    "plt.plot(epochs, val_loss, label='Validation loss')\n",
    "plt.title('Training and validation loss')\n",
    "plt.xlabel('Epochs')\n",
    "plt.ylabel('Loss')\n",
    "plt.legend()\n",
    "\n",
    "plt.show()"
   ]
  },
  {
   "cell_type": "markdown",
   "id": "toxic-terror",
   "metadata": {},
   "source": [
    "# 7) 학습된 Embedding 레이어 분석"
   ]
  },
  {
   "cell_type": "code",
   "execution_count": 21,
   "id": "extraordinary-milan",
   "metadata": {},
   "outputs": [
    {
     "name": "stdout",
     "output_type": "stream",
     "text": [
      "(10000, 200)\n"
     ]
    }
   ],
   "source": [
    "embedding_layer = LSTMmodel.layers[0]\n",
    "weights = embedding_layer.get_weights()[0]\n",
    "print(weights.shape)    # shape: (vocab_size, embedding_dim)"
   ]
  },
  {
   "cell_type": "code",
   "execution_count": 22,
   "id": "brief-closer",
   "metadata": {},
   "outputs": [],
   "source": [
    "import os\n",
    "\n",
    "# 학습한 Embedding 파라미터를 파일에 써서 저장\n",
    "word2vec_file_path = os.getenv('HOME')+'/aiffel/sentiment_classification/data/word2vec.txt'\n",
    "f = open(word2vec_file_path, 'w')\n",
    "f.write('{} {}\\n'.format(vocab_size-4, word_vector_dim))  # 몇개의 벡터를 얼마 사이즈로 기재할지 타이틀을 씀\n",
    "\n",
    "# 단어 개수(에서 특수문자 4개는 제외하고)만큼의 워드 벡터를 파일에 기록\n",
    "vectors = LSTMmodel.get_weights()[0]\n",
    "for i in range(4,vocab_size):\n",
    "    f.write('{} {}\\n'.format(index_to_word[i], ' '.join(map(str, list(vectors[i, :])))))\n",
    "f.close()"
   ]
  },
  {
   "cell_type": "code",
   "execution_count": 23,
   "id": "corporate-wound",
   "metadata": {},
   "outputs": [
    {
     "data": {
      "text/plain": [
       "array([-0.05408233, -0.07923312, -0.07333188,  0.01427919, -0.02996428,\n",
       "        0.02342098,  0.04339524,  0.03521543, -0.06725108, -0.02632448,\n",
       "       -0.09787676,  0.02828034,  0.04429861, -0.10128447,  0.02464617,\n",
       "       -0.00525555, -0.01935657,  0.05010162,  0.02702129,  0.11865626,\n",
       "        0.01154231, -0.02509702,  0.05490542,  0.02063285, -0.02776157,\n",
       "       -0.00264144,  0.02897376, -0.06673321, -0.05603962, -0.06958181,\n",
       "        0.10416506, -0.15967947,  0.00565122,  0.06770159, -0.03494377,\n",
       "       -0.08606029,  0.01925514, -0.04228349,  0.05293547,  0.03557471,\n",
       "        0.01989474,  0.03633023,  0.06233719, -0.01348058, -0.06899197,\n",
       "        0.01228596, -0.07555053, -0.08355996,  0.06932788, -0.01885492,\n",
       "        0.02334792,  0.03873186,  0.09283781, -0.00517423, -0.07605793,\n",
       "        0.04469941,  0.04594416, -0.01931314, -0.02884266,  0.03330001,\n",
       "       -0.03563881,  0.03071698, -0.04877485,  0.00145446, -0.01781845,\n",
       "        0.01913157,  0.01965923, -0.03506095,  0.00062177,  0.10035783,\n",
       "        0.02675815, -0.00120295,  0.0298347 , -0.01733729, -0.03053236,\n",
       "        0.06928582,  0.03124157,  0.01742915, -0.08123821,  0.03090583,\n",
       "       -0.10806588, -0.07065429,  0.02783452,  0.10087528, -0.01911529,\n",
       "        0.08575338, -0.06891692,  0.00907052, -0.06700156, -0.01644366,\n",
       "        0.01612783,  0.18719299,  0.02375106, -0.00199686,  0.08647677,\n",
       "        0.09460204,  0.04957302,  0.03622524,  0.00906151,  0.01336802,\n",
       "       -0.00340985, -0.08169702, -0.04603805, -0.03539225,  0.01376239,\n",
       "       -0.05418862,  0.11999734,  0.01377214, -0.02105301, -0.01399683,\n",
       "       -0.02528096,  0.0181538 ,  0.03841132,  0.00493758, -0.00673886,\n",
       "       -0.00450931, -0.00756924,  0.05794704,  0.10046566, -0.1401466 ,\n",
       "        0.00069894,  0.08984747, -0.02418072, -0.01700992, -0.04968748,\n",
       "       -0.04764621, -0.02478917,  0.0674476 ,  0.0208637 , -0.0324882 ,\n",
       "       -0.02771148, -0.03033529,  0.04229636,  0.04194868, -0.2105315 ,\n",
       "        0.05954756, -0.0200307 ,  0.08745817,  0.11901298,  0.08869454,\n",
       "       -0.13707972,  0.01067095, -0.00240649,  0.04294653,  0.03605892,\n",
       "        0.14539291, -0.12276236, -0.12005918, -0.15130487, -0.14539677,\n",
       "       -0.00407053,  0.0629588 ,  0.01804654,  0.02225144,  0.03100056,\n",
       "       -0.00622827,  0.00678194, -0.02808822,  0.09063699,  0.00549072,\n",
       "       -0.11114545,  0.05151428, -0.05590701, -0.00234511, -0.01649993,\n",
       "       -0.04479684, -0.06245935,  0.0558253 , -0.00804234, -0.18922208,\n",
       "       -0.02509847,  0.03600455, -0.08273462,  0.09559612, -0.0412788 ,\n",
       "       -0.00148001,  0.00154436,  0.01583645, -0.0494809 , -0.06961244,\n",
       "        0.00585767, -0.02335912,  0.00408767,  0.09213711, -0.08324265,\n",
       "       -0.01240487, -0.01434416,  0.02457046,  0.05249731, -0.01652854,\n",
       "       -0.03979051,  0.07862637,  0.05086018,  0.03462614, -0.07236437,\n",
       "        0.01880657,  0.00549705,  0.01352043, -0.01885371, -0.08126834],\n",
       "      dtype=float32)"
      ]
     },
     "execution_count": 23,
     "metadata": {},
     "output_type": "execute_result"
    }
   ],
   "source": [
    "from gensim.models.keyedvectors import Word2VecKeyedVectors\n",
    "# 임베딩 파라미터를 읽어서 word vector로 활용\n",
    "word_vectors = Word2VecKeyedVectors.load_word2vec_format(word2vec_file_path, binary=False)\n",
    "# word vector를 확인\n",
    "vector = word_vectors['영화']\n",
    "vector"
   ]
  },
  {
   "cell_type": "code",
   "execution_count": 24,
   "id": "artificial-miracle",
   "metadata": {},
   "outputs": [
    {
     "data": {
      "text/plain": [
       "[('ㅜㅜ', 0.7277578115463257),\n",
       " ('네요', 0.7220390439033508),\n",
       " ('습니다', 0.7200484275817871),\n",
       " ('음', 0.7093784809112549),\n",
       " ('~~', 0.6846742630004883),\n",
       " ('씀', 0.6819763779640198),\n",
       " ('다', 0.6795774698257446),\n",
       " ('\"\"\"', 0.6726246476173401),\n",
       " ('^^♥', 0.6691598296165466),\n",
       " ('넘침', 0.6672155857086182)]"
      ]
     },
     "execution_count": 24,
     "metadata": {},
     "output_type": "execute_result"
    }
   ],
   "source": [
    "# 가장 유사한 단어와 그 유사도를 확인\n",
    "word_vectors.similar_by_word(\"영화\")"
   ]
  },
  {
   "cell_type": "markdown",
   "id": "conditional-darwin",
   "metadata": {},
   "source": [
    "# 8) 한국어 Word2Vec 임베딩 활용하여 성능개선"
   ]
  },
  {
   "cell_type": "code",
   "execution_count": 25,
   "id": "compatible-butler",
   "metadata": {},
   "outputs": [
    {
     "name": "stderr",
     "output_type": "stream",
     "text": [
      "/opt/conda/lib/python3.7/site-packages/ipykernel_launcher.py:6: DeprecationWarning: Call to deprecated `__getitem__` (Method will be removed in 4.0.0, use self.wv.__getitem__() instead).\n",
      "  \n"
     ]
    },
    {
     "data": {
      "text/plain": [
       "array([-1.3740246 , -1.7353463 ,  3.3915305 , -2.569253  , -1.4016607 ,\n",
       "        1.4556127 ,  0.9414557 ,  1.9207907 ,  0.16471806,  0.4838317 ,\n",
       "       -0.8547181 ,  2.0879807 ,  0.86741775,  0.87539405, -0.09962013,\n",
       "        0.22928311, -1.1858722 ,  0.00858838,  1.4999928 , -0.16196461,\n",
       "       -0.35184434, -0.92390764,  1.0849575 ,  0.3025011 ,  2.7021565 ,\n",
       "       -1.0263684 ,  0.32864776, -0.76589465, -2.510981  , -0.66225356,\n",
       "        2.8434615 ,  0.50130975, -1.021874  , -1.4366034 ,  1.1110784 ,\n",
       "        0.5812605 , -0.5830406 , -0.5785423 ,  1.3634988 ,  2.3074338 ,\n",
       "       -1.4314893 ,  0.45745876,  1.1073523 , -3.2135262 , -0.2898375 ,\n",
       "       -1.1622221 ,  1.2369208 , -0.7622987 , -0.37757635,  1.1376442 ,\n",
       "        0.01065568, -0.69105595,  1.5159112 ,  1.1534518 , -1.0119992 ,\n",
       "       -0.5757404 ,  1.1349088 , -1.1289831 ,  0.13004152,  2.0451715 ,\n",
       "       -0.23940353,  1.3604902 ,  0.72700524,  0.32545742,  1.0612459 ,\n",
       "        0.42252553,  1.1442151 ,  2.8774905 ,  2.4377263 , -1.340305  ,\n",
       "        0.12629706, -0.07772489, -0.59053177, -0.19007324,  0.1396541 ,\n",
       "       -1.8655105 ,  0.9401054 ,  0.5150856 ,  0.7795373 , -0.86505556,\n",
       "        0.11842118, -1.8303713 ,  1.337177  , -1.0102932 , -0.37180334,\n",
       "        0.00893255, -0.49141577, -1.05802   , -2.5987291 ,  0.9731856 ,\n",
       "        0.34080654, -2.5973568 ,  1.0046519 , -1.3914212 , -0.6504351 ,\n",
       "       -0.9010805 , -1.1341541 ,  0.75565654,  1.2941337 ,  0.0880572 ,\n",
       "       -1.0341461 , -0.1750075 , -0.01880708, -1.0835075 , -2.0333962 ,\n",
       "        1.1372623 ,  1.0626172 , -1.8369784 , -2.2662086 , -3.382057  ,\n",
       "        1.6751666 , -0.2988223 , -0.25563756, -1.5594274 ,  0.6313433 ,\n",
       "       -1.2667153 , -1.6857744 , -1.0949599 ,  0.7742313 , -0.6095523 ,\n",
       "        3.19503   ,  0.13200459,  1.7937473 , -2.8782516 ,  1.3821276 ,\n",
       "        2.2895143 ,  0.0741943 , -0.41046414,  1.438796  ,  0.19373988,\n",
       "        1.4294034 ,  1.5025262 ,  1.4849502 ,  1.5754777 ,  2.7793512 ,\n",
       "       -0.6885003 , -0.30154693, -1.708323  ,  1.1030879 , -2.2597387 ,\n",
       "        1.1909146 ,  2.4399316 ,  0.3990314 ,  0.904154  ,  0.5454401 ,\n",
       "       -1.3235748 , -0.64812386,  0.22390233,  0.9657619 , -0.47360668,\n",
       "       -0.10278235, -1.0679734 , -0.91414386,  0.92069   ,  0.3549338 ,\n",
       "        0.32858834,  0.84870636,  3.596926  , -1.6651102 ,  0.23658653,\n",
       "        1.0515738 ,  0.40531915, -0.773514  , -0.93460965, -0.3946274 ,\n",
       "       -1.5657727 ,  1.183652  ,  2.5277    ,  0.57700926,  1.7051374 ,\n",
       "       -1.8249958 , -2.0328498 ,  0.6617798 ,  0.85747904,  0.31782728,\n",
       "       -1.1660796 ,  0.32923874,  2.2055087 , -0.12782003,  2.0455444 ,\n",
       "       -0.1724252 ,  0.46001154,  1.559042  , -1.6152996 , -0.84242785,\n",
       "        0.7553168 ,  0.39734274,  0.07714175,  0.05610155,  0.32837135,\n",
       "        1.0220716 ,  1.3816743 ,  0.8049544 ,  0.28728685, -0.97610044,\n",
       "        0.8861181 , -0.01250968, -1.4845604 , -1.5236791 , -1.5451258 ],\n",
       "      dtype=float32)"
      ]
     },
     "execution_count": 25,
     "metadata": {},
     "output_type": "execute_result"
    }
   ],
   "source": [
    "import gensim\n",
    "from gensim.models import KeyedVectors\n",
    "\n",
    "word2vec_path = os.getenv('HOME')+'/aiffel/sentiment_classification/data/ko.bin'\n",
    "word2vec = gensim.models.Word2Vec.load(word2vec_path)\n",
    "vector = word2vec['사랑']\n",
    "vector     # 무려 300dim의 워드 벡터입니다."
   ]
  },
  {
   "cell_type": "code",
   "execution_count": 26,
   "id": "instant-hurricane",
   "metadata": {},
   "outputs": [
    {
     "name": "stderr",
     "output_type": "stream",
     "text": [
      "/opt/conda/lib/python3.7/site-packages/ipykernel_launcher.py:1: DeprecationWarning: Call to deprecated `similar_by_word` (Method will be removed in 4.0.0, use self.wv.similar_by_word() instead).\n",
      "  \"\"\"Entry point for launching an IPython kernel.\n"
     ]
    },
    {
     "data": {
      "text/plain": [
       "[('다큐멘터리', 0.7265259027481079),\n",
       " ('영화사', 0.715214192867279),\n",
       " ('드라마', 0.705294132232666),\n",
       " ('뮤지컬', 0.6947016716003418),\n",
       " ('코미디', 0.69093257188797),\n",
       " ('영화인', 0.6702202558517456),\n",
       " ('서부극', 0.6571458578109741),\n",
       " ('스릴러', 0.6533164978027344),\n",
       " ('로맨스', 0.6428799629211426),\n",
       " ('애니메이션', 0.6425570249557495)]"
      ]
     },
     "execution_count": 26,
     "metadata": {},
     "output_type": "execute_result"
    }
   ],
   "source": [
    "word2vec.similar_by_word(\"영화\")"
   ]
  },
  {
   "cell_type": "code",
   "execution_count": 27,
   "id": "restricted-helping",
   "metadata": {},
   "outputs": [
    {
     "name": "stderr",
     "output_type": "stream",
     "text": [
      "/opt/conda/lib/python3.7/site-packages/ipykernel_launcher.py:7: DeprecationWarning: Call to deprecated `__contains__` (Method will be removed in 4.0.0, use self.wv.__contains__() instead).\n",
      "  import sys\n",
      "/opt/conda/lib/python3.7/site-packages/ipykernel_launcher.py:8: DeprecationWarning: Call to deprecated `__getitem__` (Method will be removed in 4.0.0, use self.wv.__getitem__() instead).\n",
      "  \n"
     ]
    }
   ],
   "source": [
    "vocab_size = 10000    # 어휘 사전의 크기입니다(10,000개의 단어)\n",
    "word_vector_dim = 200  # 워드 벡터의 차원수\n",
    "embedding_matrix = np.random.rand(vocab_size, word_vector_dim)\n",
    "\n",
    "# embedding_matrix에 Word2Vec 워드 벡터를 단어 하나씩마다 차례차례 카피한다.\n",
    "for i in range(4,vocab_size):\n",
    "    if index_to_word[i] in word2vec:\n",
    "        embedding_matrix[i] = word2vec[index_to_word[i]]"
   ]
  },
  {
   "cell_type": "code",
   "execution_count": 39,
   "id": "nearby-title",
   "metadata": {},
   "outputs": [
    {
     "name": "stdout",
     "output_type": "stream",
     "text": [
      "Model: \"sequential_5\"\n",
      "_________________________________________________________________\n",
      "Layer (type)                 Output Shape              Param #   \n",
      "=================================================================\n",
      "embedding_5 (Embedding)      (None, 41, 200)           2000000   \n",
      "_________________________________________________________________\n",
      "lstm_3 (LSTM)                (None, 8)                 6688      \n",
      "_________________________________________________________________\n",
      "dropout_2 (Dropout)          (None, 8)                 0         \n",
      "_________________________________________________________________\n",
      "dense_10 (Dense)             (None, 8)                 72        \n",
      "_________________________________________________________________\n",
      "dense_11 (Dense)             (None, 1)                 9         \n",
      "=================================================================\n",
      "Total params: 2,006,769\n",
      "Trainable params: 2,006,769\n",
      "Non-trainable params: 0\n",
      "_________________________________________________________________\n"
     ]
    }
   ],
   "source": [
    "from tensorflow.keras.initializers import Constant\n",
    "\n",
    "vocab_size = 10000    # 어휘 사전의 크기입니다(10,000개의 단어)\n",
    "word_vector_dim = 200  # 워드 벡터의 차원 수 \n",
    "\n",
    "# 모델 구성\n",
    "WLSTMmodel = keras.Sequential()\n",
    "WLSTMmodel.add(keras.layers.Embedding(vocab_size, \n",
    "                                      word_vector_dim, \n",
    "                                      embeddings_initializer=Constant(embedding_matrix),  # 카피한 임베딩을 여기서 활용\n",
    "                                      input_length=maxlen, \n",
    "                                      trainable=True))   # trainable을 True로 주면 Fine-tuning\n",
    "WLSTMmodel.add(keras.layers.LSTM(8))\n",
    "WLSTMmodel.add(keras.layers.Dropout(0.4))\n",
    "WLSTMmodel.add(keras.layers.Dense(8, activation='relu'))\n",
    "WLSTMmodel.add(keras.layers.Dense(1, activation='sigmoid')) \n",
    "\n",
    "WLSTMmodel.summary()"
   ]
  },
  {
   "cell_type": "code",
   "execution_count": 40,
   "id": "early-record",
   "metadata": {},
   "outputs": [
    {
     "name": "stdout",
     "output_type": "stream",
     "text": [
      "Epoch 1/7\n",
      "227/227 [==============================] - 9s 31ms/step - loss: 0.6363 - accuracy: 0.6248 - val_loss: 0.4252 - val_accuracy: 0.8147\n",
      "Epoch 2/7\n",
      "227/227 [==============================] - 7s 29ms/step - loss: 0.4262 - accuracy: 0.8164 - val_loss: 0.3658 - val_accuracy: 0.8433\n",
      "Epoch 3/7\n",
      "227/227 [==============================] - 7s 29ms/step - loss: 0.3590 - accuracy: 0.8514 - val_loss: 0.3452 - val_accuracy: 0.8513\n",
      "Epoch 4/7\n",
      "227/227 [==============================] - 7s 29ms/step - loss: 0.3291 - accuracy: 0.8672 - val_loss: 0.3399 - val_accuracy: 0.8556\n",
      "Epoch 5/7\n",
      "227/227 [==============================] - 7s 29ms/step - loss: 0.3102 - accuracy: 0.8738 - val_loss: 0.3396 - val_accuracy: 0.8556\n",
      "Epoch 6/7\n",
      "227/227 [==============================] - 7s 29ms/step - loss: 0.2916 - accuracy: 0.8843 - val_loss: 0.3380 - val_accuracy: 0.8592\n",
      "Epoch 7/7\n",
      "227/227 [==============================] - 6s 29ms/step - loss: 0.2840 - accuracy: 0.8873 - val_loss: 0.3400 - val_accuracy: 0.8580\n"
     ]
    }
   ],
   "source": [
    "WLSTMmodel.compile(optimizer='adam',\n",
    "                  loss='binary_crossentropy',\n",
    "                  metrics=['accuracy'])\n",
    "              \n",
    "epochs = 7\n",
    "\n",
    "history4 = WLSTMmodel.fit(partial_x_train,\n",
    "                          partial_y_train,\n",
    "                          epochs=epochs,\n",
    "                          batch_size=512,\n",
    "                          validation_data=(x_val, y_val),\n",
    "                          verbose=1)"
   ]
  },
  {
   "cell_type": "code",
   "execution_count": 41,
   "id": "jewish-demand",
   "metadata": {},
   "outputs": [
    {
     "name": "stdout",
     "output_type": "stream",
     "text": [
      "1537/1537 - 5s - loss: 0.3534 - accuracy: 0.8519\n"
     ]
    }
   ],
   "source": [
    "# testset으로 평가\n",
    "results = WLSTMmodel.evaluate(X_test,  y_test, verbose=2)"
   ]
  },
  {
   "cell_type": "code",
   "execution_count": 42,
   "id": "spatial-quebec",
   "metadata": {},
   "outputs": [
    {
     "name": "stdout",
     "output_type": "stream",
     "text": [
      "dict_keys(['loss', 'accuracy', 'val_loss', 'val_accuracy'])\n"
     ]
    },
    {
     "data": {
      "image/png": "[encoded data removed]",
      "text/plain": [
       "<Figure size 720x360 with 2 Axes>"
      ]
     },
     "metadata": {
      "needs_background": "light"
     },
     "output_type": "display_data"
    }
   ],
   "source": [
    "# 시각화\n",
    "history_dict = history4.history\n",
    "print(history_dict.keys()) # epoch에 따른 그래프를 그려볼 수 있는 항목들\n",
    "\n",
    "acc = history_dict['accuracy']\n",
    "val_acc = history_dict['val_accuracy']\n",
    "loss = history_dict['loss']\n",
    "val_loss = history_dict['val_loss']\n",
    "\n",
    "epochs = range(1, len(acc) + 1)\n",
    "\n",
    "# Accuracy 그래프\n",
    "plt.figure(figsize = (10,5))\n",
    "plt.subplot(1, 2, 1)\n",
    "plt.plot(epochs, acc, label='Training Accuracy')\n",
    "plt.plot(epochs, val_acc, label='Validation Accuracy')\n",
    "plt.title('Training and Validation Accuracy')\n",
    "plt.xlabel('Epochs')\n",
    "plt.ylabel('Accuracy')\n",
    "plt.legend()\n",
    "# Loss 그래프\n",
    "plt.subplot(1, 2, 2)\n",
    "plt.plot(epochs, loss, label='Training loss')\n",
    "plt.plot(epochs, val_loss, label='Validation loss')\n",
    "plt.title('Training and validation loss')\n",
    "plt.xlabel('Epochs')\n",
    "plt.ylabel('Loss')\n",
    "plt.legend()\n",
    "\n",
    "plt.show()"
   ]
  },
  {
   "cell_type": "markdown",
   "id": "large-cutting",
   "metadata": {},
   "source": [
    "---\n",
    "# 회고\n",
    "1. LSTM, 1-D CNN, GlobalMaxPooling1D 총 3가지 모델을 시도해보았다.   \n",
    "83~84%의 정확도였고 loss 값은 LSTM,GlobalMaxPooling1D,1-D CNN 순으로 낮았다.   \n",
    "epoch을 늘리면 늘릴수록 의미가 없다는것을 그래프로 확인을 하여서 기존 10번에서 7번으로 낮추었다.\n",
    "\n",
    "\n",
    "2. gensim의 유사 단어 찾기를 활용하여서 가장 좋았던 LSTM으로 자체 학습한 임베딩은 '영화'라는 단어에 관련이 없는 단어들이 나왔지만\n",
    "한글word2vec의 사전학습된 임베딩을 이용하니 '영화사','영화인','드라마' 등 유사단어들이 매우 잘 나오는것을 보아 사전에 학습된것이 얼마나 중요한지를 알 수 가 있었다.\n",
    "\n",
    "\n",
    "3. epoch를 더 낮추지 않고 dropout을 이용해서 오버피팅을 막아보자고 생각해서, 가장 성능이 좋았던 LSTM모델에 한글word2vec 임베딩을 활용해서 모델을 돌려보았더니 85.19%로 약 0.5%올랐지만 loss값이 3%나 낮아진것을 확인할 수 있었다. 역시나 사전학습된 임베딩을 이용하면 성능향상하는데 매우 좋다는 것을 느꼈다."
   ]
  },
  {
   "cell_type": "code",
   "execution_count": null,
   "id": "amateur-society",
   "metadata": {},
   "outputs": [],
   "source": []
  }
 ],
 "metadata": {
  "kernelspec": {
   "display_name": "Python 3",
   "language": "python",
   "name": "python3"
  },
  "language_info": {
   "codemirror_mode": {
    "name": "ipython",
    "version": 3
   },
   "file_extension": ".py",
   "mimetype": "text/x-python",
   "name": "python",
   "nbconvert_exporter": "python",
   "pygments_lexer": "ipython3",
   "version": "3.7.9"
  }
 },
 "nbformat": 4,
 "nbformat_minor": 5
}
